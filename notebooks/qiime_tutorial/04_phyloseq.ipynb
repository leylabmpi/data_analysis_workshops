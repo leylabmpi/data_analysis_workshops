{
 "cells": [
  {
   "cell_type": "markdown",
   "metadata": {
    "heading_collapsed": true,
    "slideshow": {
     "slide_type": "slide"
    }
   },
   "source": [
    "# Microbiome data analysis with R"
   ]
  },
  {
   "cell_type": "markdown",
   "metadata": {
    "hidden": true,
    "slideshow": {
     "slide_type": "slide"
    }
   },
   "source": [
    "## Phyloseq"
   ]
  },
  {
   "cell_type": "code",
   "execution_count": 1,
   "metadata": {
    "ExecuteTime": {
     "end_time": "2017-09-14T18:55:28.741011Z",
     "start_time": "2017-09-14T18:55:22.289Z"
    },
    "hidden": true
   },
   "outputs": [
    {
     "name": "stderr",
     "output_type": "stream",
     "text": [
      "\n",
      "Attaching package: ‘dplyr’\n",
      "\n",
      "The following objects are masked from ‘package:stats’:\n",
      "\n",
      "    filter, lag\n",
      "\n",
      "The following objects are masked from ‘package:base’:\n",
      "\n",
      "    intersect, setdiff, setequal, union\n",
      "\n"
     ]
    }
   ],
   "source": [
    "library(dplyr)\n",
    "library(tidyr)\n",
    "library(phyloseq)"
   ]
  },
  {
   "cell_type": "markdown",
   "metadata": {
    "slideshow": {
     "slide_type": "slide"
    }
   },
   "source": [
    "# Load biom"
   ]
  },
  {
   "cell_type": "code",
   "execution_count": 2,
   "metadata": {
    "ExecuteTime": {
     "end_time": "2017-09-14T18:55:31.241051Z",
     "start_time": "2017-09-14T18:55:24.129Z"
    }
   },
   "outputs": [
    {
     "name": "stderr",
     "output_type": "stream",
     "text": [
      "Warning message in strsplit(msg, \"\\n\"):\n",
      "“input string 1 is invalid in this locale”"
     ]
    },
    {
     "data": {
      "text/plain": [
       "phyloseq-class experiment-level object\n",
       "otu_table()   OTU Table:         [ 3465 taxa and 34 samples ]\n",
       "tax_table()   Taxonomy Table:    [ 3465 taxa by 7 taxonomic ranks ]"
      ]
     },
     "metadata": {},
     "output_type": "display_data"
    }
   ],
   "source": [
    "biom_otu_tax = import_biom('../../data/Qiime_Introduction_Tutorial/pick_otus/otu_table_mc2_w_tax.biom')\n",
    "biom_otu_tax"
   ]
  },
  {
   "cell_type": "markdown",
   "metadata": {
    "slideshow": {
     "slide_type": "slide"
    }
   },
   "source": [
    "## Adding mapping file"
   ]
  },
  {
   "cell_type": "code",
   "execution_count": 3,
   "metadata": {
    "ExecuteTime": {
     "end_time": "2017-09-14T18:55:32.087164Z",
     "start_time": "2017-09-14T18:55:30.395Z"
    },
    "slideshow": {
     "slide_type": "-"
    }
   },
   "outputs": [
    {
     "data": {
      "text/html": [
       "<table>\n",
       "<thead><tr><th></th><th scope=col>BarcodeSequence</th><th scope=col>LinkerPrimerSequence</th><th scope=col>SampleType</th><th scope=col>Year</th><th scope=col>Month</th><th scope=col>Day</th><th scope=col>Subject</th><th scope=col>ReportedAntibioticUsage</th><th scope=col>DaysSinceExperimentStart</th><th scope=col>Description</th></tr></thead>\n",
       "<tbody>\n",
       "\t<tr><th scope=row>L1S8</th><td>AGCTGACTAGTC       </td><td>GTGCCAGCMGCCGCGGTAA</td><td>gut                </td><td>2008               </td><td>10                 </td><td>28                 </td><td>1                  </td><td>Yes                </td><td> 0                 </td><td>1_Fece_10_28_2008  </td></tr>\n",
       "\t<tr><th scope=row>L1S140</th><td>ATGGCAGCTCTA       </td><td>GTGCCAGCMGCCGCGGTAA</td><td>gut                </td><td>2008               </td><td>10                 </td><td>28                 </td><td>2                  </td><td>Yes                </td><td> 0                 </td><td>2_Fece_10_28_2008  </td></tr>\n",
       "\t<tr><th scope=row>L1S57</th><td>ACACACTATGGC       </td><td>GTGCCAGCMGCCGCGGTAA</td><td>gut                </td><td>2009               </td><td> 1                 </td><td>20                 </td><td>1                  </td><td>No                 </td><td>84                 </td><td>1_Fece_1_20_2009   </td></tr>\n",
       "</tbody>\n",
       "</table>\n"
      ],
      "text/latex": [
       "\\begin{tabular}{r|llllllllll}\n",
       "  & BarcodeSequence & LinkerPrimerSequence & SampleType & Year & Month & Day & Subject & ReportedAntibioticUsage & DaysSinceExperimentStart & Description\\\\\n",
       "\\hline\n",
       "\tL1S8 & AGCTGACTAGTC              & GTGCCAGCMGCCGCGGTAA       & gut                       & 2008                      & 10                        & 28                        & 1                         & Yes                       &  0                        & 1\\_Fece\\_10\\_28\\_2008\\\\\n",
       "\tL1S140 & ATGGCAGCTCTA              & GTGCCAGCMGCCGCGGTAA       & gut                       & 2008                      & 10                        & 28                        & 2                         & Yes                       &  0                        & 2\\_Fece\\_10\\_28\\_2008\\\\\n",
       "\tL1S57 & ACACACTATGGC              & GTGCCAGCMGCCGCGGTAA       & gut                       & 2009                      &  1                        & 20                        & 1                         & No                        & 84                        & 1\\_Fece\\_1\\_20\\_2009 \\\\\n",
       "\\end{tabular}\n"
      ],
      "text/markdown": [
       "\n",
       "| <!--/--> | BarcodeSequence | LinkerPrimerSequence | SampleType | Year | Month | Day | Subject | ReportedAntibioticUsage | DaysSinceExperimentStart | Description | \n",
       "|---|---|---|\n",
       "| L1S8 | AGCTGACTAGTC        | GTGCCAGCMGCCGCGGTAA | gut                 | 2008                | 10                  | 28                  | 1                   | Yes                 |  0                  | 1_Fece_10_28_2008   | \n",
       "| L1S140 | ATGGCAGCTCTA        | GTGCCAGCMGCCGCGGTAA | gut                 | 2008                | 10                  | 28                  | 2                   | Yes                 |  0                  | 2_Fece_10_28_2008   | \n",
       "| L1S57 | ACACACTATGGC        | GTGCCAGCMGCCGCGGTAA | gut                 | 2009                |  1                  | 20                  | 1                   | No                  | 84                  | 1_Fece_1_20_2009    | \n",
       "\n",
       "\n"
      ],
      "text/plain": [
       "       BarcodeSequence LinkerPrimerSequence SampleType Year Month Day Subject\n",
       "L1S8   AGCTGACTAGTC    GTGCCAGCMGCCGCGGTAA  gut        2008 10    28  1      \n",
       "L1S140 ATGGCAGCTCTA    GTGCCAGCMGCCGCGGTAA  gut        2008 10    28  2      \n",
       "L1S57  ACACACTATGGC    GTGCCAGCMGCCGCGGTAA  gut        2009  1    20  1      \n",
       "       ReportedAntibioticUsage DaysSinceExperimentStart Description      \n",
       "L1S8   Yes                      0                       1_Fece_10_28_2008\n",
       "L1S140 Yes                      0                       2_Fece_10_28_2008\n",
       "L1S57  No                      84                       1_Fece_1_20_2009 "
      ]
     },
     "metadata": {},
     "output_type": "display_data"
    }
   ],
   "source": [
    "m = read.delim('../../data/Qiime_Introduction_Tutorial/mapping_file.txt', sep='\\t', row.names=1)\n",
    "m %>% head(n=3)"
   ]
  },
  {
   "cell_type": "code",
   "execution_count": 4,
   "metadata": {
    "ExecuteTime": {
     "end_time": "2017-09-14T18:55:32.327889Z",
     "start_time": "2017-09-14T18:55:30.842Z"
    }
   },
   "outputs": [
    {
     "data": {
      "text/plain": [
       "phyloseq-class experiment-level object\n",
       "otu_table()   OTU Table:         [ 3465 taxa and 34 samples ]\n",
       "sample_data() Sample Data:       [ 34 samples by 10 sample variables ]\n",
       "tax_table()   Taxonomy Table:    [ 3465 taxa by 7 taxonomic ranks ]"
      ]
     },
     "metadata": {},
     "output_type": "display_data"
    }
   ],
   "source": [
    "biom_otu_tax = phyloseq(otu_table(biom_otu_tax),\n",
    "                        tax_table(biom_otu_tax),\n",
    "                        sample_data(m))\n",
    "biom_otu_tax"
   ]
  },
  {
   "cell_type": "markdown",
   "metadata": {
    "slideshow": {
     "slide_type": "slide"
    }
   },
   "source": [
    "# Dataset summary"
   ]
  },
  {
   "cell_type": "code",
   "execution_count": 5,
   "metadata": {
    "ExecuteTime": {
     "end_time": "2017-09-14T18:55:32.424104Z",
     "start_time": "2017-09-14T18:55:31.593Z"
    }
   },
   "outputs": [
    {
     "data": {
      "text/html": [
       "3465"
      ],
      "text/latex": [
       "3465"
      ],
      "text/markdown": [
       "3465"
      ],
      "text/plain": [
       "[1] 3465"
      ]
     },
     "metadata": {},
     "output_type": "display_data"
    }
   ],
   "source": [
    "ntaxa(biom_otu_tax)"
   ]
  },
  {
   "cell_type": "code",
   "execution_count": 6,
   "metadata": {
    "ExecuteTime": {
     "end_time": "2017-09-14T18:55:32.453501Z",
     "start_time": "2017-09-14T18:55:31.823Z"
    }
   },
   "outputs": [
    {
     "data": {
      "text/html": [
       "34"
      ],
      "text/latex": [
       "34"
      ],
      "text/markdown": [
       "34"
      ],
      "text/plain": [
       "[1] 34"
      ]
     },
     "metadata": {},
     "output_type": "display_data"
    }
   ],
   "source": [
    "nsamples(biom_otu_tax)"
   ]
  },
  {
   "cell_type": "code",
   "execution_count": 7,
   "metadata": {
    "ExecuteTime": {
     "end_time": "2017-09-14T18:55:32.483023Z",
     "start_time": "2017-09-14T18:55:32.033Z"
    }
   },
   "outputs": [
    {
     "data": {
      "text/html": [
       "<ol class=list-inline>\n",
       "\t<li>'L1S140'</li>\n",
       "\t<li>'L1S208'</li>\n",
       "\t<li>'L1S8'</li>\n",
       "\t<li>'L1S281'</li>\n",
       "\t<li>'L3S242'</li>\n",
       "\t<li>'L2S309'</li>\n",
       "\t<li>'L2S357'</li>\n",
       "\t<li>'L4S112'</li>\n",
       "\t<li>'L2S155'</li>\n",
       "\t<li>'L2S382'</li>\n",
       "\t<li>'L4S63'</li>\n",
       "\t<li>'L2S222'</li>\n",
       "\t<li>'L3S341'</li>\n",
       "\t<li>'L3S360'</li>\n",
       "\t<li>'L2S204'</li>\n",
       "\t<li>'L4S137'</li>\n",
       "\t<li>'L3S294'</li>\n",
       "\t<li>'L2S175'</li>\n",
       "\t<li>'L5S203'</li>\n",
       "\t<li>'L6S93'</li>\n",
       "\t<li>'L6S20'</li>\n",
       "\t<li>'L6S68'</li>\n",
       "\t<li>'L1S257'</li>\n",
       "\t<li>'L3S378'</li>\n",
       "\t<li>'L1S105'</li>\n",
       "\t<li>'L5S174'</li>\n",
       "\t<li>'L5S155'</li>\n",
       "\t<li>'L5S222'</li>\n",
       "\t<li>'L5S104'</li>\n",
       "\t<li>'L1S57'</li>\n",
       "\t<li>'L1S76'</li>\n",
       "\t<li>'L5S240'</li>\n",
       "\t<li>'L3S313'</li>\n",
       "\t<li>'L2S240'</li>\n",
       "</ol>\n"
      ],
      "text/latex": [
       "\\begin{enumerate*}\n",
       "\\item 'L1S140'\n",
       "\\item 'L1S208'\n",
       "\\item 'L1S8'\n",
       "\\item 'L1S281'\n",
       "\\item 'L3S242'\n",
       "\\item 'L2S309'\n",
       "\\item 'L2S357'\n",
       "\\item 'L4S112'\n",
       "\\item 'L2S155'\n",
       "\\item 'L2S382'\n",
       "\\item 'L4S63'\n",
       "\\item 'L2S222'\n",
       "\\item 'L3S341'\n",
       "\\item 'L3S360'\n",
       "\\item 'L2S204'\n",
       "\\item 'L4S137'\n",
       "\\item 'L3S294'\n",
       "\\item 'L2S175'\n",
       "\\item 'L5S203'\n",
       "\\item 'L6S93'\n",
       "\\item 'L6S20'\n",
       "\\item 'L6S68'\n",
       "\\item 'L1S257'\n",
       "\\item 'L3S378'\n",
       "\\item 'L1S105'\n",
       "\\item 'L5S174'\n",
       "\\item 'L5S155'\n",
       "\\item 'L5S222'\n",
       "\\item 'L5S104'\n",
       "\\item 'L1S57'\n",
       "\\item 'L1S76'\n",
       "\\item 'L5S240'\n",
       "\\item 'L3S313'\n",
       "\\item 'L2S240'\n",
       "\\end{enumerate*}\n"
      ],
      "text/markdown": [
       "1. 'L1S140'\n",
       "2. 'L1S208'\n",
       "3. 'L1S8'\n",
       "4. 'L1S281'\n",
       "5. 'L3S242'\n",
       "6. 'L2S309'\n",
       "7. 'L2S357'\n",
       "8. 'L4S112'\n",
       "9. 'L2S155'\n",
       "10. 'L2S382'\n",
       "11. 'L4S63'\n",
       "12. 'L2S222'\n",
       "13. 'L3S341'\n",
       "14. 'L3S360'\n",
       "15. 'L2S204'\n",
       "16. 'L4S137'\n",
       "17. 'L3S294'\n",
       "18. 'L2S175'\n",
       "19. 'L5S203'\n",
       "20. 'L6S93'\n",
       "21. 'L6S20'\n",
       "22. 'L6S68'\n",
       "23. 'L1S257'\n",
       "24. 'L3S378'\n",
       "25. 'L1S105'\n",
       "26. 'L5S174'\n",
       "27. 'L5S155'\n",
       "28. 'L5S222'\n",
       "29. 'L5S104'\n",
       "30. 'L1S57'\n",
       "31. 'L1S76'\n",
       "32. 'L5S240'\n",
       "33. 'L3S313'\n",
       "34. 'L2S240'\n",
       "\n",
       "\n"
      ],
      "text/plain": [
       " [1] \"L1S140\" \"L1S208\" \"L1S8\"   \"L1S281\" \"L3S242\" \"L2S309\" \"L2S357\" \"L4S112\"\n",
       " [9] \"L2S155\" \"L2S382\" \"L4S63\"  \"L2S222\" \"L3S341\" \"L3S360\" \"L2S204\" \"L4S137\"\n",
       "[17] \"L3S294\" \"L2S175\" \"L5S203\" \"L6S93\"  \"L6S20\"  \"L6S68\"  \"L1S257\" \"L3S378\"\n",
       "[25] \"L1S105\" \"L5S174\" \"L5S155\" \"L5S222\" \"L5S104\" \"L1S57\"  \"L1S76\"  \"L5S240\"\n",
       "[33] \"L3S313\" \"L2S240\""
      ]
     },
     "metadata": {},
     "output_type": "display_data"
    }
   ],
   "source": [
    "sample_names(biom_otu_tax)"
   ]
  },
  {
   "cell_type": "code",
   "execution_count": 8,
   "metadata": {
    "ExecuteTime": {
     "end_time": "2017-09-14T18:55:32.512944Z",
     "start_time": "2017-09-14T18:55:32.233Z"
    }
   },
   "outputs": [
    {
     "data": {
      "text/html": [
       "<ol class=list-inline>\n",
       "\t<li>'BarcodeSequence'</li>\n",
       "\t<li>'LinkerPrimerSequence'</li>\n",
       "\t<li>'SampleType'</li>\n",
       "\t<li>'Year'</li>\n",
       "\t<li>'Month'</li>\n",
       "\t<li>'Day'</li>\n",
       "\t<li>'Subject'</li>\n",
       "\t<li>'ReportedAntibioticUsage'</li>\n",
       "\t<li>'DaysSinceExperimentStart'</li>\n",
       "\t<li>'Description'</li>\n",
       "</ol>\n"
      ],
      "text/latex": [
       "\\begin{enumerate*}\n",
       "\\item 'BarcodeSequence'\n",
       "\\item 'LinkerPrimerSequence'\n",
       "\\item 'SampleType'\n",
       "\\item 'Year'\n",
       "\\item 'Month'\n",
       "\\item 'Day'\n",
       "\\item 'Subject'\n",
       "\\item 'ReportedAntibioticUsage'\n",
       "\\item 'DaysSinceExperimentStart'\n",
       "\\item 'Description'\n",
       "\\end{enumerate*}\n"
      ],
      "text/markdown": [
       "1. 'BarcodeSequence'\n",
       "2. 'LinkerPrimerSequence'\n",
       "3. 'SampleType'\n",
       "4. 'Year'\n",
       "5. 'Month'\n",
       "6. 'Day'\n",
       "7. 'Subject'\n",
       "8. 'ReportedAntibioticUsage'\n",
       "9. 'DaysSinceExperimentStart'\n",
       "10. 'Description'\n",
       "\n",
       "\n"
      ],
      "text/plain": [
       " [1] \"BarcodeSequence\"          \"LinkerPrimerSequence\"    \n",
       " [3] \"SampleType\"               \"Year\"                    \n",
       " [5] \"Month\"                    \"Day\"                     \n",
       " [7] \"Subject\"                  \"ReportedAntibioticUsage\" \n",
       " [9] \"DaysSinceExperimentStart\" \"Description\"             "
      ]
     },
     "metadata": {},
     "output_type": "display_data"
    }
   ],
   "source": [
    "sample_variables(biom_otu_tax)"
   ]
  },
  {
   "cell_type": "markdown",
   "metadata": {
    "slideshow": {
     "slide_type": "slide"
    }
   },
   "source": [
    "# Parsing the dataset"
   ]
  },
  {
   "cell_type": "code",
   "execution_count": 9,
   "metadata": {
    "ExecuteTime": {
     "end_time": "2017-09-14T18:55:32.653307Z",
     "start_time": "2017-09-14T18:55:32.655Z"
    }
   },
   "outputs": [
    {
     "data": {
      "text/html": [
       "<table>\n",
       "<thead><tr><th></th><th scope=col>BarcodeSequence</th><th scope=col>LinkerPrimerSequence</th><th scope=col>SampleType</th><th scope=col>Year</th><th scope=col>Month</th><th scope=col>Day</th><th scope=col>Subject</th><th scope=col>ReportedAntibioticUsage</th><th scope=col>DaysSinceExperimentStart</th><th scope=col>Description</th></tr></thead>\n",
       "<tbody>\n",
       "\t<tr><th scope=row>L1S140</th><td>ATGGCAGCTCTA       </td><td>GTGCCAGCMGCCGCGGTAA</td><td>gut                </td><td>2008               </td><td>10                 </td><td>28                 </td><td>2                  </td><td>Yes                </td><td>  0                </td><td>2_Fece_10_28_2008  </td></tr>\n",
       "\t<tr><th scope=row>L1S208</th><td>CTGAGATACGCG       </td><td>GTGCCAGCMGCCGCGGTAA</td><td>gut                </td><td>2009               </td><td> 1                 </td><td>20                 </td><td>2                  </td><td>No                 </td><td> 84                </td><td>2_Fece_1_20_2009   </td></tr>\n",
       "\t<tr><th scope=row>L1S8</th><td>AGCTGACTAGTC       </td><td>GTGCCAGCMGCCGCGGTAA</td><td>gut                </td><td>2008               </td><td>10                 </td><td>28                 </td><td>1                  </td><td>Yes                </td><td>  0                </td><td>1_Fece_10_28_2008  </td></tr>\n",
       "\t<tr><th scope=row>L1S281</th><td>CCTCTCGTGATC       </td><td>GTGCCAGCMGCCGCGGTAA</td><td>gut                </td><td>2009               </td><td> 4                 </td><td>14                 </td><td>2                  </td><td>No                 </td><td>168                </td><td>2_Fece_4_14_2009   </td></tr>\n",
       "\t<tr><th scope=row>L3S242</th><td>ACAGTTGCGCGA       </td><td>GTGCCAGCMGCCGCGGTAA</td><td>right palm         </td><td>2008               </td><td>10                 </td><td>28                 </td><td>1                  </td><td>Yes                </td><td>  0                </td><td>1_R_Palm_10_28_2008</td></tr>\n",
       "\t<tr><th scope=row>L2S309</th><td>CGTGCATTATCA       </td><td>GTGCCAGCMGCCGCGGTAA</td><td>left palm          </td><td>2009               </td><td> 1                 </td><td>20                 </td><td>2                  </td><td>No                 </td><td> 84                </td><td>2_L_Palm_1_20_2009 </td></tr>\n",
       "\t<tr><th scope=row>L2S357</th><td>CTAACGCAGTCA       </td><td>GTGCCAGCMGCCGCGGTAA</td><td>left palm          </td><td>2009               </td><td> 3                 </td><td>17                 </td><td>2                  </td><td>No                 </td><td>140                </td><td>2_L_Palm_3_17_2009 </td></tr>\n",
       "\t<tr><th scope=row>L4S112</th><td>GCGTTACACACA       </td><td>GTGCCAGCMGCCGCGGTAA</td><td>right palm         </td><td>2009               </td><td> 3                 </td><td>17                 </td><td>2                  </td><td>No                 </td><td>140                </td><td>2_R_Palm_3_17_2009 </td></tr>\n",
       "\t<tr><th scope=row>L2S155</th><td>ACGATGCGACCA       </td><td>GTGCCAGCMGCCGCGGTAA</td><td>left palm          </td><td>2009               </td><td> 1                 </td><td>20                 </td><td>1                  </td><td>No                 </td><td> 84                </td><td>1_L_Palm_1_20_2009 </td></tr>\n",
       "\t<tr><th scope=row>L2S382</th><td>CTCAATGACTCA       </td><td>GTGCCAGCMGCCGCGGTAA</td><td>left palm          </td><td>2009               </td><td> 4                 </td><td>14                 </td><td>2                  </td><td>No                 </td><td>168                </td><td>2_L_Palm_4_14_2009 </td></tr>\n",
       "\t<tr><th scope=row>L4S63</th><td>CTCGTGGAGTAG       </td><td>GTGCCAGCMGCCGCGGTAA</td><td>right palm         </td><td>2009               </td><td> 1                 </td><td>20                 </td><td>2                  </td><td>No                 </td><td> 84                </td><td>2_R_Palm_1_20_2009 </td></tr>\n",
       "\t<tr><th scope=row>L2S222</th><td>CACGTGACATGT       </td><td>GTGCCAGCMGCCGCGGTAA</td><td>left palm          </td><td>2009               </td><td> 4                 </td><td>14                 </td><td>1                  </td><td>No                 </td><td>168                </td><td>1_L_Palm_4_14_2009 </td></tr>\n",
       "\t<tr><th scope=row>L3S341</th><td>CAAGTGAGAGAG       </td><td>GTGCCAGCMGCCGCGGTAA</td><td>right palm         </td><td>2009               </td><td> 3                 </td><td>17                 </td><td>1                  </td><td>No                 </td><td>140                </td><td>1_R_Palm_3_17_2009 </td></tr>\n",
       "\t<tr><th scope=row>L3S360</th><td>CATCGTATCAAC       </td><td>GTGCCAGCMGCCGCGGTAA</td><td>right palm         </td><td>2009               </td><td> 4                 </td><td>14                 </td><td>1                  </td><td>No                 </td><td>168                </td><td>1_R_Palm_4_14_2009 </td></tr>\n",
       "\t<tr><th scope=row>L2S204</th><td>ATGCAGCTCAGT       </td><td>GTGCCAGCMGCCGCGGTAA</td><td>left palm          </td><td>2009               </td><td> 3                 </td><td>17                 </td><td>1                  </td><td>No                 </td><td>140                </td><td>1_L_Palm_3_17_2009 </td></tr>\n",
       "\t<tr><th scope=row>L4S137</th><td>GAACTGTATCTC       </td><td>GTGCCAGCMGCCGCGGTAA</td><td>right palm         </td><td>2009               </td><td> 4                 </td><td>14                 </td><td>2                  </td><td>No                 </td><td>168                </td><td>2_R_Palm_4_14_2009 </td></tr>\n",
       "\t<tr><th scope=row>L3S294</th><td>CACGACAGGCTA       </td><td>GTGCCAGCMGCCGCGGTAA</td><td>right palm         </td><td>2009               </td><td> 1                 </td><td>20                 </td><td>1                  </td><td>No                 </td><td> 84                </td><td>1_R_Palm_1_20_2009 </td></tr>\n",
       "\t<tr><th scope=row>L2S175</th><td>AGCTATCCACGA       </td><td>GTGCCAGCMGCCGCGGTAA</td><td>left palm          </td><td>2009               </td><td> 2                 </td><td>17                 </td><td>1                  </td><td>No                 </td><td>112                </td><td>1_L_Palm_2_17_2009 </td></tr>\n",
       "\t<tr><th scope=row>L5S203</th><td>CGATGCACCAGA       </td><td>GTGCCAGCMGCCGCGGTAA</td><td>tongue             </td><td>2009               </td><td> 3                 </td><td>17                 </td><td>1                  </td><td>No                 </td><td>140                </td><td>1_Tong_3_17_2009   </td></tr>\n",
       "\t<tr><th scope=row>L6S93</th><td>GATTAGCACTCT       </td><td>GTGCCAGCMGCCGCGGTAA</td><td>tongue             </td><td>2009               </td><td> 4                 </td><td>14                 </td><td>2                  </td><td>No                 </td><td>168                </td><td>2_Tong_4_14_2009   </td></tr>\n",
       "\t<tr><th scope=row>L6S20</th><td>GAGGCTCATCAT       </td><td>GTGCCAGCMGCCGCGGTAA</td><td>tongue             </td><td>2009               </td><td> 1                 </td><td>20                 </td><td>2                  </td><td>No                 </td><td> 84                </td><td>2_Tong_1_20_2009   </td></tr>\n",
       "\t<tr><th scope=row>L6S68</th><td>GATACGTCCTGA       </td><td>GTGCCAGCMGCCGCGGTAA</td><td>tongue             </td><td>2009               </td><td> 3                 </td><td>17                 </td><td>2                  </td><td>No                 </td><td>140                </td><td>2_Tong_3_17_2009   </td></tr>\n",
       "\t<tr><th scope=row>L1S257</th><td>CCGACTGAGATG       </td><td>GTGCCAGCMGCCGCGGTAA</td><td>gut                </td><td>2009               </td><td> 3                 </td><td>17                 </td><td>2                  </td><td>No                 </td><td>140                </td><td>2_Fece_3_17_2009   </td></tr>\n",
       "\t<tr><th scope=row>L3S378</th><td>ATCGATCTGTGG       </td><td>GTGCCAGCMGCCGCGGTAA</td><td>right palm         </td><td>2008               </td><td>10                 </td><td>28                 </td><td>2                  </td><td>Yes                </td><td>  0                </td><td>2_R_Palm_10_28_2008</td></tr>\n",
       "\t<tr><th scope=row>L1S105</th><td>AGTGCGATGCGT       </td><td>GTGCCAGCMGCCGCGGTAA</td><td>gut                </td><td>2009               </td><td> 3                 </td><td>17                 </td><td>1                  </td><td>No                 </td><td>140                </td><td>1_Fece_3_17_2009   </td></tr>\n",
       "\t<tr><th scope=row>L5S174</th><td>CAGACATTGCGT       </td><td>GTGCCAGCMGCCGCGGTAA</td><td>tongue             </td><td>2009               </td><td> 2                 </td><td>17                 </td><td>1                  </td><td>No                 </td><td>112                </td><td>1_Tong_2_17_2009   </td></tr>\n",
       "\t<tr><th scope=row>L5S155</th><td>ATCTTAGACTGC       </td><td>GTGCCAGCMGCCGCGGTAA</td><td>tongue             </td><td>2009               </td><td> 1                 </td><td>20                 </td><td>1                  </td><td>No                 </td><td> 84                </td><td>1_Tong_1_20_2009   </td></tr>\n",
       "\t<tr><th scope=row>L5S222</th><td>CTAGAGACTCTT       </td><td>GTGCCAGCMGCCGCGGTAA</td><td>tongue             </td><td>2009               </td><td> 4                 </td><td>14                 </td><td>1                  </td><td>No                 </td><td>168                </td><td>1_Tong_4_14_2009   </td></tr>\n",
       "\t<tr><th scope=row>L5S104</th><td>CAGTGTCAGGAC       </td><td>GTGCCAGCMGCCGCGGTAA</td><td>tongue             </td><td>2008               </td><td>10                 </td><td>28                 </td><td>1                  </td><td>Yes                </td><td>  0                </td><td>1_Tong_10_28_2008  </td></tr>\n",
       "\t<tr><th scope=row>L1S57</th><td>ACACACTATGGC       </td><td>GTGCCAGCMGCCGCGGTAA</td><td>gut                </td><td>2009               </td><td> 1                 </td><td>20                 </td><td>1                  </td><td>No                 </td><td> 84                </td><td>1_Fece_1_20_2009   </td></tr>\n",
       "\t<tr><th scope=row>L1S76</th><td>ACTACGTGTGGT       </td><td>GTGCCAGCMGCCGCGGTAA</td><td>gut                </td><td>2009               </td><td> 2                 </td><td>17                 </td><td>1                  </td><td>No                 </td><td>112                </td><td>1_Fece_2_17_2009   </td></tr>\n",
       "\t<tr><th scope=row>L5S240</th><td>CTGGACTCATAG       </td><td>GTGCCAGCMGCCGCGGTAA</td><td>tongue             </td><td>2008               </td><td>10                 </td><td>28                 </td><td>2                  </td><td>Yes                </td><td>  0                </td><td>2_Tong_10_28_2008  </td></tr>\n",
       "\t<tr><th scope=row>L3S313</th><td>AGTGTCACGGTG       </td><td>GTGCCAGCMGCCGCGGTAA</td><td>right palm         </td><td>2009               </td><td> 2                 </td><td>17                 </td><td>1                  </td><td>No                 </td><td>112                </td><td>1_R_Palm_2_17_2009 </td></tr>\n",
       "\t<tr><th scope=row>L2S240</th><td>CATATCGCAGTT       </td><td>GTGCCAGCMGCCGCGGTAA</td><td>left palm          </td><td>2008               </td><td>10                 </td><td>28                 </td><td>2                  </td><td>Yes                </td><td>  0                </td><td>2_L_Palm_10_28_2008</td></tr>\n",
       "</tbody>\n",
       "</table>\n"
      ],
      "text/latex": [
       "\\begin{tabular}{r|llllllllll}\n",
       "  & BarcodeSequence & LinkerPrimerSequence & SampleType & Year & Month & Day & Subject & ReportedAntibioticUsage & DaysSinceExperimentStart & Description\\\\\n",
       "\\hline\n",
       "\tL1S140 & ATGGCAGCTCTA                & GTGCCAGCMGCCGCGGTAA         & gut                         & 2008                        & 10                          & 28                          & 2                           & Yes                         &   0                         & 2\\_Fece\\_10\\_28\\_2008  \\\\\n",
       "\tL1S208 & CTGAGATACGCG                & GTGCCAGCMGCCGCGGTAA         & gut                         & 2009                        &  1                          & 20                          & 2                           & No                          &  84                         & 2\\_Fece\\_1\\_20\\_2009   \\\\\n",
       "\tL1S8 & AGCTGACTAGTC                & GTGCCAGCMGCCGCGGTAA         & gut                         & 2008                        & 10                          & 28                          & 1                           & Yes                         &   0                         & 1\\_Fece\\_10\\_28\\_2008  \\\\\n",
       "\tL1S281 & CCTCTCGTGATC                & GTGCCAGCMGCCGCGGTAA         & gut                         & 2009                        &  4                          & 14                          & 2                           & No                          & 168                         & 2\\_Fece\\_4\\_14\\_2009   \\\\\n",
       "\tL3S242 & ACAGTTGCGCGA                  & GTGCCAGCMGCCGCGGTAA           & right palm                    & 2008                          & 10                            & 28                            & 1                             & Yes                           &   0                           & 1\\_R\\_Palm\\_10\\_28\\_2008\\\\\n",
       "\tL2S309 & CGTGCATTATCA                  & GTGCCAGCMGCCGCGGTAA           & left palm                     & 2009                          &  1                            & 20                            & 2                             & No                            &  84                           & 2\\_L\\_Palm\\_1\\_20\\_2009 \\\\\n",
       "\tL2S357 & CTAACGCAGTCA                  & GTGCCAGCMGCCGCGGTAA           & left palm                     & 2009                          &  3                            & 17                            & 2                             & No                            & 140                           & 2\\_L\\_Palm\\_3\\_17\\_2009 \\\\\n",
       "\tL4S112 & GCGTTACACACA                  & GTGCCAGCMGCCGCGGTAA           & right palm                    & 2009                          &  3                            & 17                            & 2                             & No                            & 140                           & 2\\_R\\_Palm\\_3\\_17\\_2009 \\\\\n",
       "\tL2S155 & ACGATGCGACCA                  & GTGCCAGCMGCCGCGGTAA           & left palm                     & 2009                          &  1                            & 20                            & 1                             & No                            &  84                           & 1\\_L\\_Palm\\_1\\_20\\_2009 \\\\\n",
       "\tL2S382 & CTCAATGACTCA                  & GTGCCAGCMGCCGCGGTAA           & left palm                     & 2009                          &  4                            & 14                            & 2                             & No                            & 168                           & 2\\_L\\_Palm\\_4\\_14\\_2009 \\\\\n",
       "\tL4S63 & CTCGTGGAGTAG                  & GTGCCAGCMGCCGCGGTAA           & right palm                    & 2009                          &  1                            & 20                            & 2                             & No                            &  84                           & 2\\_R\\_Palm\\_1\\_20\\_2009 \\\\\n",
       "\tL2S222 & CACGTGACATGT                  & GTGCCAGCMGCCGCGGTAA           & left palm                     & 2009                          &  4                            & 14                            & 1                             & No                            & 168                           & 1\\_L\\_Palm\\_4\\_14\\_2009 \\\\\n",
       "\tL3S341 & CAAGTGAGAGAG                  & GTGCCAGCMGCCGCGGTAA           & right palm                    & 2009                          &  3                            & 17                            & 1                             & No                            & 140                           & 1\\_R\\_Palm\\_3\\_17\\_2009 \\\\\n",
       "\tL3S360 & CATCGTATCAAC                  & GTGCCAGCMGCCGCGGTAA           & right palm                    & 2009                          &  4                            & 14                            & 1                             & No                            & 168                           & 1\\_R\\_Palm\\_4\\_14\\_2009 \\\\\n",
       "\tL2S204 & ATGCAGCTCAGT                  & GTGCCAGCMGCCGCGGTAA           & left palm                     & 2009                          &  3                            & 17                            & 1                             & No                            & 140                           & 1\\_L\\_Palm\\_3\\_17\\_2009 \\\\\n",
       "\tL4S137 & GAACTGTATCTC                  & GTGCCAGCMGCCGCGGTAA           & right palm                    & 2009                          &  4                            & 14                            & 2                             & No                            & 168                           & 2\\_R\\_Palm\\_4\\_14\\_2009 \\\\\n",
       "\tL3S294 & CACGACAGGCTA                  & GTGCCAGCMGCCGCGGTAA           & right palm                    & 2009                          &  1                            & 20                            & 1                             & No                            &  84                           & 1\\_R\\_Palm\\_1\\_20\\_2009 \\\\\n",
       "\tL2S175 & AGCTATCCACGA                  & GTGCCAGCMGCCGCGGTAA           & left palm                     & 2009                          &  2                            & 17                            & 1                             & No                            & 112                           & 1\\_L\\_Palm\\_2\\_17\\_2009 \\\\\n",
       "\tL5S203 & CGATGCACCAGA                & GTGCCAGCMGCCGCGGTAA         & tongue                      & 2009                        &  3                          & 17                          & 1                           & No                          & 140                         & 1\\_Tong\\_3\\_17\\_2009   \\\\\n",
       "\tL6S93 & GATTAGCACTCT                & GTGCCAGCMGCCGCGGTAA         & tongue                      & 2009                        &  4                          & 14                          & 2                           & No                          & 168                         & 2\\_Tong\\_4\\_14\\_2009   \\\\\n",
       "\tL6S20 & GAGGCTCATCAT                & GTGCCAGCMGCCGCGGTAA         & tongue                      & 2009                        &  1                          & 20                          & 2                           & No                          &  84                         & 2\\_Tong\\_1\\_20\\_2009   \\\\\n",
       "\tL6S68 & GATACGTCCTGA                & GTGCCAGCMGCCGCGGTAA         & tongue                      & 2009                        &  3                          & 17                          & 2                           & No                          & 140                         & 2\\_Tong\\_3\\_17\\_2009   \\\\\n",
       "\tL1S257 & CCGACTGAGATG                & GTGCCAGCMGCCGCGGTAA         & gut                         & 2009                        &  3                          & 17                          & 2                           & No                          & 140                         & 2\\_Fece\\_3\\_17\\_2009   \\\\\n",
       "\tL3S378 & ATCGATCTGTGG                  & GTGCCAGCMGCCGCGGTAA           & right palm                    & 2008                          & 10                            & 28                            & 2                             & Yes                           &   0                           & 2\\_R\\_Palm\\_10\\_28\\_2008\\\\\n",
       "\tL1S105 & AGTGCGATGCGT                & GTGCCAGCMGCCGCGGTAA         & gut                         & 2009                        &  3                          & 17                          & 1                           & No                          & 140                         & 1\\_Fece\\_3\\_17\\_2009   \\\\\n",
       "\tL5S174 & CAGACATTGCGT                & GTGCCAGCMGCCGCGGTAA         & tongue                      & 2009                        &  2                          & 17                          & 1                           & No                          & 112                         & 1\\_Tong\\_2\\_17\\_2009   \\\\\n",
       "\tL5S155 & ATCTTAGACTGC                & GTGCCAGCMGCCGCGGTAA         & tongue                      & 2009                        &  1                          & 20                          & 1                           & No                          &  84                         & 1\\_Tong\\_1\\_20\\_2009   \\\\\n",
       "\tL5S222 & CTAGAGACTCTT                & GTGCCAGCMGCCGCGGTAA         & tongue                      & 2009                        &  4                          & 14                          & 1                           & No                          & 168                         & 1\\_Tong\\_4\\_14\\_2009   \\\\\n",
       "\tL5S104 & CAGTGTCAGGAC                & GTGCCAGCMGCCGCGGTAA         & tongue                      & 2008                        & 10                          & 28                          & 1                           & Yes                         &   0                         & 1\\_Tong\\_10\\_28\\_2008  \\\\\n",
       "\tL1S57 & ACACACTATGGC                & GTGCCAGCMGCCGCGGTAA         & gut                         & 2009                        &  1                          & 20                          & 1                           & No                          &  84                         & 1\\_Fece\\_1\\_20\\_2009   \\\\\n",
       "\tL1S76 & ACTACGTGTGGT                & GTGCCAGCMGCCGCGGTAA         & gut                         & 2009                        &  2                          & 17                          & 1                           & No                          & 112                         & 1\\_Fece\\_2\\_17\\_2009   \\\\\n",
       "\tL5S240 & CTGGACTCATAG                & GTGCCAGCMGCCGCGGTAA         & tongue                      & 2008                        & 10                          & 28                          & 2                           & Yes                         &   0                         & 2\\_Tong\\_10\\_28\\_2008  \\\\\n",
       "\tL3S313 & AGTGTCACGGTG                  & GTGCCAGCMGCCGCGGTAA           & right palm                    & 2009                          &  2                            & 17                            & 1                             & No                            & 112                           & 1\\_R\\_Palm\\_2\\_17\\_2009 \\\\\n",
       "\tL2S240 & CATATCGCAGTT                  & GTGCCAGCMGCCGCGGTAA           & left palm                     & 2008                          & 10                            & 28                            & 2                             & Yes                           &   0                           & 2\\_L\\_Palm\\_10\\_28\\_2008\\\\\n",
       "\\end{tabular}\n"
      ],
      "text/markdown": [
       "\n",
       "| <!--/--> | BarcodeSequence | LinkerPrimerSequence | SampleType | Year | Month | Day | Subject | ReportedAntibioticUsage | DaysSinceExperimentStart | Description | \n",
       "|---|---|---|---|---|---|---|---|---|---|---|---|---|---|---|---|---|---|---|---|---|---|---|---|---|---|---|---|---|---|---|---|---|---|\n",
       "| L1S140 | ATGGCAGCTCTA        | GTGCCAGCMGCCGCGGTAA | gut                 | 2008                | 10                  | 28                  | 2                   | Yes                 |   0                 | 2_Fece_10_28_2008   | \n",
       "| L1S208 | CTGAGATACGCG        | GTGCCAGCMGCCGCGGTAA | gut                 | 2009                |  1                  | 20                  | 2                   | No                  |  84                 | 2_Fece_1_20_2009    | \n",
       "| L1S8 | AGCTGACTAGTC        | GTGCCAGCMGCCGCGGTAA | gut                 | 2008                | 10                  | 28                  | 1                   | Yes                 |   0                 | 1_Fece_10_28_2008   | \n",
       "| L1S281 | CCTCTCGTGATC        | GTGCCAGCMGCCGCGGTAA | gut                 | 2009                |  4                  | 14                  | 2                   | No                  | 168                 | 2_Fece_4_14_2009    | \n",
       "| L3S242 | ACAGTTGCGCGA        | GTGCCAGCMGCCGCGGTAA | right palm          | 2008                | 10                  | 28                  | 1                   | Yes                 |   0                 | 1_R_Palm_10_28_2008 | \n",
       "| L2S309 | CGTGCATTATCA        | GTGCCAGCMGCCGCGGTAA | left palm           | 2009                |  1                  | 20                  | 2                   | No                  |  84                 | 2_L_Palm_1_20_2009  | \n",
       "| L2S357 | CTAACGCAGTCA        | GTGCCAGCMGCCGCGGTAA | left palm           | 2009                |  3                  | 17                  | 2                   | No                  | 140                 | 2_L_Palm_3_17_2009  | \n",
       "| L4S112 | GCGTTACACACA        | GTGCCAGCMGCCGCGGTAA | right palm          | 2009                |  3                  | 17                  | 2                   | No                  | 140                 | 2_R_Palm_3_17_2009  | \n",
       "| L2S155 | ACGATGCGACCA        | GTGCCAGCMGCCGCGGTAA | left palm           | 2009                |  1                  | 20                  | 1                   | No                  |  84                 | 1_L_Palm_1_20_2009  | \n",
       "| L2S382 | CTCAATGACTCA        | GTGCCAGCMGCCGCGGTAA | left palm           | 2009                |  4                  | 14                  | 2                   | No                  | 168                 | 2_L_Palm_4_14_2009  | \n",
       "| L4S63 | CTCGTGGAGTAG        | GTGCCAGCMGCCGCGGTAA | right palm          | 2009                |  1                  | 20                  | 2                   | No                  |  84                 | 2_R_Palm_1_20_2009  | \n",
       "| L2S222 | CACGTGACATGT        | GTGCCAGCMGCCGCGGTAA | left palm           | 2009                |  4                  | 14                  | 1                   | No                  | 168                 | 1_L_Palm_4_14_2009  | \n",
       "| L3S341 | CAAGTGAGAGAG        | GTGCCAGCMGCCGCGGTAA | right palm          | 2009                |  3                  | 17                  | 1                   | No                  | 140                 | 1_R_Palm_3_17_2009  | \n",
       "| L3S360 | CATCGTATCAAC        | GTGCCAGCMGCCGCGGTAA | right palm          | 2009                |  4                  | 14                  | 1                   | No                  | 168                 | 1_R_Palm_4_14_2009  | \n",
       "| L2S204 | ATGCAGCTCAGT        | GTGCCAGCMGCCGCGGTAA | left palm           | 2009                |  3                  | 17                  | 1                   | No                  | 140                 | 1_L_Palm_3_17_2009  | \n",
       "| L4S137 | GAACTGTATCTC        | GTGCCAGCMGCCGCGGTAA | right palm          | 2009                |  4                  | 14                  | 2                   | No                  | 168                 | 2_R_Palm_4_14_2009  | \n",
       "| L3S294 | CACGACAGGCTA        | GTGCCAGCMGCCGCGGTAA | right palm          | 2009                |  1                  | 20                  | 1                   | No                  |  84                 | 1_R_Palm_1_20_2009  | \n",
       "| L2S175 | AGCTATCCACGA        | GTGCCAGCMGCCGCGGTAA | left palm           | 2009                |  2                  | 17                  | 1                   | No                  | 112                 | 1_L_Palm_2_17_2009  | \n",
       "| L5S203 | CGATGCACCAGA        | GTGCCAGCMGCCGCGGTAA | tongue              | 2009                |  3                  | 17                  | 1                   | No                  | 140                 | 1_Tong_3_17_2009    | \n",
       "| L6S93 | GATTAGCACTCT        | GTGCCAGCMGCCGCGGTAA | tongue              | 2009                |  4                  | 14                  | 2                   | No                  | 168                 | 2_Tong_4_14_2009    | \n",
       "| L6S20 | GAGGCTCATCAT        | GTGCCAGCMGCCGCGGTAA | tongue              | 2009                |  1                  | 20                  | 2                   | No                  |  84                 | 2_Tong_1_20_2009    | \n",
       "| L6S68 | GATACGTCCTGA        | GTGCCAGCMGCCGCGGTAA | tongue              | 2009                |  3                  | 17                  | 2                   | No                  | 140                 | 2_Tong_3_17_2009    | \n",
       "| L1S257 | CCGACTGAGATG        | GTGCCAGCMGCCGCGGTAA | gut                 | 2009                |  3                  | 17                  | 2                   | No                  | 140                 | 2_Fece_3_17_2009    | \n",
       "| L3S378 | ATCGATCTGTGG        | GTGCCAGCMGCCGCGGTAA | right palm          | 2008                | 10                  | 28                  | 2                   | Yes                 |   0                 | 2_R_Palm_10_28_2008 | \n",
       "| L1S105 | AGTGCGATGCGT        | GTGCCAGCMGCCGCGGTAA | gut                 | 2009                |  3                  | 17                  | 1                   | No                  | 140                 | 1_Fece_3_17_2009    | \n",
       "| L5S174 | CAGACATTGCGT        | GTGCCAGCMGCCGCGGTAA | tongue              | 2009                |  2                  | 17                  | 1                   | No                  | 112                 | 1_Tong_2_17_2009    | \n",
       "| L5S155 | ATCTTAGACTGC        | GTGCCAGCMGCCGCGGTAA | tongue              | 2009                |  1                  | 20                  | 1                   | No                  |  84                 | 1_Tong_1_20_2009    | \n",
       "| L5S222 | CTAGAGACTCTT        | GTGCCAGCMGCCGCGGTAA | tongue              | 2009                |  4                  | 14                  | 1                   | No                  | 168                 | 1_Tong_4_14_2009    | \n",
       "| L5S104 | CAGTGTCAGGAC        | GTGCCAGCMGCCGCGGTAA | tongue              | 2008                | 10                  | 28                  | 1                   | Yes                 |   0                 | 1_Tong_10_28_2008   | \n",
       "| L1S57 | ACACACTATGGC        | GTGCCAGCMGCCGCGGTAA | gut                 | 2009                |  1                  | 20                  | 1                   | No                  |  84                 | 1_Fece_1_20_2009    | \n",
       "| L1S76 | ACTACGTGTGGT        | GTGCCAGCMGCCGCGGTAA | gut                 | 2009                |  2                  | 17                  | 1                   | No                  | 112                 | 1_Fece_2_17_2009    | \n",
       "| L5S240 | CTGGACTCATAG        | GTGCCAGCMGCCGCGGTAA | tongue              | 2008                | 10                  | 28                  | 2                   | Yes                 |   0                 | 2_Tong_10_28_2008   | \n",
       "| L3S313 | AGTGTCACGGTG        | GTGCCAGCMGCCGCGGTAA | right palm          | 2009                |  2                  | 17                  | 1                   | No                  | 112                 | 1_R_Palm_2_17_2009  | \n",
       "| L2S240 | CATATCGCAGTT        | GTGCCAGCMGCCGCGGTAA | left palm           | 2008                | 10                  | 28                  | 2                   | Yes                 |   0                 | 2_L_Palm_10_28_2008 | \n",
       "\n",
       "\n"
      ],
      "text/plain": [
       "       BarcodeSequence LinkerPrimerSequence SampleType Year Month Day Subject\n",
       "L1S140 ATGGCAGCTCTA    GTGCCAGCMGCCGCGGTAA  gut        2008 10    28  2      \n",
       "L1S208 CTGAGATACGCG    GTGCCAGCMGCCGCGGTAA  gut        2009  1    20  2      \n",
       "L1S8   AGCTGACTAGTC    GTGCCAGCMGCCGCGGTAA  gut        2008 10    28  1      \n",
       "L1S281 CCTCTCGTGATC    GTGCCAGCMGCCGCGGTAA  gut        2009  4    14  2      \n",
       "L3S242 ACAGTTGCGCGA    GTGCCAGCMGCCGCGGTAA  right palm 2008 10    28  1      \n",
       "L2S309 CGTGCATTATCA    GTGCCAGCMGCCGCGGTAA  left palm  2009  1    20  2      \n",
       "L2S357 CTAACGCAGTCA    GTGCCAGCMGCCGCGGTAA  left palm  2009  3    17  2      \n",
       "L4S112 GCGTTACACACA    GTGCCAGCMGCCGCGGTAA  right palm 2009  3    17  2      \n",
       "L2S155 ACGATGCGACCA    GTGCCAGCMGCCGCGGTAA  left palm  2009  1    20  1      \n",
       "L2S382 CTCAATGACTCA    GTGCCAGCMGCCGCGGTAA  left palm  2009  4    14  2      \n",
       "L4S63  CTCGTGGAGTAG    GTGCCAGCMGCCGCGGTAA  right palm 2009  1    20  2      \n",
       "L2S222 CACGTGACATGT    GTGCCAGCMGCCGCGGTAA  left palm  2009  4    14  1      \n",
       "L3S341 CAAGTGAGAGAG    GTGCCAGCMGCCGCGGTAA  right palm 2009  3    17  1      \n",
       "L3S360 CATCGTATCAAC    GTGCCAGCMGCCGCGGTAA  right palm 2009  4    14  1      \n",
       "L2S204 ATGCAGCTCAGT    GTGCCAGCMGCCGCGGTAA  left palm  2009  3    17  1      \n",
       "L4S137 GAACTGTATCTC    GTGCCAGCMGCCGCGGTAA  right palm 2009  4    14  2      \n",
       "L3S294 CACGACAGGCTA    GTGCCAGCMGCCGCGGTAA  right palm 2009  1    20  1      \n",
       "L2S175 AGCTATCCACGA    GTGCCAGCMGCCGCGGTAA  left palm  2009  2    17  1      \n",
       "L5S203 CGATGCACCAGA    GTGCCAGCMGCCGCGGTAA  tongue     2009  3    17  1      \n",
       "L6S93  GATTAGCACTCT    GTGCCAGCMGCCGCGGTAA  tongue     2009  4    14  2      \n",
       "L6S20  GAGGCTCATCAT    GTGCCAGCMGCCGCGGTAA  tongue     2009  1    20  2      \n",
       "L6S68  GATACGTCCTGA    GTGCCAGCMGCCGCGGTAA  tongue     2009  3    17  2      \n",
       "L1S257 CCGACTGAGATG    GTGCCAGCMGCCGCGGTAA  gut        2009  3    17  2      \n",
       "L3S378 ATCGATCTGTGG    GTGCCAGCMGCCGCGGTAA  right palm 2008 10    28  2      \n",
       "L1S105 AGTGCGATGCGT    GTGCCAGCMGCCGCGGTAA  gut        2009  3    17  1      \n",
       "L5S174 CAGACATTGCGT    GTGCCAGCMGCCGCGGTAA  tongue     2009  2    17  1      \n",
       "L5S155 ATCTTAGACTGC    GTGCCAGCMGCCGCGGTAA  tongue     2009  1    20  1      \n",
       "L5S222 CTAGAGACTCTT    GTGCCAGCMGCCGCGGTAA  tongue     2009  4    14  1      \n",
       "L5S104 CAGTGTCAGGAC    GTGCCAGCMGCCGCGGTAA  tongue     2008 10    28  1      \n",
       "L1S57  ACACACTATGGC    GTGCCAGCMGCCGCGGTAA  gut        2009  1    20  1      \n",
       "L1S76  ACTACGTGTGGT    GTGCCAGCMGCCGCGGTAA  gut        2009  2    17  1      \n",
       "L5S240 CTGGACTCATAG    GTGCCAGCMGCCGCGGTAA  tongue     2008 10    28  2      \n",
       "L3S313 AGTGTCACGGTG    GTGCCAGCMGCCGCGGTAA  right palm 2009  2    17  1      \n",
       "L2S240 CATATCGCAGTT    GTGCCAGCMGCCGCGGTAA  left palm  2008 10    28  2      \n",
       "       ReportedAntibioticUsage DaysSinceExperimentStart Description        \n",
       "L1S140 Yes                       0                      2_Fece_10_28_2008  \n",
       "L1S208 No                       84                      2_Fece_1_20_2009   \n",
       "L1S8   Yes                       0                      1_Fece_10_28_2008  \n",
       "L1S281 No                      168                      2_Fece_4_14_2009   \n",
       "L3S242 Yes                       0                      1_R_Palm_10_28_2008\n",
       "L2S309 No                       84                      2_L_Palm_1_20_2009 \n",
       "L2S357 No                      140                      2_L_Palm_3_17_2009 \n",
       "L4S112 No                      140                      2_R_Palm_3_17_2009 \n",
       "L2S155 No                       84                      1_L_Palm_1_20_2009 \n",
       "L2S382 No                      168                      2_L_Palm_4_14_2009 \n",
       "L4S63  No                       84                      2_R_Palm_1_20_2009 \n",
       "L2S222 No                      168                      1_L_Palm_4_14_2009 \n",
       "L3S341 No                      140                      1_R_Palm_3_17_2009 \n",
       "L3S360 No                      168                      1_R_Palm_4_14_2009 \n",
       "L2S204 No                      140                      1_L_Palm_3_17_2009 \n",
       "L4S137 No                      168                      2_R_Palm_4_14_2009 \n",
       "L3S294 No                       84                      1_R_Palm_1_20_2009 \n",
       "L2S175 No                      112                      1_L_Palm_2_17_2009 \n",
       "L5S203 No                      140                      1_Tong_3_17_2009   \n",
       "L6S93  No                      168                      2_Tong_4_14_2009   \n",
       "L6S20  No                       84                      2_Tong_1_20_2009   \n",
       "L6S68  No                      140                      2_Tong_3_17_2009   \n",
       "L1S257 No                      140                      2_Fece_3_17_2009   \n",
       "L3S378 Yes                       0                      2_R_Palm_10_28_2008\n",
       "L1S105 No                      140                      1_Fece_3_17_2009   \n",
       "L5S174 No                      112                      1_Tong_2_17_2009   \n",
       "L5S155 No                       84                      1_Tong_1_20_2009   \n",
       "L5S222 No                      168                      1_Tong_4_14_2009   \n",
       "L5S104 Yes                       0                      1_Tong_10_28_2008  \n",
       "L1S57  No                       84                      1_Fece_1_20_2009   \n",
       "L1S76  No                      112                      1_Fece_2_17_2009   \n",
       "L5S240 Yes                       0                      2_Tong_10_28_2008  \n",
       "L3S313 No                      112                      1_R_Palm_2_17_2009 \n",
       "L2S240 Yes                       0                      2_L_Palm_10_28_2008"
      ]
     },
     "metadata": {},
     "output_type": "display_data"
    }
   ],
   "source": [
    "sample_data(biom_otu_tax) "
   ]
  },
  {
   "cell_type": "markdown",
   "metadata": {
    "slideshow": {
     "slide_type": "slide"
    }
   },
   "source": [
    "## Selecting particular samples "
   ]
  },
  {
   "cell_type": "code",
   "execution_count": 10,
   "metadata": {
    "ExecuteTime": {
     "end_time": "2017-09-14T18:55:32.766116Z",
     "start_time": "2017-09-14T18:55:33.000Z"
    },
    "slideshow": {
     "slide_type": "-"
    }
   },
   "outputs": [
    {
     "data": {
      "text/plain": [
       "phyloseq-class experiment-level object\n",
       "otu_table()   OTU Table:         [ 3465 taxa and 8 samples ]\n",
       "sample_data() Sample Data:       [ 8 samples by 10 sample variables ]\n",
       "tax_table()   Taxonomy Table:    [ 3465 taxa by 7 taxonomic ranks ]"
      ]
     },
     "metadata": {},
     "output_type": "display_data"
    }
   ],
   "source": [
    "subset_samples(biom_otu_tax, SampleType == 'gut')"
   ]
  },
  {
   "cell_type": "markdown",
   "metadata": {
    "slideshow": {
     "slide_type": "slide"
    }
   },
   "source": [
    "## Selecting particular taxa"
   ]
  },
  {
   "cell_type": "code",
   "execution_count": 11,
   "metadata": {
    "ExecuteTime": {
     "end_time": "2017-09-14T18:55:33.529498Z",
     "start_time": "2017-09-14T18:55:33.385Z"
    }
   },
   "outputs": [
    {
     "data": {
      "text/plain": [
       "phyloseq-class experiment-level object\n",
       "otu_table()   OTU Table:         [ 680 taxa and 34 samples ]\n",
       "sample_data() Sample Data:       [ 34 samples by 10 sample variables ]\n",
       "tax_table()   Taxonomy Table:    [ 680 taxa by 7 taxonomic ranks ]"
      ]
     },
     "metadata": {},
     "output_type": "display_data"
    }
   ],
   "source": [
    "subset_taxa(biom_otu_tax, Rank2==\"p__Bacteroidetes\")"
   ]
  },
  {
   "cell_type": "markdown",
   "metadata": {
    "slideshow": {
     "slide_type": "slide"
    }
   },
   "source": [
    "## Filtering taxa with low abundance"
   ]
  },
  {
   "cell_type": "code",
   "execution_count": 12,
   "metadata": {
    "ExecuteTime": {
     "end_time": "2017-09-14T18:55:33.670665Z",
     "start_time": "2017-09-14T18:55:33.752Z"
    },
    "collapsed": true
   },
   "outputs": [],
   "source": [
    "# total sum scaling \n",
    "biom_otu_tax_TSS = transform_sample_counts(biom_otu_tax, function(x) x / sum(x))"
   ]
  },
  {
   "cell_type": "code",
   "execution_count": 13,
   "metadata": {
    "ExecuteTime": {
     "end_time": "2017-09-14T18:55:33.805416Z",
     "start_time": "2017-09-14T18:55:33.946Z"
    }
   },
   "outputs": [
    {
     "data": {
      "text/plain": [
       "phyloseq-class experiment-level object\n",
       "otu_table()   OTU Table:         [ 119 taxa and 34 samples ]\n",
       "sample_data() Sample Data:       [ 34 samples by 10 sample variables ]\n",
       "tax_table()   Taxonomy Table:    [ 119 taxa by 7 taxonomic ranks ]"
      ]
     },
     "metadata": {},
     "output_type": "display_data"
    }
   ],
   "source": [
    "filter_taxa(biom_otu_tax_TSS, function(x) mean(x) > 1e-3, TRUE)"
   ]
  },
  {
   "cell_type": "markdown",
   "metadata": {
    "slideshow": {
     "slide_type": "slide"
    }
   },
   "source": [
    "# Plotting data"
   ]
  },
  {
   "cell_type": "markdown",
   "metadata": {
    "slideshow": {
     "slide_type": "slide"
    }
   },
   "source": [
    "## Alpha diversity"
   ]
  },
  {
   "cell_type": "code",
   "execution_count": 14,
   "metadata": {
    "ExecuteTime": {
     "end_time": "2017-09-14T18:55:36.988221Z",
     "start_time": "2017-09-14T18:55:34.880Z"
    }
   },
   "outputs": [
    {
     "name": "stderr",
     "output_type": "stream",
     "text": [
      "Warning message:\n",
      "“Removed 68 rows containing missing values (geom_errorbar).”"
     ]
    },
    {
     "data": {},
     "metadata": {},
     "output_type": "display_data"
    },
    {
     "data": {
      "image/png": "[encoded data removed]",
      "text/plain": [
       "plot without title"
      ]
     },
     "metadata": {},
     "output_type": "display_data"
    }
   ],
   "source": [
    "options(repr.plot.height=4)\n",
    "alpha_meas = c(\"Observed\", \"Chao1\", \"Shannon\")\n",
    "plot_richness(biom_otu_tax, \"SampleType\", measures=alpha_meas)"
   ]
  },
  {
   "cell_type": "markdown",
   "metadata": {
    "slideshow": {
     "slide_type": "slide"
    }
   },
   "source": [
    "## Taxon abundances"
   ]
  },
  {
   "cell_type": "code",
   "execution_count": 15,
   "metadata": {
    "ExecuteTime": {
     "end_time": "2017-09-14T18:55:50.005428Z",
     "start_time": "2017-09-14T18:55:35.600Z"
    }
   },
   "outputs": [
    {
     "data": {},
     "metadata": {},
     "output_type": "display_data"
    },
    {
     "data": {
      "image/png": "[encoded data removed]",
      "text/plain": [
       "plot without title"
      ]
     },
     "metadata": {},
     "output_type": "display_data"
    }
   ],
   "source": [
    "x = subset_taxa(biom_otu_tax, Rank2 %in% c(\"p__Bacteroidetes\", \"p__Firmicutes\"))\n",
    "plot_bar(x, \"SampleType\", facet_grid=~Rank2)"
   ]
  },
  {
   "cell_type": "markdown",
   "metadata": {
    "slideshow": {
     "slide_type": "slide"
    }
   },
   "source": [
    "## Ordinations"
   ]
  },
  {
   "cell_type": "code",
   "execution_count": 16,
   "metadata": {
    "ExecuteTime": {
     "end_time": "2017-09-14T18:55:50.680441Z",
     "start_time": "2017-09-14T18:55:36.336Z"
    }
   },
   "outputs": [
    {
     "data": {},
     "metadata": {},
     "output_type": "display_data"
    },
    {
     "data": {
      "image/png": "[encoded data removed]",
      "text/plain": [
       "plot without title"
      ]
     },
     "metadata": {},
     "output_type": "display_data"
    }
   ],
   "source": [
    "x = ordinate(biom_otu_tax_TSS)\n",
    "plot_ordination(biom_otu_tax_TSS, x, color=\"SampleType\")"
   ]
  },
  {
   "cell_type": "markdown",
   "metadata": {
    "slideshow": {
     "slide_type": "slide"
    }
   },
   "source": [
    "# More resources\n",
    "\n",
    "[phyloseq website](https://joey711.github.io/phyloseq/index.html)"
   ]
  }
 ],
 "metadata": {
  "kernelspec": {
   "display_name": "R",
   "language": "R",
   "name": "ir"
  },
  "language_info": {
   "codemirror_mode": "r",
   "file_extension": ".r",
   "mimetype": "text/x-r-source",
   "name": "R",
   "pygments_lexer": "r",
   "version": "3.4.1"
  },
  "toc": {
   "nav_menu": {},
   "number_sections": true,
   "sideBar": true,
   "skip_h1_title": false,
   "toc_cell": false,
   "toc_position": {},
   "toc_section_display": "block",
   "toc_window_display": true
  }
 },
 "nbformat": 4,
 "nbformat_minor": 2
}
