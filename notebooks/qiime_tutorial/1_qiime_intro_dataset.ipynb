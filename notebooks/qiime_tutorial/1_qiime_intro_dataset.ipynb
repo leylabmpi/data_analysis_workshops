{
 "cells": [
  {
   "cell_type": "markdown",
   "metadata": {
    "slideshow": {
     "slide_type": "slide"
    }
   },
   "source": [
    "# Description\n",
    "\n",
    "This tutorial is a Jupyter Notebook version of the tutorial described in [this gitbook](https://www.gitbook.com/book/twbattaglia/introduction-to-qiime/details)"
   ]
  },
  {
   "cell_type": "markdown",
   "metadata": {
    "slideshow": {
     "slide_type": "slide"
    }
   },
   "source": [
    "# Source files\n",
    "\n",
    "> Note: paths are relative to the notebook file"
   ]
  },
  {
   "cell_type": "code",
   "execution_count": null,
   "metadata": {
    "ExecuteTime": {
     "end_time": "2017-09-14T18:46:01.016781Z",
     "start_time": "2017-09-14T18:46:00.885766Z"
    }
   },
   "outputs": [],
   "source": [
    "!ls ../../src/"
   ]
  },
  {
   "cell_type": "markdown",
   "metadata": {
    "slideshow": {
     "slide_type": "slide"
    }
   },
   "source": [
    "## Unzipping"
   ]
  },
  {
   "cell_type": "code",
   "execution_count": null,
   "metadata": {
    "ExecuteTime": {
     "end_time": "2017-09-14T18:46:03.288676Z",
     "start_time": "2017-09-14T18:46:02.433085Z"
    }
   },
   "outputs": [],
   "source": [
    "!unzip -d ../../data/ ../../src/Qiime_Introduction_Tutorial.zip "
   ]
  },
  {
   "cell_type": "code",
   "execution_count": null,
   "metadata": {
    "ExecuteTime": {
     "end_time": "2017-09-14T18:46:06.256635Z",
     "start_time": "2017-09-14T18:46:06.129811Z"
    }
   },
   "outputs": [],
   "source": [
    "!ls -thlc ../../data/Qiime_Introduction_Tutorial/"
   ]
  },
  {
   "cell_type": "code",
   "execution_count": null,
   "metadata": {
    "collapsed": true
   },
   "outputs": [],
   "source": []
  }
 ],
 "metadata": {
  "kernelspec": {
   "display_name": "Python [conda env:py2]",
   "language": "python",
   "name": "conda-env-py2-py"
  },
  "language_info": {
   "codemirror_mode": {
    "name": "ipython",
    "version": 2
   },
   "file_extension": ".py",
   "mimetype": "text/x-python",
   "name": "python",
   "nbconvert_exporter": "python",
   "pygments_lexer": "ipython2",
   "version": "2.7.13"
  },
  "toc": {
   "nav_menu": {},
   "number_sections": true,
   "sideBar": true,
   "skip_h1_title": false,
   "toc_cell": false,
   "toc_position": {},
   "toc_section_display": "block",
   "toc_window_display": false
  }
 },
 "nbformat": 4,
 "nbformat_minor": 2
}
