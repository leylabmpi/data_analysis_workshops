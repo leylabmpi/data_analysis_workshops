{
 "cells": [
  {
   "cell_type": "markdown",
   "metadata": {
    "slideshow": {
     "slide_type": "slide"
    }
   },
   "source": [
    "# Viewing & validating the mapping file"
   ]
  },
  {
   "cell_type": "markdown",
   "metadata": {
    "slideshow": {
     "slide_type": "slide"
    }
   },
   "source": [
    "## File location"
   ]
  },
  {
   "cell_type": "code",
   "execution_count": 1,
   "metadata": {
    "ExecuteTime": {
     "end_time": "2017-09-14T18:46:23.960883Z",
     "start_time": "2017-09-14T18:46:23.830919Z"
    }
   },
   "outputs": [
    {
     "name": "stdout",
     "output_type": "stream",
     "text": [
      "total 1.7M\r\n",
      "drwxr-sr-x 2 nyoungblut abt3  132 Oct 29 20:28 \u001b[0m\u001b[01;34msplit_libraries\u001b[0m/\r\n",
      "-rw-r--r-- 1 nyoungblut abt3 542K Oct 29 20:28 rep_set.fna\r\n",
      "-rw-r--r-- 1 nyoungblut abt3 118K Oct 29 20:28 rep_set.tre\r\n",
      "-rw-r--r-- 1 nyoungblut abt3 1.1M Oct 29 20:28 otu_table.biom\r\n",
      "-rw-r--r-- 1 nyoungblut abt3 2.9K Oct 29 20:28 qiime_processing_workflow_local.sh\r\n",
      "-rw-r--r-- 1 nyoungblut abt3  108 Oct 29 20:28 16s_pickotu_param.txt\r\n",
      "-rw------- 1 nyoungblut abt3 3.0K Oct 29 20:28 mapping_file.txt\r\n"
     ]
    }
   ],
   "source": [
    "ls -thlc ../../data/Qiime_Introduction_Tutorial/"
   ]
  },
  {
   "cell_type": "code",
   "execution_count": 2,
   "metadata": {
    "ExecuteTime": {
     "end_time": "2017-09-14T18:46:24.956486Z",
     "start_time": "2017-09-14T18:46:24.947007Z"
    }
   },
   "outputs": [
    {
     "name": "stdout",
     "output_type": "stream",
     "text": [
      "/ebio/abt3_projects/software/dev/data_analysis_workshops/data/Qiime_Introduction_Tutorial\n"
     ]
    }
   ],
   "source": [
    "%cd ../../data/Qiime_Introduction_Tutorial/"
   ]
  },
  {
   "cell_type": "code",
   "execution_count": 3,
   "metadata": {
    "ExecuteTime": {
     "end_time": "2017-09-14T18:46:25.936528Z",
     "start_time": "2017-09-14T18:46:25.815386Z"
    }
   },
   "outputs": [
    {
     "name": "stdout",
     "output_type": "stream",
     "text": [
      "total 1.7M\r\n",
      "drwxr-sr-x 2 nyoungblut abt3  132 Oct 29 20:28 \u001b[0m\u001b[01;34msplit_libraries\u001b[0m/\r\n",
      "-rw-r--r-- 1 nyoungblut abt3 542K Oct 29 20:28 rep_set.fna\r\n",
      "-rw-r--r-- 1 nyoungblut abt3 118K Oct 29 20:28 rep_set.tre\r\n",
      "-rw-r--r-- 1 nyoungblut abt3 1.1M Oct 29 20:28 otu_table.biom\r\n",
      "-rw-r--r-- 1 nyoungblut abt3 2.9K Oct 29 20:28 qiime_processing_workflow_local.sh\r\n",
      "-rw-r--r-- 1 nyoungblut abt3  108 Oct 29 20:28 16s_pickotu_param.txt\r\n",
      "-rw------- 1 nyoungblut abt3 3.0K Oct 29 20:28 mapping_file.txt\r\n"
     ]
    }
   ],
   "source": [
    "ls -thlc "
   ]
  },
  {
   "cell_type": "markdown",
   "metadata": {
    "slideshow": {
     "slide_type": "slide"
    }
   },
   "source": [
    "## Loading file with pandas"
   ]
  },
  {
   "cell_type": "code",
   "execution_count": 5,
   "metadata": {
    "ExecuteTime": {
     "end_time": "2017-09-14T18:46:29.808799Z",
     "start_time": "2017-09-14T18:46:27.713869Z"
    }
   },
   "outputs": [
    {
     "name": "stderr",
     "output_type": "stream",
     "text": [
      "/ebio/abt3_projects/software/dev/miniconda3_dev/envs/RISE/lib/python3.7/importlib/_bootstrap.py:219: RuntimeWarning: numpy.dtype size changed, may indicate binary incompatibility. Expected 96, got 88\n",
      "  return f(*args, **kwds)\n"
     ]
    }
   ],
   "source": [
    "import pandas as pd"
   ]
  },
  {
   "cell_type": "code",
   "execution_count": 6,
   "metadata": {
    "ExecuteTime": {
     "end_time": "2017-09-14T18:46:29.880435Z",
     "start_time": "2017-09-14T18:46:29.811268Z"
    }
   },
   "outputs": [
    {
     "data": {
      "text/html": [
       "<div>\n",
       "<style scoped>\n",
       "    .dataframe tbody tr th:only-of-type {\n",
       "        vertical-align: middle;\n",
       "    }\n",
       "\n",
       "    .dataframe tbody tr th {\n",
       "        vertical-align: top;\n",
       "    }\n",
       "\n",
       "    .dataframe thead th {\n",
       "        text-align: right;\n",
       "    }\n",
       "</style>\n",
       "<table border=\"1\" class=\"dataframe\">\n",
       "  <thead>\n",
       "    <tr style=\"text-align: right;\">\n",
       "      <th></th>\n",
       "      <th>#SampleID</th>\n",
       "      <th>BarcodeSequence</th>\n",
       "      <th>LinkerPrimerSequence</th>\n",
       "      <th>SampleType</th>\n",
       "      <th>Year</th>\n",
       "      <th>Month</th>\n",
       "      <th>Day</th>\n",
       "      <th>Subject</th>\n",
       "      <th>ReportedAntibioticUsage</th>\n",
       "      <th>DaysSinceExperimentStart</th>\n",
       "      <th>Description</th>\n",
       "    </tr>\n",
       "  </thead>\n",
       "  <tbody>\n",
       "    <tr>\n",
       "      <th>0</th>\n",
       "      <td>L1S8</td>\n",
       "      <td>AGCTGACTAGTC</td>\n",
       "      <td>GTGCCAGCMGCCGCGGTAA</td>\n",
       "      <td>gut</td>\n",
       "      <td>2008</td>\n",
       "      <td>10</td>\n",
       "      <td>28</td>\n",
       "      <td>1</td>\n",
       "      <td>Yes</td>\n",
       "      <td>0</td>\n",
       "      <td>1_Fece_10_28_2008</td>\n",
       "    </tr>\n",
       "    <tr>\n",
       "      <th>1</th>\n",
       "      <td>L1S140</td>\n",
       "      <td>ATGGCAGCTCTA</td>\n",
       "      <td>GTGCCAGCMGCCGCGGTAA</td>\n",
       "      <td>gut</td>\n",
       "      <td>2008</td>\n",
       "      <td>10</td>\n",
       "      <td>28</td>\n",
       "      <td>2</td>\n",
       "      <td>Yes</td>\n",
       "      <td>0</td>\n",
       "      <td>2_Fece_10_28_2008</td>\n",
       "    </tr>\n",
       "    <tr>\n",
       "      <th>2</th>\n",
       "      <td>L1S57</td>\n",
       "      <td>ACACACTATGGC</td>\n",
       "      <td>GTGCCAGCMGCCGCGGTAA</td>\n",
       "      <td>gut</td>\n",
       "      <td>2009</td>\n",
       "      <td>1</td>\n",
       "      <td>20</td>\n",
       "      <td>1</td>\n",
       "      <td>No</td>\n",
       "      <td>84</td>\n",
       "      <td>1_Fece_1_20_2009</td>\n",
       "    </tr>\n",
       "    <tr>\n",
       "      <th>3</th>\n",
       "      <td>L1S208</td>\n",
       "      <td>CTGAGATACGCG</td>\n",
       "      <td>GTGCCAGCMGCCGCGGTAA</td>\n",
       "      <td>gut</td>\n",
       "      <td>2009</td>\n",
       "      <td>1</td>\n",
       "      <td>20</td>\n",
       "      <td>2</td>\n",
       "      <td>No</td>\n",
       "      <td>84</td>\n",
       "      <td>2_Fece_1_20_2009</td>\n",
       "    </tr>\n",
       "    <tr>\n",
       "      <th>4</th>\n",
       "      <td>L1S76</td>\n",
       "      <td>ACTACGTGTGGT</td>\n",
       "      <td>GTGCCAGCMGCCGCGGTAA</td>\n",
       "      <td>gut</td>\n",
       "      <td>2009</td>\n",
       "      <td>2</td>\n",
       "      <td>17</td>\n",
       "      <td>1</td>\n",
       "      <td>No</td>\n",
       "      <td>112</td>\n",
       "      <td>1_Fece_2_17_2009</td>\n",
       "    </tr>\n",
       "    <tr>\n",
       "      <th>5</th>\n",
       "      <td>L1S105</td>\n",
       "      <td>AGTGCGATGCGT</td>\n",
       "      <td>GTGCCAGCMGCCGCGGTAA</td>\n",
       "      <td>gut</td>\n",
       "      <td>2009</td>\n",
       "      <td>3</td>\n",
       "      <td>17</td>\n",
       "      <td>1</td>\n",
       "      <td>No</td>\n",
       "      <td>140</td>\n",
       "      <td>1_Fece_3_17_2009</td>\n",
       "    </tr>\n",
       "    <tr>\n",
       "      <th>6</th>\n",
       "      <td>L1S257</td>\n",
       "      <td>CCGACTGAGATG</td>\n",
       "      <td>GTGCCAGCMGCCGCGGTAA</td>\n",
       "      <td>gut</td>\n",
       "      <td>2009</td>\n",
       "      <td>3</td>\n",
       "      <td>17</td>\n",
       "      <td>2</td>\n",
       "      <td>No</td>\n",
       "      <td>140</td>\n",
       "      <td>2_Fece_3_17_2009</td>\n",
       "    </tr>\n",
       "    <tr>\n",
       "      <th>7</th>\n",
       "      <td>L1S281</td>\n",
       "      <td>CCTCTCGTGATC</td>\n",
       "      <td>GTGCCAGCMGCCGCGGTAA</td>\n",
       "      <td>gut</td>\n",
       "      <td>2009</td>\n",
       "      <td>4</td>\n",
       "      <td>14</td>\n",
       "      <td>2</td>\n",
       "      <td>No</td>\n",
       "      <td>168</td>\n",
       "      <td>2_Fece_4_14_2009</td>\n",
       "    </tr>\n",
       "    <tr>\n",
       "      <th>8</th>\n",
       "      <td>L2S240</td>\n",
       "      <td>CATATCGCAGTT</td>\n",
       "      <td>GTGCCAGCMGCCGCGGTAA</td>\n",
       "      <td>left palm</td>\n",
       "      <td>2008</td>\n",
       "      <td>10</td>\n",
       "      <td>28</td>\n",
       "      <td>2</td>\n",
       "      <td>Yes</td>\n",
       "      <td>0</td>\n",
       "      <td>2_L_Palm_10_28_2008</td>\n",
       "    </tr>\n",
       "    <tr>\n",
       "      <th>9</th>\n",
       "      <td>L2S155</td>\n",
       "      <td>ACGATGCGACCA</td>\n",
       "      <td>GTGCCAGCMGCCGCGGTAA</td>\n",
       "      <td>left palm</td>\n",
       "      <td>2009</td>\n",
       "      <td>1</td>\n",
       "      <td>20</td>\n",
       "      <td>1</td>\n",
       "      <td>No</td>\n",
       "      <td>84</td>\n",
       "      <td>1_L_Palm_1_20_2009</td>\n",
       "    </tr>\n",
       "    <tr>\n",
       "      <th>10</th>\n",
       "      <td>L2S309</td>\n",
       "      <td>CGTGCATTATCA</td>\n",
       "      <td>GTGCCAGCMGCCGCGGTAA</td>\n",
       "      <td>left palm</td>\n",
       "      <td>2009</td>\n",
       "      <td>1</td>\n",
       "      <td>20</td>\n",
       "      <td>2</td>\n",
       "      <td>No</td>\n",
       "      <td>84</td>\n",
       "      <td>2_L_Palm_1_20_2009</td>\n",
       "    </tr>\n",
       "    <tr>\n",
       "      <th>11</th>\n",
       "      <td>L2S175</td>\n",
       "      <td>AGCTATCCACGA</td>\n",
       "      <td>GTGCCAGCMGCCGCGGTAA</td>\n",
       "      <td>left palm</td>\n",
       "      <td>2009</td>\n",
       "      <td>2</td>\n",
       "      <td>17</td>\n",
       "      <td>1</td>\n",
       "      <td>No</td>\n",
       "      <td>112</td>\n",
       "      <td>1_L_Palm_2_17_2009</td>\n",
       "    </tr>\n",
       "    <tr>\n",
       "      <th>12</th>\n",
       "      <td>L2S204</td>\n",
       "      <td>ATGCAGCTCAGT</td>\n",
       "      <td>GTGCCAGCMGCCGCGGTAA</td>\n",
       "      <td>left palm</td>\n",
       "      <td>2009</td>\n",
       "      <td>3</td>\n",
       "      <td>17</td>\n",
       "      <td>1</td>\n",
       "      <td>No</td>\n",
       "      <td>140</td>\n",
       "      <td>1_L_Palm_3_17_2009</td>\n",
       "    </tr>\n",
       "    <tr>\n",
       "      <th>13</th>\n",
       "      <td>L2S357</td>\n",
       "      <td>CTAACGCAGTCA</td>\n",
       "      <td>GTGCCAGCMGCCGCGGTAA</td>\n",
       "      <td>left palm</td>\n",
       "      <td>2009</td>\n",
       "      <td>3</td>\n",
       "      <td>17</td>\n",
       "      <td>2</td>\n",
       "      <td>No</td>\n",
       "      <td>140</td>\n",
       "      <td>2_L_Palm_3_17_2009</td>\n",
       "    </tr>\n",
       "    <tr>\n",
       "      <th>14</th>\n",
       "      <td>L2S222</td>\n",
       "      <td>CACGTGACATGT</td>\n",
       "      <td>GTGCCAGCMGCCGCGGTAA</td>\n",
       "      <td>left palm</td>\n",
       "      <td>2009</td>\n",
       "      <td>4</td>\n",
       "      <td>14</td>\n",
       "      <td>1</td>\n",
       "      <td>No</td>\n",
       "      <td>168</td>\n",
       "      <td>1_L_Palm_4_14_2009</td>\n",
       "    </tr>\n",
       "    <tr>\n",
       "      <th>15</th>\n",
       "      <td>L2S382</td>\n",
       "      <td>CTCAATGACTCA</td>\n",
       "      <td>GTGCCAGCMGCCGCGGTAA</td>\n",
       "      <td>left palm</td>\n",
       "      <td>2009</td>\n",
       "      <td>4</td>\n",
       "      <td>14</td>\n",
       "      <td>2</td>\n",
       "      <td>No</td>\n",
       "      <td>168</td>\n",
       "      <td>2_L_Palm_4_14_2009</td>\n",
       "    </tr>\n",
       "    <tr>\n",
       "      <th>16</th>\n",
       "      <td>L3S242</td>\n",
       "      <td>ACAGTTGCGCGA</td>\n",
       "      <td>GTGCCAGCMGCCGCGGTAA</td>\n",
       "      <td>right palm</td>\n",
       "      <td>2008</td>\n",
       "      <td>10</td>\n",
       "      <td>28</td>\n",
       "      <td>1</td>\n",
       "      <td>Yes</td>\n",
       "      <td>0</td>\n",
       "      <td>1_R_Palm_10_28_2008</td>\n",
       "    </tr>\n",
       "    <tr>\n",
       "      <th>17</th>\n",
       "      <td>L3S378</td>\n",
       "      <td>ATCGATCTGTGG</td>\n",
       "      <td>GTGCCAGCMGCCGCGGTAA</td>\n",
       "      <td>right palm</td>\n",
       "      <td>2008</td>\n",
       "      <td>10</td>\n",
       "      <td>28</td>\n",
       "      <td>2</td>\n",
       "      <td>Yes</td>\n",
       "      <td>0</td>\n",
       "      <td>2_R_Palm_10_28_2008</td>\n",
       "    </tr>\n",
       "    <tr>\n",
       "      <th>18</th>\n",
       "      <td>L3S294</td>\n",
       "      <td>CACGACAGGCTA</td>\n",
       "      <td>GTGCCAGCMGCCGCGGTAA</td>\n",
       "      <td>right palm</td>\n",
       "      <td>2009</td>\n",
       "      <td>1</td>\n",
       "      <td>20</td>\n",
       "      <td>1</td>\n",
       "      <td>No</td>\n",
       "      <td>84</td>\n",
       "      <td>1_R_Palm_1_20_2009</td>\n",
       "    </tr>\n",
       "    <tr>\n",
       "      <th>19</th>\n",
       "      <td>L4S63</td>\n",
       "      <td>CTCGTGGAGTAG</td>\n",
       "      <td>GTGCCAGCMGCCGCGGTAA</td>\n",
       "      <td>right palm</td>\n",
       "      <td>2009</td>\n",
       "      <td>1</td>\n",
       "      <td>20</td>\n",
       "      <td>2</td>\n",
       "      <td>No</td>\n",
       "      <td>84</td>\n",
       "      <td>2_R_Palm_1_20_2009</td>\n",
       "    </tr>\n",
       "    <tr>\n",
       "      <th>20</th>\n",
       "      <td>L3S313</td>\n",
       "      <td>AGTGTCACGGTG</td>\n",
       "      <td>GTGCCAGCMGCCGCGGTAA</td>\n",
       "      <td>right palm</td>\n",
       "      <td>2009</td>\n",
       "      <td>2</td>\n",
       "      <td>17</td>\n",
       "      <td>1</td>\n",
       "      <td>No</td>\n",
       "      <td>112</td>\n",
       "      <td>1_R_Palm_2_17_2009</td>\n",
       "    </tr>\n",
       "    <tr>\n",
       "      <th>21</th>\n",
       "      <td>L3S341</td>\n",
       "      <td>CAAGTGAGAGAG</td>\n",
       "      <td>GTGCCAGCMGCCGCGGTAA</td>\n",
       "      <td>right palm</td>\n",
       "      <td>2009</td>\n",
       "      <td>3</td>\n",
       "      <td>17</td>\n",
       "      <td>1</td>\n",
       "      <td>No</td>\n",
       "      <td>140</td>\n",
       "      <td>1_R_Palm_3_17_2009</td>\n",
       "    </tr>\n",
       "    <tr>\n",
       "      <th>22</th>\n",
       "      <td>L4S112</td>\n",
       "      <td>GCGTTACACACA</td>\n",
       "      <td>GTGCCAGCMGCCGCGGTAA</td>\n",
       "      <td>right palm</td>\n",
       "      <td>2009</td>\n",
       "      <td>3</td>\n",
       "      <td>17</td>\n",
       "      <td>2</td>\n",
       "      <td>No</td>\n",
       "      <td>140</td>\n",
       "      <td>2_R_Palm_3_17_2009</td>\n",
       "    </tr>\n",
       "    <tr>\n",
       "      <th>23</th>\n",
       "      <td>L3S360</td>\n",
       "      <td>CATCGTATCAAC</td>\n",
       "      <td>GTGCCAGCMGCCGCGGTAA</td>\n",
       "      <td>right palm</td>\n",
       "      <td>2009</td>\n",
       "      <td>4</td>\n",
       "      <td>14</td>\n",
       "      <td>1</td>\n",
       "      <td>No</td>\n",
       "      <td>168</td>\n",
       "      <td>1_R_Palm_4_14_2009</td>\n",
       "    </tr>\n",
       "    <tr>\n",
       "      <th>24</th>\n",
       "      <td>L4S137</td>\n",
       "      <td>GAACTGTATCTC</td>\n",
       "      <td>GTGCCAGCMGCCGCGGTAA</td>\n",
       "      <td>right palm</td>\n",
       "      <td>2009</td>\n",
       "      <td>4</td>\n",
       "      <td>14</td>\n",
       "      <td>2</td>\n",
       "      <td>No</td>\n",
       "      <td>168</td>\n",
       "      <td>2_R_Palm_4_14_2009</td>\n",
       "    </tr>\n",
       "    <tr>\n",
       "      <th>25</th>\n",
       "      <td>L5S104</td>\n",
       "      <td>CAGTGTCAGGAC</td>\n",
       "      <td>GTGCCAGCMGCCGCGGTAA</td>\n",
       "      <td>tongue</td>\n",
       "      <td>2008</td>\n",
       "      <td>10</td>\n",
       "      <td>28</td>\n",
       "      <td>1</td>\n",
       "      <td>Yes</td>\n",
       "      <td>0</td>\n",
       "      <td>1_Tong_10_28_2008</td>\n",
       "    </tr>\n",
       "    <tr>\n",
       "      <th>26</th>\n",
       "      <td>L5S240</td>\n",
       "      <td>CTGGACTCATAG</td>\n",
       "      <td>GTGCCAGCMGCCGCGGTAA</td>\n",
       "      <td>tongue</td>\n",
       "      <td>2008</td>\n",
       "      <td>10</td>\n",
       "      <td>28</td>\n",
       "      <td>2</td>\n",
       "      <td>Yes</td>\n",
       "      <td>0</td>\n",
       "      <td>2_Tong_10_28_2008</td>\n",
       "    </tr>\n",
       "    <tr>\n",
       "      <th>27</th>\n",
       "      <td>L5S155</td>\n",
       "      <td>ATCTTAGACTGC</td>\n",
       "      <td>GTGCCAGCMGCCGCGGTAA</td>\n",
       "      <td>tongue</td>\n",
       "      <td>2009</td>\n",
       "      <td>1</td>\n",
       "      <td>20</td>\n",
       "      <td>1</td>\n",
       "      <td>No</td>\n",
       "      <td>84</td>\n",
       "      <td>1_Tong_1_20_2009</td>\n",
       "    </tr>\n",
       "    <tr>\n",
       "      <th>28</th>\n",
       "      <td>L6S20</td>\n",
       "      <td>GAGGCTCATCAT</td>\n",
       "      <td>GTGCCAGCMGCCGCGGTAA</td>\n",
       "      <td>tongue</td>\n",
       "      <td>2009</td>\n",
       "      <td>1</td>\n",
       "      <td>20</td>\n",
       "      <td>2</td>\n",
       "      <td>No</td>\n",
       "      <td>84</td>\n",
       "      <td>2_Tong_1_20_2009</td>\n",
       "    </tr>\n",
       "    <tr>\n",
       "      <th>29</th>\n",
       "      <td>L5S174</td>\n",
       "      <td>CAGACATTGCGT</td>\n",
       "      <td>GTGCCAGCMGCCGCGGTAA</td>\n",
       "      <td>tongue</td>\n",
       "      <td>2009</td>\n",
       "      <td>2</td>\n",
       "      <td>17</td>\n",
       "      <td>1</td>\n",
       "      <td>No</td>\n",
       "      <td>112</td>\n",
       "      <td>1_Tong_2_17_2009</td>\n",
       "    </tr>\n",
       "    <tr>\n",
       "      <th>30</th>\n",
       "      <td>L5S203</td>\n",
       "      <td>CGATGCACCAGA</td>\n",
       "      <td>GTGCCAGCMGCCGCGGTAA</td>\n",
       "      <td>tongue</td>\n",
       "      <td>2009</td>\n",
       "      <td>3</td>\n",
       "      <td>17</td>\n",
       "      <td>1</td>\n",
       "      <td>No</td>\n",
       "      <td>140</td>\n",
       "      <td>1_Tong_3_17_2009</td>\n",
       "    </tr>\n",
       "    <tr>\n",
       "      <th>31</th>\n",
       "      <td>L6S68</td>\n",
       "      <td>GATACGTCCTGA</td>\n",
       "      <td>GTGCCAGCMGCCGCGGTAA</td>\n",
       "      <td>tongue</td>\n",
       "      <td>2009</td>\n",
       "      <td>3</td>\n",
       "      <td>17</td>\n",
       "      <td>2</td>\n",
       "      <td>No</td>\n",
       "      <td>140</td>\n",
       "      <td>2_Tong_3_17_2009</td>\n",
       "    </tr>\n",
       "    <tr>\n",
       "      <th>32</th>\n",
       "      <td>L5S222</td>\n",
       "      <td>CTAGAGACTCTT</td>\n",
       "      <td>GTGCCAGCMGCCGCGGTAA</td>\n",
       "      <td>tongue</td>\n",
       "      <td>2009</td>\n",
       "      <td>4</td>\n",
       "      <td>14</td>\n",
       "      <td>1</td>\n",
       "      <td>No</td>\n",
       "      <td>168</td>\n",
       "      <td>1_Tong_4_14_2009</td>\n",
       "    </tr>\n",
       "    <tr>\n",
       "      <th>33</th>\n",
       "      <td>L6S93</td>\n",
       "      <td>GATTAGCACTCT</td>\n",
       "      <td>GTGCCAGCMGCCGCGGTAA</td>\n",
       "      <td>tongue</td>\n",
       "      <td>2009</td>\n",
       "      <td>4</td>\n",
       "      <td>14</td>\n",
       "      <td>2</td>\n",
       "      <td>No</td>\n",
       "      <td>168</td>\n",
       "      <td>2_Tong_4_14_2009</td>\n",
       "    </tr>\n",
       "  </tbody>\n",
       "</table>\n",
       "</div>"
      ],
      "text/plain": [
       "   #SampleID BarcodeSequence LinkerPrimerSequence  SampleType  Year  Month  \\\n",
       "0       L1S8    AGCTGACTAGTC  GTGCCAGCMGCCGCGGTAA         gut  2008     10   \n",
       "1     L1S140    ATGGCAGCTCTA  GTGCCAGCMGCCGCGGTAA         gut  2008     10   \n",
       "2      L1S57    ACACACTATGGC  GTGCCAGCMGCCGCGGTAA         gut  2009      1   \n",
       "3     L1S208    CTGAGATACGCG  GTGCCAGCMGCCGCGGTAA         gut  2009      1   \n",
       "4      L1S76    ACTACGTGTGGT  GTGCCAGCMGCCGCGGTAA         gut  2009      2   \n",
       "5     L1S105    AGTGCGATGCGT  GTGCCAGCMGCCGCGGTAA         gut  2009      3   \n",
       "6     L1S257    CCGACTGAGATG  GTGCCAGCMGCCGCGGTAA         gut  2009      3   \n",
       "7     L1S281    CCTCTCGTGATC  GTGCCAGCMGCCGCGGTAA         gut  2009      4   \n",
       "8     L2S240    CATATCGCAGTT  GTGCCAGCMGCCGCGGTAA   left palm  2008     10   \n",
       "9     L2S155    ACGATGCGACCA  GTGCCAGCMGCCGCGGTAA   left palm  2009      1   \n",
       "10    L2S309    CGTGCATTATCA  GTGCCAGCMGCCGCGGTAA   left palm  2009      1   \n",
       "11    L2S175    AGCTATCCACGA  GTGCCAGCMGCCGCGGTAA   left palm  2009      2   \n",
       "12    L2S204    ATGCAGCTCAGT  GTGCCAGCMGCCGCGGTAA   left palm  2009      3   \n",
       "13    L2S357    CTAACGCAGTCA  GTGCCAGCMGCCGCGGTAA   left palm  2009      3   \n",
       "14    L2S222    CACGTGACATGT  GTGCCAGCMGCCGCGGTAA   left palm  2009      4   \n",
       "15    L2S382    CTCAATGACTCA  GTGCCAGCMGCCGCGGTAA   left palm  2009      4   \n",
       "16    L3S242    ACAGTTGCGCGA  GTGCCAGCMGCCGCGGTAA  right palm  2008     10   \n",
       "17    L3S378    ATCGATCTGTGG  GTGCCAGCMGCCGCGGTAA  right palm  2008     10   \n",
       "18    L3S294    CACGACAGGCTA  GTGCCAGCMGCCGCGGTAA  right palm  2009      1   \n",
       "19     L4S63    CTCGTGGAGTAG  GTGCCAGCMGCCGCGGTAA  right palm  2009      1   \n",
       "20    L3S313    AGTGTCACGGTG  GTGCCAGCMGCCGCGGTAA  right palm  2009      2   \n",
       "21    L3S341    CAAGTGAGAGAG  GTGCCAGCMGCCGCGGTAA  right palm  2009      3   \n",
       "22    L4S112    GCGTTACACACA  GTGCCAGCMGCCGCGGTAA  right palm  2009      3   \n",
       "23    L3S360    CATCGTATCAAC  GTGCCAGCMGCCGCGGTAA  right palm  2009      4   \n",
       "24    L4S137    GAACTGTATCTC  GTGCCAGCMGCCGCGGTAA  right palm  2009      4   \n",
       "25    L5S104    CAGTGTCAGGAC  GTGCCAGCMGCCGCGGTAA      tongue  2008     10   \n",
       "26    L5S240    CTGGACTCATAG  GTGCCAGCMGCCGCGGTAA      tongue  2008     10   \n",
       "27    L5S155    ATCTTAGACTGC  GTGCCAGCMGCCGCGGTAA      tongue  2009      1   \n",
       "28     L6S20    GAGGCTCATCAT  GTGCCAGCMGCCGCGGTAA      tongue  2009      1   \n",
       "29    L5S174    CAGACATTGCGT  GTGCCAGCMGCCGCGGTAA      tongue  2009      2   \n",
       "30    L5S203    CGATGCACCAGA  GTGCCAGCMGCCGCGGTAA      tongue  2009      3   \n",
       "31     L6S68    GATACGTCCTGA  GTGCCAGCMGCCGCGGTAA      tongue  2009      3   \n",
       "32    L5S222    CTAGAGACTCTT  GTGCCAGCMGCCGCGGTAA      tongue  2009      4   \n",
       "33     L6S93    GATTAGCACTCT  GTGCCAGCMGCCGCGGTAA      tongue  2009      4   \n",
       "\n",
       "    Day  Subject ReportedAntibioticUsage  DaysSinceExperimentStart  \\\n",
       "0    28        1                     Yes                         0   \n",
       "1    28        2                     Yes                         0   \n",
       "2    20        1                      No                        84   \n",
       "3    20        2                      No                        84   \n",
       "4    17        1                      No                       112   \n",
       "5    17        1                      No                       140   \n",
       "6    17        2                      No                       140   \n",
       "7    14        2                      No                       168   \n",
       "8    28        2                     Yes                         0   \n",
       "9    20        1                      No                        84   \n",
       "10   20        2                      No                        84   \n",
       "11   17        1                      No                       112   \n",
       "12   17        1                      No                       140   \n",
       "13   17        2                      No                       140   \n",
       "14   14        1                      No                       168   \n",
       "15   14        2                      No                       168   \n",
       "16   28        1                     Yes                         0   \n",
       "17   28        2                     Yes                         0   \n",
       "18   20        1                      No                        84   \n",
       "19   20        2                      No                        84   \n",
       "20   17        1                      No                       112   \n",
       "21   17        1                      No                       140   \n",
       "22   17        2                      No                       140   \n",
       "23   14        1                      No                       168   \n",
       "24   14        2                      No                       168   \n",
       "25   28        1                     Yes                         0   \n",
       "26   28        2                     Yes                         0   \n",
       "27   20        1                      No                        84   \n",
       "28   20        2                      No                        84   \n",
       "29   17        1                      No                       112   \n",
       "30   17        1                      No                       140   \n",
       "31   17        2                      No                       140   \n",
       "32   14        1                      No                       168   \n",
       "33   14        2                      No                       168   \n",
       "\n",
       "            Description  \n",
       "0     1_Fece_10_28_2008  \n",
       "1     2_Fece_10_28_2008  \n",
       "2      1_Fece_1_20_2009  \n",
       "3      2_Fece_1_20_2009  \n",
       "4      1_Fece_2_17_2009  \n",
       "5      1_Fece_3_17_2009  \n",
       "6      2_Fece_3_17_2009  \n",
       "7      2_Fece_4_14_2009  \n",
       "8   2_L_Palm_10_28_2008  \n",
       "9    1_L_Palm_1_20_2009  \n",
       "10   2_L_Palm_1_20_2009  \n",
       "11   1_L_Palm_2_17_2009  \n",
       "12   1_L_Palm_3_17_2009  \n",
       "13   2_L_Palm_3_17_2009  \n",
       "14   1_L_Palm_4_14_2009  \n",
       "15   2_L_Palm_4_14_2009  \n",
       "16  1_R_Palm_10_28_2008  \n",
       "17  2_R_Palm_10_28_2008  \n",
       "18   1_R_Palm_1_20_2009  \n",
       "19   2_R_Palm_1_20_2009  \n",
       "20   1_R_Palm_2_17_2009  \n",
       "21   1_R_Palm_3_17_2009  \n",
       "22   2_R_Palm_3_17_2009  \n",
       "23   1_R_Palm_4_14_2009  \n",
       "24   2_R_Palm_4_14_2009  \n",
       "25    1_Tong_10_28_2008  \n",
       "26    2_Tong_10_28_2008  \n",
       "27     1_Tong_1_20_2009  \n",
       "28     2_Tong_1_20_2009  \n",
       "29     1_Tong_2_17_2009  \n",
       "30     1_Tong_3_17_2009  \n",
       "31     2_Tong_3_17_2009  \n",
       "32     1_Tong_4_14_2009  \n",
       "33     2_Tong_4_14_2009  "
      ]
     },
     "execution_count": 6,
     "metadata": {},
     "output_type": "execute_result"
    }
   ],
   "source": [
    "pd.read_csv('mapping_file.txt', sep='\\t')"
   ]
  },
  {
   "cell_type": "markdown",
   "metadata": {
    "slideshow": {
     "slide_type": "slide"
    }
   },
   "source": [
    "## Validating mapping file"
   ]
  },
  {
   "cell_type": "markdown",
   "metadata": {},
   "source": [
    "> Note: Python 3 is used by default for BASH, and QIIME is only Python 2"
   ]
  },
  {
   "cell_type": "code",
   "execution_count": 7,
   "metadata": {
    "ExecuteTime": {
     "end_time": "2017-09-14T18:46:43.424630Z",
     "start_time": "2017-09-14T18:46:43.404642Z"
    }
   },
   "outputs": [
    {
     "name": "stderr",
     "output_type": "stream",
     "text": [
      "bash: line 1: validate_mapping_file.py: command not found\n"
     ]
    },
    {
     "ename": "CalledProcessError",
     "evalue": "Command 'b'validate_mapping_file.py -h\\n'' returned non-zero exit status 127.",
     "output_type": "error",
     "traceback": [
      "\u001b[0;31m---------------------------------------------------------------------------\u001b[0m",
      "\u001b[0;31mCalledProcessError\u001b[0m                        Traceback (most recent call last)",
      "\u001b[0;32m<ipython-input-7-ad5d000695f0>\u001b[0m in \u001b[0;36m<module>\u001b[0;34m\u001b[0m\n\u001b[0;32m----> 1\u001b[0;31m \u001b[0mget_ipython\u001b[0m\u001b[0;34m(\u001b[0m\u001b[0;34m)\u001b[0m\u001b[0;34m.\u001b[0m\u001b[0mrun_cell_magic\u001b[0m\u001b[0;34m(\u001b[0m\u001b[0;34m'bash'\u001b[0m\u001b[0;34m,\u001b[0m \u001b[0;34m''\u001b[0m\u001b[0;34m,\u001b[0m \u001b[0;34m'validate_mapping_file.py -h\\n'\u001b[0m\u001b[0;34m)\u001b[0m\u001b[0;34m\u001b[0m\u001b[0m\n\u001b[0m",
      "\u001b[0;32m/ebio/abt3_projects/software/dev/miniconda3_dev/envs/RISE/lib/python3.7/site-packages/IPython/core/interactiveshell.py\u001b[0m in \u001b[0;36mrun_cell_magic\u001b[0;34m(self, magic_name, line, cell)\u001b[0m\n\u001b[1;32m   2321\u001b[0m             \u001b[0mmagic_arg_s\u001b[0m \u001b[0;34m=\u001b[0m \u001b[0mself\u001b[0m\u001b[0;34m.\u001b[0m\u001b[0mvar_expand\u001b[0m\u001b[0;34m(\u001b[0m\u001b[0mline\u001b[0m\u001b[0;34m,\u001b[0m \u001b[0mstack_depth\u001b[0m\u001b[0;34m)\u001b[0m\u001b[0;34m\u001b[0m\u001b[0m\n\u001b[1;32m   2322\u001b[0m             \u001b[0;32mwith\u001b[0m \u001b[0mself\u001b[0m\u001b[0;34m.\u001b[0m\u001b[0mbuiltin_trap\u001b[0m\u001b[0;34m:\u001b[0m\u001b[0;34m\u001b[0m\u001b[0m\n\u001b[0;32m-> 2323\u001b[0;31m                 \u001b[0mresult\u001b[0m \u001b[0;34m=\u001b[0m \u001b[0mfn\u001b[0m\u001b[0;34m(\u001b[0m\u001b[0mmagic_arg_s\u001b[0m\u001b[0;34m,\u001b[0m \u001b[0mcell\u001b[0m\u001b[0;34m)\u001b[0m\u001b[0;34m\u001b[0m\u001b[0m\n\u001b[0m\u001b[1;32m   2324\u001b[0m             \u001b[0;32mreturn\u001b[0m \u001b[0mresult\u001b[0m\u001b[0;34m\u001b[0m\u001b[0m\n\u001b[1;32m   2325\u001b[0m \u001b[0;34m\u001b[0m\u001b[0m\n",
      "\u001b[0;32m/ebio/abt3_projects/software/dev/miniconda3_dev/envs/RISE/lib/python3.7/site-packages/IPython/core/magics/script.py\u001b[0m in \u001b[0;36mnamed_script_magic\u001b[0;34m(line, cell)\u001b[0m\n\u001b[1;32m    140\u001b[0m             \u001b[0;32melse\u001b[0m\u001b[0;34m:\u001b[0m\u001b[0;34m\u001b[0m\u001b[0m\n\u001b[1;32m    141\u001b[0m                 \u001b[0mline\u001b[0m \u001b[0;34m=\u001b[0m \u001b[0mscript\u001b[0m\u001b[0;34m\u001b[0m\u001b[0m\n\u001b[0;32m--> 142\u001b[0;31m             \u001b[0;32mreturn\u001b[0m \u001b[0mself\u001b[0m\u001b[0;34m.\u001b[0m\u001b[0mshebang\u001b[0m\u001b[0;34m(\u001b[0m\u001b[0mline\u001b[0m\u001b[0;34m,\u001b[0m \u001b[0mcell\u001b[0m\u001b[0;34m)\u001b[0m\u001b[0;34m\u001b[0m\u001b[0m\n\u001b[0m\u001b[1;32m    143\u001b[0m \u001b[0;34m\u001b[0m\u001b[0m\n\u001b[1;32m    144\u001b[0m         \u001b[0;31m# write a basic docstring:\u001b[0m\u001b[0;34m\u001b[0m\u001b[0;34m\u001b[0m\u001b[0m\n",
      "\u001b[0;32m<decorator-gen-109>\u001b[0m in \u001b[0;36mshebang\u001b[0;34m(self, line, cell)\u001b[0m\n",
      "\u001b[0;32m/ebio/abt3_projects/software/dev/miniconda3_dev/envs/RISE/lib/python3.7/site-packages/IPython/core/magic.py\u001b[0m in \u001b[0;36m<lambda>\u001b[0;34m(f, *a, **k)\u001b[0m\n\u001b[1;32m    185\u001b[0m     \u001b[0;31m# but it's overkill for just that one bit of state.\u001b[0m\u001b[0;34m\u001b[0m\u001b[0;34m\u001b[0m\u001b[0m\n\u001b[1;32m    186\u001b[0m     \u001b[0;32mdef\u001b[0m \u001b[0mmagic_deco\u001b[0m\u001b[0;34m(\u001b[0m\u001b[0marg\u001b[0m\u001b[0;34m)\u001b[0m\u001b[0;34m:\u001b[0m\u001b[0;34m\u001b[0m\u001b[0m\n\u001b[0;32m--> 187\u001b[0;31m         \u001b[0mcall\u001b[0m \u001b[0;34m=\u001b[0m \u001b[0;32mlambda\u001b[0m \u001b[0mf\u001b[0m\u001b[0;34m,\u001b[0m \u001b[0;34m*\u001b[0m\u001b[0ma\u001b[0m\u001b[0;34m,\u001b[0m \u001b[0;34m**\u001b[0m\u001b[0mk\u001b[0m\u001b[0;34m:\u001b[0m \u001b[0mf\u001b[0m\u001b[0;34m(\u001b[0m\u001b[0;34m*\u001b[0m\u001b[0ma\u001b[0m\u001b[0;34m,\u001b[0m \u001b[0;34m**\u001b[0m\u001b[0mk\u001b[0m\u001b[0;34m)\u001b[0m\u001b[0;34m\u001b[0m\u001b[0m\n\u001b[0m\u001b[1;32m    188\u001b[0m \u001b[0;34m\u001b[0m\u001b[0m\n\u001b[1;32m    189\u001b[0m         \u001b[0;32mif\u001b[0m \u001b[0mcallable\u001b[0m\u001b[0;34m(\u001b[0m\u001b[0marg\u001b[0m\u001b[0;34m)\u001b[0m\u001b[0;34m:\u001b[0m\u001b[0;34m\u001b[0m\u001b[0m\n",
      "\u001b[0;32m/ebio/abt3_projects/software/dev/miniconda3_dev/envs/RISE/lib/python3.7/site-packages/IPython/core/magics/script.py\u001b[0m in \u001b[0;36mshebang\u001b[0;34m(self, line, cell)\u001b[0m\n\u001b[1;32m    243\u001b[0m             \u001b[0msys\u001b[0m\u001b[0;34m.\u001b[0m\u001b[0mstderr\u001b[0m\u001b[0;34m.\u001b[0m\u001b[0mflush\u001b[0m\u001b[0;34m(\u001b[0m\u001b[0;34m)\u001b[0m\u001b[0;34m\u001b[0m\u001b[0m\n\u001b[1;32m    244\u001b[0m         \u001b[0;32mif\u001b[0m \u001b[0margs\u001b[0m\u001b[0;34m.\u001b[0m\u001b[0mraise_error\u001b[0m \u001b[0;32mand\u001b[0m \u001b[0mp\u001b[0m\u001b[0;34m.\u001b[0m\u001b[0mreturncode\u001b[0m\u001b[0;34m!=\u001b[0m\u001b[0;36m0\u001b[0m\u001b[0;34m:\u001b[0m\u001b[0;34m\u001b[0m\u001b[0m\n\u001b[0;32m--> 245\u001b[0;31m             \u001b[0;32mraise\u001b[0m \u001b[0mCalledProcessError\u001b[0m\u001b[0;34m(\u001b[0m\u001b[0mp\u001b[0m\u001b[0;34m.\u001b[0m\u001b[0mreturncode\u001b[0m\u001b[0;34m,\u001b[0m \u001b[0mcell\u001b[0m\u001b[0;34m,\u001b[0m \u001b[0moutput\u001b[0m\u001b[0;34m=\u001b[0m\u001b[0mout\u001b[0m\u001b[0;34m,\u001b[0m \u001b[0mstderr\u001b[0m\u001b[0;34m=\u001b[0m\u001b[0merr\u001b[0m\u001b[0;34m)\u001b[0m\u001b[0;34m\u001b[0m\u001b[0m\n\u001b[0m\u001b[1;32m    246\u001b[0m \u001b[0;34m\u001b[0m\u001b[0m\n\u001b[1;32m    247\u001b[0m     \u001b[0;32mdef\u001b[0m \u001b[0m_run_script\u001b[0m\u001b[0;34m(\u001b[0m\u001b[0mself\u001b[0m\u001b[0;34m,\u001b[0m \u001b[0mp\u001b[0m\u001b[0;34m,\u001b[0m \u001b[0mcell\u001b[0m\u001b[0;34m,\u001b[0m \u001b[0mto_close\u001b[0m\u001b[0;34m)\u001b[0m\u001b[0;34m:\u001b[0m\u001b[0;34m\u001b[0m\u001b[0m\n",
      "\u001b[0;31mCalledProcessError\u001b[0m: Command 'b'validate_mapping_file.py -h\\n'' returned non-zero exit status 127."
     ]
    }
   ],
   "source": [
    "%%bash\n",
    "validate_mapping_file.py -h"
   ]
  },
  {
   "cell_type": "code",
   "execution_count": null,
   "metadata": {
    "ExecuteTime": {
     "end_time": "2017-09-14T18:46:44.252630Z",
     "start_time": "2017-09-14T18:46:44.229441Z"
    }
   },
   "outputs": [],
   "source": [
    "%%bash\n",
    "# python2 or python3?\n",
    "python --version"
   ]
  },
  {
   "cell_type": "code",
   "execution_count": null,
   "metadata": {
    "ExecuteTime": {
     "end_time": "2017-09-14T18:46:53.008531Z",
     "start_time": "2017-09-14T18:46:45.330207Z"
    }
   },
   "outputs": [],
   "source": [
    "%%bash\n",
    "# activate conda environment\n",
    "source activate py2\n",
    "validate_mapping_file.py -h"
   ]
  },
  {
   "cell_type": "markdown",
   "metadata": {
    "slideshow": {
     "slide_type": "slide"
    }
   },
   "source": [
    "### Validating (actuall call)"
   ]
  },
  {
   "cell_type": "code",
   "execution_count": null,
   "metadata": {
    "ExecuteTime": {
     "end_time": "2017-09-14T18:46:58.848639Z",
     "start_time": "2017-09-14T18:46:53.010696Z"
    }
   },
   "outputs": [],
   "source": [
    "%%bash\n",
    "source activate py2\n",
    "# qiime: validate mapping file script\n",
    "validate_mapping_file.py \\\n",
    "    -m mapping_file.txt \\\n",
    "    -o validate_map"
   ]
  },
  {
   "cell_type": "code",
   "execution_count": null,
   "metadata": {
    "ExecuteTime": {
     "end_time": "2017-09-14T18:46:58.972565Z",
     "start_time": "2017-09-14T18:46:58.851445Z"
    }
   },
   "outputs": [],
   "source": [
    "ls -thlc validate_map"
   ]
  },
  {
   "cell_type": "markdown",
   "metadata": {
    "slideshow": {
     "slide_type": "slide"
    }
   },
   "source": [
    "### View html output"
   ]
  },
  {
   "cell_type": "code",
   "execution_count": null,
   "metadata": {
    "ExecuteTime": {
     "end_time": "2017-09-14T18:46:58.988585Z",
     "start_time": "2017-09-14T18:46:58.974952Z"
    }
   },
   "outputs": [],
   "source": [
    "from IPython.core.display import display, HTML\n",
    "\n",
    "with open('validate_map/mapping_file.html') as f:\n",
    "    output = f.read()\n",
    "display(HTML(output))"
   ]
  },
  {
   "cell_type": "code",
   "execution_count": null,
   "metadata": {
    "collapsed": true
   },
   "outputs": [],
   "source": []
  }
 ],
 "metadata": {
  "kernelspec": {
   "display_name": "Python 3",
   "language": "python",
   "name": "python3"
  },
  "language_info": {
   "codemirror_mode": {
    "name": "ipython",
    "version": 3
   },
   "file_extension": ".py",
   "mimetype": "text/x-python",
   "name": "python",
   "nbconvert_exporter": "python",
   "pygments_lexer": "ipython3",
   "version": "3.7.0"
  },
  "toc": {
   "nav_menu": {},
   "number_sections": true,
   "sideBar": true,
   "skip_h1_title": false,
   "toc_cell": false,
   "toc_position": {},
   "toc_section_display": "block",
   "toc_window_display": false
  }
 },
 "nbformat": 4,
 "nbformat_minor": 2
}
