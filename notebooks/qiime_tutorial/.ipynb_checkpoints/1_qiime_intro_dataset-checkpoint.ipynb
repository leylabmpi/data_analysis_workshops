{
 "cells": [
  {
   "cell_type": "markdown",
   "metadata": {
    "slideshow": {
     "slide_type": "slide"
    }
   },
   "source": [
    "# Description\n",
    "\n",
    "This tutorial is a Jupyter Notebook version of the tutorial described in [this gitbook](https://www.gitbook.com/book/twbattaglia/introduction-to-qiime/details)"
   ]
  },
  {
   "cell_type": "markdown",
   "metadata": {
    "slideshow": {
     "slide_type": "slide"
    }
   },
   "source": [
    "# Source files\n",
    "\n",
    "> Note: paths are relative to the notebook file"
   ]
  },
  {
   "cell_type": "code",
   "execution_count": 4,
   "metadata": {},
   "outputs": [
    {
     "name": "stdout",
     "output_type": "stream",
     "text": [
      "Qiime_Introduction_Tutorial.zip\r\n"
     ]
    }
   ],
   "source": [
    "!ls ../../src/"
   ]
  },
  {
   "cell_type": "markdown",
   "metadata": {
    "slideshow": {
     "slide_type": "slide"
    }
   },
   "source": [
    "## Unzipping"
   ]
  },
  {
   "cell_type": "code",
   "execution_count": 5,
   "metadata": {},
   "outputs": [
    {
     "name": "stdout",
     "output_type": "stream",
     "text": [
      "Archive:  ../../src/Qiime_Introduction_Tutorial.zip\n",
      "   creating: ../../data/Qiime_Introduction_Tutorial/\n",
      "  inflating: ../../data/Qiime_Introduction_Tutorial/.DS_Store  \n",
      "   creating: ../../data/__MACOSX/\n",
      "   creating: ../../data/__MACOSX/Qiime_Introduction_Tutorial/\n",
      "  inflating: ../../data/__MACOSX/Qiime_Introduction_Tutorial/._.DS_Store  \n",
      "  inflating: ../../data/Qiime_Introduction_Tutorial/16s_pickotu_param.txt  \n",
      "  inflating: ../../data/__MACOSX/Qiime_Introduction_Tutorial/._16s_pickotu_param.txt  \n",
      "  inflating: ../../data/Qiime_Introduction_Tutorial/mapping_file.txt  \n",
      "  inflating: ../../data/__MACOSX/Qiime_Introduction_Tutorial/._mapping_file.txt  \n",
      "  inflating: ../../data/Qiime_Introduction_Tutorial/otu_table.biom  \n",
      "  inflating: ../../data/Qiime_Introduction_Tutorial/qiime_processing_workflow_local.sh  \n",
      "  inflating: ../../data/__MACOSX/Qiime_Introduction_Tutorial/._qiime_processing_workflow_local.sh  \n",
      "  inflating: ../../data/Qiime_Introduction_Tutorial/rep_set.fna  \n",
      "  inflating: ../../data/Qiime_Introduction_Tutorial/rep_set.tre  \n",
      "   creating: ../../data/Qiime_Introduction_Tutorial/split_libraries/\n",
      "  inflating: ../../data/Qiime_Introduction_Tutorial/split_libraries/.DS_Store  \n",
      "   creating: ../../data/__MACOSX/Qiime_Introduction_Tutorial/split_libraries/\n",
      "  inflating: ../../data/__MACOSX/Qiime_Introduction_Tutorial/split_libraries/._.DS_Store  \n",
      "  inflating: ../../data/Qiime_Introduction_Tutorial/split_libraries/histograms.txt  \n",
      "  inflating: ../../data/Qiime_Introduction_Tutorial/split_libraries/README.txt  \n",
      "  inflating: ../../data/__MACOSX/Qiime_Introduction_Tutorial/split_libraries/._README.txt  \n",
      "  inflating: ../../data/Qiime_Introduction_Tutorial/split_libraries/seqs.fna  \n",
      "  inflating: ../../data/Qiime_Introduction_Tutorial/split_libraries/split_library_log.txt  \n"
     ]
    }
   ],
   "source": [
    "!unzip -d ../../data/ ../../src/Qiime_Introduction_Tutorial.zip "
   ]
  },
  {
   "cell_type": "code",
   "execution_count": 10,
   "metadata": {},
   "outputs": [
    {
     "name": "stdout",
     "output_type": "stream",
     "text": [
      "total 1.7M\r\n",
      "drwxr-xr-x 2 nyoungblut ebio  132 Sep 12 13:47 split_libraries\r\n",
      "-rw-r--r-- 1 nyoungblut ebio 118K Sep 12 13:47 rep_set.tre\r\n",
      "-rw-r--r-- 1 nyoungblut ebio 542K Sep 12 13:47 rep_set.fna\r\n",
      "-rw-r--r-- 1 nyoungblut ebio 2.9K Sep 12 13:47 qiime_processing_workflow_local.sh\r\n",
      "-rw-r--r-- 1 nyoungblut ebio 1.1M Sep 12 13:47 otu_table.biom\r\n",
      "-rw------- 1 nyoungblut ebio 3.0K Sep 12 13:47 mapping_file.txt\r\n",
      "-rw-r--r-- 1 nyoungblut ebio  108 Sep 12 13:47 16s_pickotu_param.txt\r\n"
     ]
    }
   ],
   "source": [
    "!ls -thlc ../../data/Qiime_Introduction_Tutorial/"
   ]
  },
  {
   "cell_type": "code",
   "execution_count": null,
   "metadata": {
    "collapsed": true
   },
   "outputs": [],
   "source": []
  }
 ],
 "metadata": {
  "celltoolbar": "Slideshow",
  "kernelspec": {
   "display_name": "Python [conda env:py2]",
   "language": "python",
   "name": "conda-env-py2-py"
  },
  "language_info": {
   "codemirror_mode": {
    "name": "ipython",
    "version": 2
   },
   "file_extension": ".py",
   "mimetype": "text/x-python",
   "name": "python",
   "nbconvert_exporter": "python",
   "pygments_lexer": "ipython2",
   "version": "2.7.13"
  },
  "toc": {
   "nav_menu": {},
   "number_sections": true,
   "sideBar": true,
   "skip_h1_title": false,
   "toc_cell": false,
   "toc_position": {},
   "toc_section_display": "block",
   "toc_window_display": false
  }
 },
 "nbformat": 4,
 "nbformat_minor": 2
}
