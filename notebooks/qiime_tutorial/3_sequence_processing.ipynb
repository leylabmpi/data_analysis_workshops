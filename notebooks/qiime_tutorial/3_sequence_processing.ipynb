{
 "cells": [
  {
   "cell_type": "markdown",
   "metadata": {
    "slideshow": {
     "slide_type": "slide"
    }
   },
   "source": [
    "# Set up"
   ]
  },
  {
   "cell_type": "code",
   "execution_count": 1,
   "metadata": {},
   "outputs": [
    {
     "name": "stdout",
     "output_type": "stream",
     "text": [
      "/ebio/abt3_projects/small_projects/nyoungblut/dev/data_analysis_workshops/data/Qiime_Introduction_Tutorial\n"
     ]
    }
   ],
   "source": [
    "%cd ../../data/Qiime_Introduction_Tutorial/"
   ]
  },
  {
   "cell_type": "code",
   "execution_count": 2,
   "metadata": {},
   "outputs": [
    {
     "name": "stdout",
     "output_type": "stream",
     "text": [
      "total 1.7M\r\n",
      "drwxr-xr-x 2 nyoungblut ebio  127 Sep 12 14:25 \u001b[0m\u001b[01;34mvalidate_map\u001b[0m/\r\n",
      "drwxr-xr-x 2 nyoungblut ebio  132 Sep 12 13:47 \u001b[01;34msplit_libraries\u001b[0m/\r\n",
      "-rw-r--r-- 1 nyoungblut ebio 118K Sep 12 13:47 rep_set.tre\r\n",
      "-rw-r--r-- 1 nyoungblut ebio 542K Sep 12 13:47 rep_set.fna\r\n",
      "-rw-r--r-- 1 nyoungblut ebio 2.9K Sep 12 13:47 qiime_processing_workflow_local.sh\r\n",
      "-rw-r--r-- 1 nyoungblut ebio 1.1M Sep 12 13:47 otu_table.biom\r\n",
      "-rw------- 1 nyoungblut ebio 3.0K Sep 12 13:47 mapping_file.txt\r\n",
      "-rw-r--r-- 1 nyoungblut ebio  108 Sep 12 13:47 16s_pickotu_param.txt\r\n"
     ]
    }
   ],
   "source": [
    "ls -thlc"
   ]
  },
  {
   "cell_type": "markdown",
   "metadata": {
    "slideshow": {
     "slide_type": "slide"
    }
   },
   "source": [
    "# Writing QIIME parameter file"
   ]
  },
  {
   "cell_type": "code",
   "execution_count": 29,
   "metadata": {},
   "outputs": [
    {
     "name": "stdout",
     "output_type": "stream",
     "text": [
      "Overwriting 16S_pickotu_param.txt\n"
     ]
    }
   ],
   "source": [
    "%%writefile 16S_pickotu_param.txt\n",
    "pick_otus:enable_rev_strand_match True"
   ]
  },
  {
   "cell_type": "code",
   "execution_count": 32,
   "metadata": {},
   "outputs": [
    {
     "name": "stdout",
     "output_type": "stream",
     "text": [
      "pick_otus:enable_rev_strand_match True"
     ]
    }
   ],
   "source": [
    "# viewing parameter file\n",
    "!cat 16S_pickotu_param.txt"
   ]
  },
  {
   "cell_type": "markdown",
   "metadata": {
    "slideshow": {
     "slide_type": "slide"
    }
   },
   "source": [
    "# Picking OTUs"
   ]
  },
  {
   "cell_type": "code",
   "execution_count": 33,
   "metadata": {},
   "outputs": [
    {
     "name": "stdout",
     "output_type": "stream",
     "text": [
      "Usage: pick_open_reference_otus.py [options] {-i/--input_fps INPUT_FPS -o/--output_dir OUTPUT_DIR}\n",
      "\n",
      "[] indicates optional input (order unimportant)\n",
      "{} indicates required input (order unimportant)\n",
      "\n",
      "\n",
      "This script is broken down into 4 possible OTU picking steps, and 2 steps\n",
      "involving the creation of OTU tables and trees. The commands for each step are\n",
      "described below, including what the input and resulting output files are.\n",
      "Additionally, the optional specified parameters of this script that can be passed\n",
      "are referenced.\n",
      "\n",
      "Step 1) Prefiltering and picking closed reference OTUs\n",
      "The first step is an optional prefiltering of the input fasta file to remove\n",
      "sequences that do not hit the reference database with a given sequence\n",
      "identity (PREFILTER_PERCENT_ID). This step can take a very long time, so is\n",
      "disabled by default. The prefilter parameters can be changed with the options:\n",
      "--prefilter_refseqs_fp\n",
      "--prefilter_percent_id\n",
      "This filtering is accomplished by picking closed reference OTUs at the specified\n",
      "prefilter percent id to produce:\n",
      "prefilter_otus/seqs_otus.log\n",
      "prefilter_otus/seqs_otus.txt\n",
      "prefilter_otus/seqs_failures.txt\n",
      "prefilter_otus/seqs_clusters.uc\n",
      "Next, the seqs_failures.txt file is used to remove these failed sequences from\n",
      "the original input fasta file to produce:\n",
      "prefilter_otus/prefiltered_seqs.fna\n",
      "This prefiltered_seqs.fna file is then considered to contain the reads\n",
      "of the marker gene of interest, rather than spurious reads such as host\n",
      "genomic sequence or sequencing artifacts.\n",
      "\n",
      "If prefiltering is applied, this step progresses with the prefiltered_seqs.fna.\n",
      "Otherwise it progresses with the input file. The Step 1 closed reference OTU\n",
      "picking is done against the supplied reference database. This command produces:\n",
      "step1_otus/_clusters.uc\n",
      "step1_otus/_failures.txt\n",
      "step1_otus/_otus.log\n",
      "step1_otus/_otus.txt\n",
      "\n",
      "The representative sequence for each of the Step 1 picked OTUs are selected to\n",
      "produce:\n",
      "step1_otus/step1_rep_set.fna\n",
      "\n",
      "Next, the sequences that failed to hit the reference database in Step 1 are\n",
      "filtered from the Step 1 input fasta file to produce:\n",
      "step1_otus/failures.fasta\n",
      "\n",
      "Then the failures.fasta file is randomly subsampled to PERCENT_SUBSAMPLE of\n",
      "the sequences to produce:\n",
      "step1_otus/subsampled_failures.fna.\n",
      "Modifying PERCENT_SUBSAMPLE can have a big effect on run time for this workflow,\n",
      "but will not alter the final OTUs.\n",
      "\n",
      "Step 2) The subsampled_failures.fna are next clustered de novo, and each cluster\n",
      "centroid is then chosen as a \"new reference sequence\" for use as the reference\n",
      "database in Step 3, to produce:\n",
      "step2_otus/subsampled_seqs_clusters.uc\n",
      "step2_otus/subsampled_seqs_otus.log\n",
      "step2_otus/subsampled_seqs_otus.txt\n",
      "step2_otus/step2_rep_set.fna\n",
      "\n",
      "Step 3) Pick Closed Reference OTUs against Step 2 de novo OTUs\n",
      "Closed reference OTU picking is performed using the failures.fasta file created\n",
      "in Step 1 against the 'reference' de novo database created in Step 2 to produce:\n",
      "step3_otus/failures_seqs_clusters.uc\n",
      "step3_otus/failures_seqs_failures.txt\n",
      "step3_otus/failures_seqs_otus.log\n",
      "step3_otus/failures_seqs_otus.txt\n",
      "\n",
      "Assuming the user has NOT passed the --suppress_step4 flag:\n",
      "The sequences which failed to hit the reference database in Step 3 are removed\n",
      "from the Step 3 input fasta file to produce:\n",
      "step3_otus/failures_failures.fasta\n",
      "\n",
      "Step 4) Additional de novo OTU picking\n",
      "It is assumed by this point that the majority of sequences have been assigned\n",
      "to an OTU, and thus the sequence count of failures_failures.fasta is small\n",
      "enough that de novo OTU picking is computationally feasible. However, depending\n",
      "on the sequences being used, it might be that the failures_failures.fasta file\n",
      "is still prohibitively large for de novo clustering, and the jobs might take\n",
      "too long to finish. In this case it is likely that the user would want to pass\n",
      "the --suppress_step4 flag to avoid this additional de novo step.\n",
      "\n",
      "A final round of de novo OTU picking is done on the failures_failures.fasta file\n",
      "to produce:\n",
      "step4_otus/failures_failures_cluster.uc\n",
      "step4_otus/failures_failures_otus.log\n",
      "step4_otus/failures_failures_otus.txt\n",
      "\n",
      "A representative sequence for each cluster is chosen to produce:\n",
      "step4_otus/step4_rep_set.fna\n",
      "\n",
      "Step 5) Produce the final OTU map and rep set\n",
      "If Step 4 is completed, the OTU maps from Step 1, Step 3, and Step 4 are\n",
      "concatenated to produce:\n",
      "final_otu_map.txt\n",
      "\n",
      "If Step 4 was not completed, the OTU maps from Steps 1 and Step 3 are\n",
      "concatenated together to produce:\n",
      "final_otu_map.txt\n",
      "\n",
      "Next, the minimum specified OTU size required to keep an OTU is specified with\n",
      "the --min_otu_size flag. For example, if the user left the --min_otu_size as the\n",
      "default value of 2, requiring each OTU to contain at least 2 sequences, the any\n",
      "OTUs which failed to meet this criteria would be removed from the\n",
      "final_otu_map.txt to produce:\n",
      "final_otu_map_mc2.txt\n",
      "\n",
      "If --min_otu_size 10 was passed, it would produce:\n",
      "final_otu_map_mc10.txt\n",
      "\n",
      "The final_otu_map_mc2.txt is used to build the final representative set:\n",
      "rep_set.fna\n",
      "\n",
      "Step 6) Making the OTU tables and trees\n",
      "An OTU table is built using the final_otu_map_mc2.txt file to produce:\n",
      "otu_table_mc2.biom\n",
      "\n",
      "As long as the --suppress_taxonomy_assignment flag is NOT passed,\n",
      "then taxonomy will be assigned to each of the representative sequences\n",
      "in the final rep_set produced in Step 5, producing:\n",
      "rep_set_tax_assignments.log\n",
      "rep_set_tax_assignments.txt\n",
      "This taxonomic metadata is then added to the otu_table_mc2.biom to produce:\n",
      "otu_table_mc_w_tax.biom\n",
      "\n",
      "As long as the --suppress_align_and_tree is NOT passed, then the rep_set.fna\n",
      "file will be used to align the sequences and build the phylogenetic tree,\n",
      "which includes the de novo OTUs. Any sequences that fail to align are\n",
      "omitted from the OTU table and tree to produce:\n",
      "otu_table_mc_no_pynast_failures.biom\n",
      "rep_set.tre\n",
      "\n",
      "If both --suppress_taxonomy_assignment and --suppress_align_and_tree are\n",
      "NOT passed, the script will produce:\n",
      "otu_table_mc_w_tax_no_pynast_failures.biom\n",
      "\n",
      "It is important to remember that with a large workflow script like this that\n",
      "the user can jump into intermediate steps. For example, imagine that for some\n",
      "reason the script was interrupted on Step 2, and the user did not want to go\n",
      "through the process of re-picking OTUs as was done in Step 1. They can simply\n",
      "rerun the script and pass in the:\n",
      "--step_1_otu_map_fp\n",
      "--step1_failures_fasta_fp\n",
      "parameters, and the script will continue with Steps 2 - 4.\n",
      "\n",
      "**Note:** If most or all of your sequences are failing to hit the reference\n",
      "during the prefiltering or closed-reference OTU picking steps, your sequences\n",
      "may be in the reverse orientation with respect to your reference database. To\n",
      "address this, you should add the following line to your parameters file\n",
      "(creating one, if necessary) and pass this file as -p:\n",
      "\n",
      "pick_otus:enable_rev_strand_match True\n",
      "\n",
      "Be aware that this doubles the amount of memory used in these steps of the\n",
      "workflow.\n",
      "\n",
      "\n",
      "\n",
      "Example usage: \n",
      "Print help message and exit\n",
      " pick_open_reference_otus.py -h\n",
      "\n",
      "Run the subsampled open-reference OTU picking workflow on seqs1.fna using refseqs.fna as the reference collection and using sortmerna and sumaclust as the OTU picking methods. ALWAYS SPECIFY ABSOLUTE FILE PATHS (absolute path represented here as $PWD, but will genenerally look like /home/ubuntu/my_analysis/\n",
      " pick_open_reference_otus.py -i $PWD/seqs1.fna -r $PWD/refseqs.fna -o $PWD/ucrss_sortmerna_sumaclust/ -p $PWD/ucrss_smr_suma_params.txt -m sortmerna_sumaclust\n",
      "\n",
      "Run the subsampled open-reference OTU picking workflow on seqs1.fna using refseqs.fna as the reference collection. ALWAYS SPECIFY ABSOLUTE FILE PATHS (absolute path represented here as $PWD, but will generally look something like /home/ubuntu/my_analysis/\n",
      " pick_open_reference_otus.py -i $PWD/seqs1.fna -r $PWD/refseqs.fna -o $PWD/ucrss/ -s 0.1 -p $PWD/ucrss_params.txt\n",
      "\n",
      "Run the subsampled open-reference OTU picking workflow on seqs1.fna using refseqs.fna as the reference collection and using usearch61 and usearch61_ref as the OTU picking methods. ALWAYS SPECIFY ABSOLUTE FILE PATHS (absolute path represented here as $PWD, but will generally look something like /home/ubuntu/my_analysis/\n",
      " pick_open_reference_otus.py -i $PWD/seqs1.fna -r $PWD/refseqs.fna -o $PWD/ucrss_usearch/ -s 0.1 -p $PWD/ucrss_params.txt -m usearch61\n",
      "\n",
      "Run the subsampled open-reference OTU picking workflow in iterative mode on seqs1.fna and seqs2.fna using refseqs.fna as the initial reference collection. ALWAYS SPECIFY ABSOLUTE FILE PATHS (absolute path represented here as $PWD, but will generally look something like /home/ubuntu/my_analysis/\n",
      " pick_open_reference_otus.py -i $PWD/seqs1.fna,$PWD/seqs2.fna -r $PWD/refseqs.fna -o $PWD/ucrss_iter/ -s 0.1 -p $PWD/ucrss_params.txt\n",
      "\n",
      "Run the subsampled open-reference OTU picking workflow in iterative mode on seqs1.fna and seqs2.fna using refseqs.fna as the initial reference collection. This is useful if you're working with marker genes that do not result in useful alignment (e.g., fungal ITS). ALWAYS SPECIFY ABSOLUTE FILE PATHS (absolute path represented here as $PWD, but will generally look something like /home/ubuntu/my_analysis/\n",
      " pick_open_reference_otus.py -i $PWD/seqs1.fna,$PWD/seqs2.fna -r $PWD/refseqs.fna -o $PWD/ucrss_iter_no_tree/ -s 0.1 -p $PWD/ucrss_params.txt --suppress_align_and_tree\n",
      "\n",
      "Run the subsampled open-reference OTU picking workflow in iterative mode on seqs1.fna and seqs2.fna using refseqs.fna as the initial reference collection, suppressing assignment of taxonomy. This is useful if you're working with a reference collection without associated taxonomy. ALWAYS SPECIFY ABSOLUTE FILE PATHS (absolute path represented here as $PWD, but will generally look something like /home/ubuntu/my_analysis/\n",
      " pick_open_reference_otus.py -i $PWD/seqs1.fna,$PWD/seqs2.fna -r $PWD/refseqs.fna -o $PWD/ucrss_iter_no_tax/ -s 0.1 -p $PWD/ucrss_params.txt --suppress_taxonomy_assignment\n",
      "\n",
      "Options:\n",
      "  --version             show program's version number and exit\n",
      "  -h, --help            show this help message and exit\n",
      "  -v, --verbose         Print information during execution -- useful for\n",
      "                        debugging [default: False]\n",
      "  -m OTU_PICKING_METHOD, --otu_picking_method=OTU_PICKING_METHOD\n",
      "                        The OTU picking method to use for reference and de\n",
      "                        novo steps. Passing usearch61, for example, means that\n",
      "                        usearch61 will be used for the de novo steps and\n",
      "                        usearch61_ref will be used for reference steps.\n",
      "                        [default: uclust]\n",
      "  -r REFERENCE_FP, --reference_fp=REFERENCE_FP\n",
      "                        the reference sequences [default: /ebio/abt3_projects/\n",
      "                        small_projects/nyoungblut/miniconda3/envs/py2/lib/pyth\n",
      "                        on2.7/site-packages/qiime_default_reference/gg_13_8_ot\n",
      "                        us/rep_set/97_otus.fasta]\n",
      "  -p PARAMETER_FP, --parameter_fp=PARAMETER_FP\n",
      "                        path to the parameter file, which specifies changes to\n",
      "                        the default behavior. See\n",
      "                        http://www.qiime.org/documentation/file_formats.html\n",
      "                        #qiime-parameters . [if omitted, default values will\n",
      "                        be used]\n",
      "  --prefilter_refseqs_fp=PREFILTER_REFSEQS_FP\n",
      "                        the reference sequences to use for the prefilter, if\n",
      "                        different from the reference sequecnces to use for the\n",
      "                        OTU picking [default: same as passed for\n",
      "                        --reference_fp]\n",
      "  -n NEW_REF_SET_ID, --new_ref_set_id=NEW_REF_SET_ID\n",
      "                        Unique identifier for OTUs that get created in this\n",
      "                        ref set (this is useful to support combining of\n",
      "                        reference sets) [default:New]\n",
      "  -f, --force           Force overwrite of existing output directory (note:\n",
      "                        existing files in output_dir will not be removed)\n",
      "                        [default: none]\n",
      "  -a, --parallel        Run in parallel where available [default: False]\n",
      "  -O JOBS_TO_START, --jobs_to_start=JOBS_TO_START\n",
      "                        Number of jobs to start. NOTE: you must also pass -a\n",
      "                        to run in parallel, this defines the number of jobs to\n",
      "                        be started if and only if -a is passed [default: 1]\n",
      "  -s PERCENT_SUBSAMPLE, --percent_subsample=PERCENT_SUBSAMPLE\n",
      "                        Percent of failure sequences to include in the\n",
      "                        subsample to cluster de novo, expressed as a fraction\n",
      "                        between 0 and 1 (larger numbers should give more\n",
      "                        comprehensive results but will be slower)\n",
      "                        [default:0.001]\n",
      "  --prefilter_percent_id=PREFILTER_PERCENT_ID\n",
      "                        Sequences are pre-clustered at this percent id\n",
      "                        (expressed as a fraction between 0 and 1) against the\n",
      "                        reference and any reads which fail to hit are\n",
      "                        discarded (a quality filter); pass 0.0 to disable\n",
      "                        [default:0.0]\n",
      "  --step1_otu_map_fp=STEP1_OTU_MAP_FP\n",
      "                        reference OTU picking OTU map, to avoid rebuilding if\n",
      "                        one has already been built. This must be an OTU map\n",
      "                        generated by this workflow, not (for example)\n",
      "                        pick_closed_reference_otus.py.\n",
      "  --step1_failures_fasta_fp=STEP1_FAILURES_FASTA_FP\n",
      "                        reference OTU picking failures fasta filepath, to\n",
      "                        avoid rebuilding if one has already been built. This\n",
      "                        must be a failures file generated by this workflow,\n",
      "                        not (for example) pick_closed_reference_otus.py.\n",
      "  --minimum_failure_threshold=MINIMUM_FAILURE_THRESHOLD\n",
      "                        The minimum number of sequences that must fail to hit\n",
      "                        the reference for subsampling to be performed. If\n",
      "                        fewer than this number of sequences fail to hit the\n",
      "                        reference, the de novo clustering step will run\n",
      "                        serially rather than invoking the subsampled open\n",
      "                        reference approach to improve performance. [default:\n",
      "                        100000]\n",
      "  --suppress_step4      suppress the final de novo OTU picking step  (may be\n",
      "                        necessary for extremely large data sets) [default:\n",
      "                        False]\n",
      "  --min_otu_size=MIN_OTU_SIZE\n",
      "                        the minimum otu size (in number of sequences) to\n",
      "                        retain the otu [default: 2]\n",
      "  --suppress_taxonomy_assignment\n",
      "                        skip the taxonomy assignment step, resulting in an OTU\n",
      "                        table without taxonomy [default: False]\n",
      "  --suppress_align_and_tree\n",
      "                        skip the sequence alignment and tree-building steps\n",
      "                        [default: False]\n",
      "\n",
      "  REQUIRED options:\n",
      "    The following options must be provided under all circumstances.\n",
      "\n",
      "    -i INPUT_FPS, --input_fps=INPUT_FPS\n",
      "                        the input sequences filepath or comma-separated list\n",
      "                        of filepaths [REQUIRED]\n",
      "    -o OUTPUT_DIR, --output_dir=OUTPUT_DIR\n",
      "                        the output directory [REQUIRED]\n"
     ]
    }
   ],
   "source": [
    "%%bash\n",
    "source activate py2\n",
    "\n",
    "pick_open_reference_otus.py -h"
   ]
  },
  {
   "cell_type": "markdown",
   "metadata": {
    "slideshow": {
     "slide_type": "slide"
    }
   },
   "source": [
    "## Run the job"
   ]
  },
  {
   "cell_type": "code",
   "execution_count": 38,
   "metadata": {
    "collapsed": true
   },
   "outputs": [],
   "source": [
    "%%bash\n",
    "source activate py2\n",
    "\n",
    "pick_open_reference_otus.py \\\n",
    "    -i split_libraries/seqs.fna \\\n",
    "    -o pick_otus \\\n",
    "    -p 16S_pickotu_param.txt \\\n",
    "    --force"
   ]
  },
  {
   "cell_type": "code",
   "execution_count": 43,
   "metadata": {},
   "outputs": [
    {
     "name": "stdout",
     "output_type": "stream",
     "text": [
      "total 144M\r\n",
      "-rw-r--r-- 1 nyoungblut ebio 2.4K Sep 12 21:45 index.html\r\n",
      "-rw-r--r-- 1 nyoungblut ebio 4.8K Sep 12 21:45 log_20170912213935.txt\r\n",
      "-rw-r--r-- 1 nyoungblut ebio 747K Sep 12 21:45 otu_table_mc2_w_tax_no_pynast_failures.biom\r\n",
      "-rw-r--r-- 1 nyoungblut ebio 118K Sep 12 21:45 rep_set.tre\r\n",
      "drwxr-xr-x 2 nyoungblut ebio  147 Sep 12 21:44 pynast_aligned_seqs\r\n",
      "-rw-r--r-- 1 nyoungblut ebio 751K Sep 12 21:41 otu_table_mc2_w_tax.biom\r\n",
      "drwxr-xr-x 2 nyoungblut ebio   88 Sep 12 21:41 uclust_assigned_taxonomy\r\n",
      "-rw-r--r-- 1 nyoungblut ebio 326K Sep 12 21:41 otu_table_mc2.biom\r\n",
      "-rw-r--r-- 1 nyoungblut ebio 137M Sep 12 21:41 new_refseqs.fna\r\n",
      "-rw-r--r-- 1 nyoungblut ebio 542K Sep 12 21:41 rep_set.fna\r\n",
      "-rw-r--r-- 1 nyoungblut ebio 2.4M Sep 12 21:41 final_otu_map_mc2.txt\r\n",
      "-rw-r--r-- 1 nyoungblut ebio 2.5M Sep 12 21:41 final_otu_map.txt\r\n",
      "-rw-r--r-- 1 nyoungblut ebio 5.4K Sep 12 21:39 log_20170912213900.txt\r\n",
      "drwxr-xr-x 3 nyoungblut ebio  194 Sep 12 21:39 step1_otus\r\n",
      "-rw-r--r-- 1 nyoungblut ebio 4.6K Sep 12 21:28 log_20170912212651.txt\r\n",
      "drwxr-xr-x 2 nyoungblut ebio  129 Sep 12 21:28 step4_otus\r\n"
     ]
    }
   ],
   "source": [
    "# viewing output\n",
    "!ls -thlc pick_otus/"
   ]
  },
  {
   "cell_type": "markdown",
   "metadata": {
    "slideshow": {
     "slide_type": "slide"
    }
   },
   "source": [
    "# Summarize biom"
   ]
  },
  {
   "cell_type": "code",
   "execution_count": 2,
   "metadata": {
    "ExecuteTime": {
     "end_time": "2017-09-14T07:58:40.232588Z",
     "start_time": "2017-09-14T07:58:36.592466Z"
    }
   },
   "outputs": [
    {
     "name": "stdout",
     "output_type": "stream",
     "text": [
      "Usage: biom summarize-table [OPTIONS]\n",
      "\n",
      "  Summarize sample or observation data in a BIOM table.\n",
      "\n",
      "  Provides details on the observation counts per sample, including summary\n",
      "  statistics, as well as metadata categories associated with samples and\n",
      "  observations.\n",
      "\n",
      "  Example usage:\n",
      "\n",
      "  Write a summary of table.biom to table_summary.txt:\n",
      "\n",
      "  $ biom summarize-table -i table.biom -o table_summary.txt\n",
      "\n",
      "Options:\n",
      "  -i, --input-fp PATH   The input BIOM table  [required]\n",
      "  -o, --output-fp PATH  An output file-path\n",
      "  --qualitative         Present counts as number of unique observation ids per\n",
      "                        sample, rather than counts of observations per sample.\n",
      "  --observations        Summarize over observations\n",
      "  --help                Show this message and exit.\n"
     ]
    }
   ],
   "source": [
    "%%bash\n",
    "source activate py2\n",
    "\n",
    "biom summarize-table --help"
   ]
  },
  {
   "cell_type": "markdown",
   "metadata": {
    "slideshow": {
     "slide_type": "slide"
    }
   },
   "source": [
    "## Job call"
   ]
  },
  {
   "cell_type": "code",
   "execution_count": 45,
   "metadata": {
    "collapsed": true
   },
   "outputs": [],
   "source": [
    "%%bash\n",
    "source activate py2\n",
    "\n",
    "biom summarize-table \\\n",
    "    -i pick_otus/otu_table_mc2_w_tax.biom \\\n",
    "    -o pick_otus/otu_table_mc2_w_tax_summary.txt"
   ]
  },
  {
   "cell_type": "code",
   "execution_count": 46,
   "metadata": {},
   "outputs": [
    {
     "name": "stdout",
     "output_type": "stream",
     "text": [
      "Num samples: 34\r\n",
      "Num observations: 3465\r\n",
      "Total count: 182510\r\n",
      "Table density (fraction of non-zero values): 0.121\r\n",
      "\r\n",
      "Counts/sample summary:\r\n",
      " Min: 1114.0\r\n",
      " Max: 11451.0\r\n",
      " Median: 4986.500\r\n",
      " Mean: 5367.941\r\n",
      " Std. dev.: 3336.941\r\n",
      " Sample Metadata Categories: None provided\r\n",
      " Observation Metadata Categories: taxonomy\r\n",
      "\r\n",
      "Counts/sample detail:\r\n",
      "L3S242: 1114.0\r\n",
      "L3S341: 1235.0\r\n",
      "L3S360: 1249.0\r\n",
      "L3S313: 1305.0\r\n",
      "L3S294: 1480.0\r\n",
      "L3S378: 1558.0\r\n",
      "L2S309: 1859.0\r\n",
      "L5S155: 1982.0\r\n",
      "L5S240: 2127.0\r\n",
      "L5S174: 2176.0\r\n",
      "L5S203: 2352.0\r\n",
      "L5S104: 2505.0\r\n",
      "L5S222: 2771.0\r\n",
      "L2S357: 3031.0\r\n",
      "L2S222: 4104.0\r\n",
      "L2S204: 4191.0\r\n",
      "L2S155: 4921.0\r\n",
      "L2S382: 5052.0\r\n",
      "L2S175: 5453.0\r\n",
      "L2S240: 7054.0\r\n",
      "L1S257: 7165.0\r\n",
      "L6S68: 7281.0\r\n",
      "L1S281: 7548.0\r\n",
      "L6S20: 7882.0\r\n",
      "L1S8: 8320.0\r\n",
      "L1S140: 8478.0\r\n",
      "L6S93: 8509.0\r\n",
      "L1S76: 8837.0\r\n",
      "L1S105: 9065.0\r\n",
      "L4S112: 9739.0\r\n",
      "L1S57: 9793.0\r\n",
      "L1S208: 9863.0\r\n",
      "L4S63: 11060.0\r\n",
      "L4S137: 11451.0"
     ]
    }
   ],
   "source": [
    "!cat pick_otus/otu_table_mc2_w_tax_summary.txt"
   ]
  },
  {
   "cell_type": "code",
   "execution_count": null,
   "metadata": {
    "collapsed": true
   },
   "outputs": [],
   "source": []
  }
 ],
 "metadata": {
  "celltoolbar": "Slideshow",
  "kernelspec": {
   "display_name": "Python [default]",
   "language": "python",
   "name": "python3"
  },
  "language_info": {
   "codemirror_mode": {
    "name": "ipython",
    "version": 3
   },
   "file_extension": ".py",
   "mimetype": "text/x-python",
   "name": "python",
   "nbconvert_exporter": "python",
   "pygments_lexer": "ipython3",
   "version": "3.6.1"
  },
  "toc": {
   "nav_menu": {},
   "number_sections": true,
   "sideBar": true,
   "skip_h1_title": false,
   "toc_cell": false,
   "toc_position": {},
   "toc_section_display": "block",
   "toc_window_display": false
  }
 },
 "nbformat": 4,
 "nbformat_minor": 2
}
