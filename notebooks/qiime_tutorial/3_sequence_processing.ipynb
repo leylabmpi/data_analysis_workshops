{
 "cells": [
  {
   "cell_type": "markdown",
   "metadata": {
    "slideshow": {
     "slide_type": "slide"
    }
   },
   "source": [
    "# Set up"
   ]
  },
  {
   "cell_type": "code",
   "execution_count": null,
   "metadata": {
    "ExecuteTime": {
     "end_time": "2017-09-14T18:47:21.476687Z",
     "start_time": "2017-09-14T18:47:21.459515Z"
    }
   },
   "outputs": [],
   "source": [
    "%cd ../../data/Qiime_Introduction_Tutorial/"
   ]
  },
  {
   "cell_type": "code",
   "execution_count": null,
   "metadata": {
    "ExecuteTime": {
     "end_time": "2017-09-14T18:47:22.344734Z",
     "start_time": "2017-09-14T18:47:22.220949Z"
    }
   },
   "outputs": [],
   "source": [
    "ls -thlc"
   ]
  },
  {
   "cell_type": "markdown",
   "metadata": {
    "slideshow": {
     "slide_type": "slide"
    }
   },
   "source": [
    "# Writing QIIME parameter file"
   ]
  },
  {
   "cell_type": "code",
   "execution_count": null,
   "metadata": {
    "ExecuteTime": {
     "end_time": "2017-09-14T18:47:27.276623Z",
     "start_time": "2017-09-14T18:47:27.265546Z"
    }
   },
   "outputs": [],
   "source": [
    "%%writefile 16S_pickotu_param.txt\n",
    "pick_otus:enable_rev_strand_match True"
   ]
  },
  {
   "cell_type": "code",
   "execution_count": null,
   "metadata": {
    "ExecuteTime": {
     "end_time": "2017-09-14T18:47:28.852581Z",
     "start_time": "2017-09-14T18:47:28.729281Z"
    }
   },
   "outputs": [],
   "source": [
    "# viewing parameter file\n",
    "!cat 16S_pickotu_param.txt"
   ]
  },
  {
   "cell_type": "markdown",
   "metadata": {
    "slideshow": {
     "slide_type": "slide"
    }
   },
   "source": [
    "# Picking OTUs"
   ]
  },
  {
   "cell_type": "code",
   "execution_count": null,
   "metadata": {
    "ExecuteTime": {
     "end_time": "2017-09-14T18:47:38.248528Z",
     "start_time": "2017-09-14T18:47:32.548949Z"
    }
   },
   "outputs": [],
   "source": [
    "%%bash\n",
    "source activate py2\n",
    "\n",
    "pick_open_reference_otus.py -h"
   ]
  },
  {
   "cell_type": "markdown",
   "metadata": {
    "slideshow": {
     "slide_type": "slide"
    }
   },
   "source": [
    "## Run the job"
   ]
  },
  {
   "cell_type": "code",
   "execution_count": null,
   "metadata": {
    "ExecuteTime": {
     "end_time": "2017-09-14T18:53:49.052733Z",
     "start_time": "2017-09-14T18:47:38.250988Z"
    },
    "collapsed": true
   },
   "outputs": [],
   "source": [
    "%%bash\n",
    "source activate py2\n",
    "\n",
    "pick_open_reference_otus.py \\\n",
    "    -i split_libraries/seqs.fna \\\n",
    "    -o pick_otus \\\n",
    "    -p 16S_pickotu_param.txt \\\n",
    "    --force"
   ]
  },
  {
   "cell_type": "code",
   "execution_count": null,
   "metadata": {
    "ExecuteTime": {
     "end_time": "2017-09-14T18:53:49.180561Z",
     "start_time": "2017-09-14T18:53:49.055435Z"
    }
   },
   "outputs": [],
   "source": [
    "# viewing output\n",
    "!ls -thlc pick_otus/"
   ]
  },
  {
   "cell_type": "markdown",
   "metadata": {
    "slideshow": {
     "slide_type": "slide"
    }
   },
   "source": [
    "# Summarize biom"
   ]
  },
  {
   "cell_type": "code",
   "execution_count": null,
   "metadata": {
    "ExecuteTime": {
     "end_time": "2017-09-14T18:53:53.296654Z",
     "start_time": "2017-09-14T18:53:49.182952Z"
    }
   },
   "outputs": [],
   "source": [
    "%%bash\n",
    "source activate py2\n",
    "\n",
    "biom summarize-table --help"
   ]
  },
  {
   "cell_type": "markdown",
   "metadata": {
    "slideshow": {
     "slide_type": "slide"
    }
   },
   "source": [
    "## Job call"
   ]
  },
  {
   "cell_type": "code",
   "execution_count": null,
   "metadata": {
    "ExecuteTime": {
     "end_time": "2017-09-14T18:53:56.932759Z",
     "start_time": "2017-09-14T18:53:53.299145Z"
    },
    "collapsed": true
   },
   "outputs": [],
   "source": [
    "%%bash\n",
    "source activate py2\n",
    "\n",
    "biom summarize-table \\\n",
    "    -i pick_otus/otu_table_mc2_w_tax.biom \\\n",
    "    -o pick_otus/otu_table_mc2_w_tax_summary.txt"
   ]
  },
  {
   "cell_type": "code",
   "execution_count": null,
   "metadata": {
    "ExecuteTime": {
     "end_time": "2017-09-14T18:53:57.056756Z",
     "start_time": "2017-09-14T18:53:56.935423Z"
    }
   },
   "outputs": [],
   "source": [
    "!cat pick_otus/otu_table_mc2_w_tax_summary.txt"
   ]
  }
 ],
 "metadata": {
  "kernelspec": {
   "display_name": "Python [default]",
   "language": "python",
   "name": "python3"
  },
  "language_info": {
   "codemirror_mode": {
    "name": "ipython",
    "version": 3
   },
   "file_extension": ".py",
   "mimetype": "text/x-python",
   "name": "python",
   "nbconvert_exporter": "python",
   "pygments_lexer": "ipython3",
   "version": "3.6.1"
  },
  "toc": {
   "nav_menu": {},
   "number_sections": true,
   "sideBar": true,
   "skip_h1_title": false,
   "toc_cell": false,
   "toc_position": {},
   "toc_section_display": "block",
   "toc_window_display": false
  }
 },
 "nbformat": 4,
 "nbformat_minor": 2
}
