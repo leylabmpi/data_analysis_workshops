{
 "cells": [
  {
   "cell_type": "markdown",
   "metadata": {
    "slideshow": {
     "slide_type": "slide"
    }
   },
   "source": [
    "# Viewing & validating the mapping file"
   ]
  },
  {
   "cell_type": "markdown",
   "metadata": {
    "slideshow": {
     "slide_type": "slide"
    }
   },
   "source": [
    "## File location"
   ]
  },
  {
   "cell_type": "code",
   "execution_count": null,
   "metadata": {
    "ExecuteTime": {
     "end_time": "2017-09-14T18:46:23.960883Z",
     "start_time": "2017-09-14T18:46:23.830919Z"
    }
   },
   "outputs": [],
   "source": [
    "ls -thlc ../../data/Qiime_Introduction_Tutorial/"
   ]
  },
  {
   "cell_type": "code",
   "execution_count": null,
   "metadata": {
    "ExecuteTime": {
     "end_time": "2017-09-14T18:46:24.956486Z",
     "start_time": "2017-09-14T18:46:24.947007Z"
    }
   },
   "outputs": [],
   "source": [
    "%cd ../../data/Qiime_Introduction_Tutorial/"
   ]
  },
  {
   "cell_type": "code",
   "execution_count": null,
   "metadata": {
    "ExecuteTime": {
     "end_time": "2017-09-14T18:46:25.936528Z",
     "start_time": "2017-09-14T18:46:25.815386Z"
    }
   },
   "outputs": [],
   "source": [
    "ls -thlc "
   ]
  },
  {
   "cell_type": "markdown",
   "metadata": {
    "slideshow": {
     "slide_type": "slide"
    }
   },
   "source": [
    "## Loading file with pandas"
   ]
  },
  {
   "cell_type": "code",
   "execution_count": null,
   "metadata": {
    "ExecuteTime": {
     "end_time": "2017-09-14T18:46:29.808799Z",
     "start_time": "2017-09-14T18:46:27.713869Z"
    },
    "collapsed": true
   },
   "outputs": [],
   "source": [
    "import pandas as pd"
   ]
  },
  {
   "cell_type": "code",
   "execution_count": null,
   "metadata": {
    "ExecuteTime": {
     "end_time": "2017-09-14T18:46:29.880435Z",
     "start_time": "2017-09-14T18:46:29.811268Z"
    }
   },
   "outputs": [],
   "source": [
    "pd.read_csv('mapping_file.txt', sep='\\t')"
   ]
  },
  {
   "cell_type": "markdown",
   "metadata": {
    "slideshow": {
     "slide_type": "slide"
    }
   },
   "source": [
    "## Validating mapping file"
   ]
  },
  {
   "cell_type": "markdown",
   "metadata": {},
   "source": [
    "> Note: Python 3 is used by default for BASH, and QIIME is only Python 2"
   ]
  },
  {
   "cell_type": "code",
   "execution_count": null,
   "metadata": {
    "ExecuteTime": {
     "end_time": "2017-09-14T18:46:43.424630Z",
     "start_time": "2017-09-14T18:46:43.404642Z"
    }
   },
   "outputs": [],
   "source": [
    "%%bash\n",
    "validate_mapping_file.py -h"
   ]
  },
  {
   "cell_type": "code",
   "execution_count": null,
   "metadata": {
    "ExecuteTime": {
     "end_time": "2017-09-14T18:46:44.252630Z",
     "start_time": "2017-09-14T18:46:44.229441Z"
    }
   },
   "outputs": [],
   "source": [
    "%%bash\n",
    "# python2 or python3?\n",
    "python --version"
   ]
  },
  {
   "cell_type": "code",
   "execution_count": null,
   "metadata": {
    "ExecuteTime": {
     "end_time": "2017-09-14T18:46:53.008531Z",
     "start_time": "2017-09-14T18:46:45.330207Z"
    }
   },
   "outputs": [],
   "source": [
    "%%bash\n",
    "# activate conda environment\n",
    "source activate py2\n",
    "validate_mapping_file.py -h"
   ]
  },
  {
   "cell_type": "markdown",
   "metadata": {
    "slideshow": {
     "slide_type": "slide"
    }
   },
   "source": [
    "### Validating (actuall call)"
   ]
  },
  {
   "cell_type": "code",
   "execution_count": null,
   "metadata": {
    "ExecuteTime": {
     "end_time": "2017-09-14T18:46:58.848639Z",
     "start_time": "2017-09-14T18:46:53.010696Z"
    }
   },
   "outputs": [],
   "source": [
    "%%bash\n",
    "source activate py2\n",
    "# qiime: validate mapping file script\n",
    "validate_mapping_file.py \\\n",
    "    -m mapping_file.txt \\\n",
    "    -o validate_map"
   ]
  },
  {
   "cell_type": "code",
   "execution_count": null,
   "metadata": {
    "ExecuteTime": {
     "end_time": "2017-09-14T18:46:58.972565Z",
     "start_time": "2017-09-14T18:46:58.851445Z"
    }
   },
   "outputs": [],
   "source": [
    "ls -thlc validate_map"
   ]
  },
  {
   "cell_type": "markdown",
   "metadata": {
    "slideshow": {
     "slide_type": "slide"
    }
   },
   "source": [
    "### View html output"
   ]
  },
  {
   "cell_type": "code",
   "execution_count": null,
   "metadata": {
    "ExecuteTime": {
     "end_time": "2017-09-14T18:46:58.988585Z",
     "start_time": "2017-09-14T18:46:58.974952Z"
    }
   },
   "outputs": [],
   "source": [
    "from IPython.core.display import display, HTML\n",
    "\n",
    "with open('validate_map/mapping_file.html') as f:\n",
    "    output = f.read()\n",
    "display(HTML(output))"
   ]
  },
  {
   "cell_type": "code",
   "execution_count": null,
   "metadata": {
    "collapsed": true
   },
   "outputs": [],
   "source": []
  }
 ],
 "metadata": {
  "kernelspec": {
   "display_name": "Python [conda env:py2]",
   "language": "python",
   "name": "conda-env-py2-py"
  },
  "language_info": {
   "codemirror_mode": {
    "name": "ipython",
    "version": 2
   },
   "file_extension": ".py",
   "mimetype": "text/x-python",
   "name": "python",
   "nbconvert_exporter": "python",
   "pygments_lexer": "ipython2",
   "version": "2.7.13"
  },
  "toc": {
   "nav_menu": {},
   "number_sections": true,
   "sideBar": true,
   "skip_h1_title": false,
   "toc_cell": false,
   "toc_position": {},
   "toc_section_display": "block",
   "toc_window_display": false
  }
 },
 "nbformat": 4,
 "nbformat_minor": 2
}
