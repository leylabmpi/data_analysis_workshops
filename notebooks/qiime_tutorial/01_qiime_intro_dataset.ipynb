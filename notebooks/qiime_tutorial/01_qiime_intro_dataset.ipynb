{
 "cells": [
  {
   "cell_type": "markdown",
   "metadata": {
    "slideshow": {
     "slide_type": "slide"
    }
   },
   "source": [
    "# Description\n",
    "\n",
    "This tutorial is a Jupyter Notebook version of the tutorial described in [this gitbook](https://www.gitbook.com/book/twbattaglia/introduction-to-qiime/details)"
   ]
  },
  {
   "cell_type": "markdown",
   "metadata": {
    "slideshow": {
     "slide_type": "slide"
    }
   },
   "source": [
    "# Source files\n",
    "\n",
    "> Note: paths are relative to the notebook file"
   ]
  },
  {
   "cell_type": "code",
   "execution_count": 1,
   "metadata": {
    "ExecuteTime": {
     "end_time": "2017-09-14T18:46:01.016781Z",
     "start_time": "2017-09-14T18:46:00.885766Z"
    }
   },
   "outputs": [
    {
     "name": "stdout",
     "output_type": "stream",
     "text": [
      "16s_pickotu_param.txt  mtcars.txt  params.txt  Qiime_Introduction_Tutorial.zip\r\n"
     ]
    }
   ],
   "source": [
    "!ls ../../src/"
   ]
  },
  {
   "cell_type": "markdown",
   "metadata": {
    "slideshow": {
     "slide_type": "slide"
    }
   },
   "source": [
    "## Unzipping"
   ]
  },
  {
   "cell_type": "code",
   "execution_count": 2,
   "metadata": {
    "ExecuteTime": {
     "end_time": "2017-09-14T18:46:03.288676Z",
     "start_time": "2017-09-14T18:46:02.433085Z"
    }
   },
   "outputs": [
    {
     "name": "stdout",
     "output_type": "stream",
     "text": [
      "Archive:  ../../src/Qiime_Introduction_Tutorial.zip\n",
      "   creating: ../../data/Qiime_Introduction_Tutorial/\n",
      "  inflating: ../../data/Qiime_Introduction_Tutorial/.DS_Store  \n",
      "   creating: ../../data/__MACOSX/\n",
      "   creating: ../../data/__MACOSX/Qiime_Introduction_Tutorial/\n",
      "  inflating: ../../data/__MACOSX/Qiime_Introduction_Tutorial/._.DS_Store  \n",
      "  inflating: ../../data/Qiime_Introduction_Tutorial/16s_pickotu_param.txt  \n",
      "  inflating: ../../data/__MACOSX/Qiime_Introduction_Tutorial/._16s_pickotu_param.txt  \n",
      "  inflating: ../../data/Qiime_Introduction_Tutorial/mapping_file.txt  \n",
      "  inflating: ../../data/__MACOSX/Qiime_Introduction_Tutorial/._mapping_file.txt  \n",
      "  inflating: ../../data/Qiime_Introduction_Tutorial/otu_table.biom  \n",
      "  inflating: ../../data/Qiime_Introduction_Tutorial/qiime_processing_workflow_local.sh  \n",
      "  inflating: ../../data/__MACOSX/Qiime_Introduction_Tutorial/._qiime_processing_workflow_local.sh  \n",
      "  inflating: ../../data/Qiime_Introduction_Tutorial/rep_set.fna  \n",
      "  inflating: ../../data/Qiime_Introduction_Tutorial/rep_set.tre  \n",
      "   creating: ../../data/Qiime_Introduction_Tutorial/split_libraries/\n",
      "  inflating: ../../data/Qiime_Introduction_Tutorial/split_libraries/.DS_Store  \n",
      "   creating: ../../data/__MACOSX/Qiime_Introduction_Tutorial/split_libraries/\n",
      "  inflating: ../../data/__MACOSX/Qiime_Introduction_Tutorial/split_libraries/._.DS_Store  \n",
      "  inflating: ../../data/Qiime_Introduction_Tutorial/split_libraries/histograms.txt  \n",
      "  inflating: ../../data/Qiime_Introduction_Tutorial/split_libraries/README.txt  \n",
      "  inflating: ../../data/__MACOSX/Qiime_Introduction_Tutorial/split_libraries/._README.txt  \n",
      "  inflating: ../../data/Qiime_Introduction_Tutorial/split_libraries/seqs.fna  \n",
      "  inflating: ../../data/Qiime_Introduction_Tutorial/split_libraries/split_library_log.txt  \n"
     ]
    }
   ],
   "source": [
    "!unzip -d ../../data/ ../../src/Qiime_Introduction_Tutorial.zip "
   ]
  },
  {
   "cell_type": "code",
   "execution_count": 3,
   "metadata": {
    "ExecuteTime": {
     "end_time": "2017-09-14T18:46:06.256635Z",
     "start_time": "2017-09-14T18:46:06.129811Z"
    }
   },
   "outputs": [
    {
     "name": "stdout",
     "output_type": "stream",
     "text": [
      "total 1.7M\r\n",
      "drwxr-sr-x 2 nyoungblut abt3  132 Oct 29 20:28 split_libraries\r\n",
      "-rw-r--r-- 1 nyoungblut abt3 542K Oct 29 20:28 rep_set.fna\r\n",
      "-rw-r--r-- 1 nyoungblut abt3 118K Oct 29 20:28 rep_set.tre\r\n",
      "-rw-r--r-- 1 nyoungblut abt3 1.1M Oct 29 20:28 otu_table.biom\r\n",
      "-rw-r--r-- 1 nyoungblut abt3 2.9K Oct 29 20:28 qiime_processing_workflow_local.sh\r\n",
      "-rw-r--r-- 1 nyoungblut abt3  108 Oct 29 20:28 16s_pickotu_param.txt\r\n",
      "-rw------- 1 nyoungblut abt3 3.0K Oct 29 20:28 mapping_file.txt\r\n"
     ]
    }
   ],
   "source": [
    "!ls -thlc ../../data/Qiime_Introduction_Tutorial/"
   ]
  },
  {
   "cell_type": "markdown",
   "metadata": {
    "collapsed": true
   },
   "source": [
    "# Next step...\n",
    "\n",
    "[mapping file](./02_mapping_file.ipynb)"
   ]
  }
 ],
 "metadata": {
  "kernelspec": {
   "display_name": "Python 3",
   "language": "python",
   "name": "python3"
  },
  "language_info": {
   "codemirror_mode": {
    "name": "ipython",
    "version": 3
   },
   "file_extension": ".py",
   "mimetype": "text/x-python",
   "name": "python",
   "nbconvert_exporter": "python",
   "pygments_lexer": "ipython3",
   "version": "3.7.0"
  },
  "toc": {
   "nav_menu": {},
   "number_sections": true,
   "sideBar": true,
   "skip_h1_title": false,
   "toc_cell": false,
   "toc_position": {},
   "toc_section_display": "block",
   "toc_window_display": false
  }
 },
 "nbformat": 4,
 "nbformat_minor": 2
}
