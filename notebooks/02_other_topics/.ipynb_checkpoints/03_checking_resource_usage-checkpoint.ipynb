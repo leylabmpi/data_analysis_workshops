{
 "cells": [
  {
   "cell_type": "markdown",
   "metadata": {
    "slideshow": {
     "slide_type": "slide"
    }
   },
   "source": [
    "# Resource utilization\n",
    "\n",
    "* We are all sharing the same resources"
   ]
  },
  {
   "cell_type": "markdown",
   "metadata": {
    "slideshow": {
     "slide_type": "slide"
    }
   },
   "source": [
    "# Disk usage"
   ]
  },
  {
   "cell_type": "code",
   "execution_count": 2,
   "metadata": {},
   "outputs": [
    {
     "name": "stdout",
     "output_type": "stream",
     "text": [
      "disk usage (unit: Gigabytes)\r\n",
      "~~~~~~~~~~~~~~~~~~~~~~~~~~~~\r\n",
      "\r\n",
      "inode usage (unit: 1000 files)\r\n",
      "~~~~~~~~~~~~~~~~~~~~~~~~~~~~~~\r\n",
      "\r\n",
      "project disk usage (unit: Gigabytes)\r\n",
      "~~~~~~~~~~~~~~~~~~~~~~~~~~~~~~~~~~~~\r\n",
      "databases_no-backup                       *********************** 8145    (18%)\r\n",
      "amylase_oral_stool_microbiome             ********** 3734                  (8%)\r\n",
      "databases                                 ********* 3536                   (8%)\r\n",
      "TwinsUK_viromes_Shao_Pei                  ********* 3303                   (7%)\r\n",
      "Christensenella_CM12                      ******** 3069                    (7%)\r\n",
      "TwinsUK_Bifido                            ******* 2833                     (6%)\r\n",
      "TwinsUK                                   ******* 2754                     (6%)\r\n",
      "Christensenella_Project                   ***** 1838                       (4%)\r\n",
      "methanogen_host_evo                       **** 1622                        (3%)\r\n",
      "Bifido_Lactose_tolerance                  **** 1471                        (3%)\r\n",
      "TEDDY_gut_microbiome_16S_FACS             *** 1268                         (2%)\r\n",
      "vadinCA11                                 ** 1049                          (2%)\r\n",
      "pseudomonas_maize_genome                  ** 799                           (1%)\r\n",
      "PseudoMetagenomes                         * 680                            (1%)\r\n",
      "FattyAcids_SmallIntestine                 * 604                            (1%)\r\n",
      "Anxiety_Twins_Metagenomes                 * 545                            (1%)\r\n",
      "columbian_gut_metagenome                  * 516                            (1%)\r\n",
      "TwinsUK_Dectin_ITS                        * 458                            (1%)\r\n",
      "Bacteroides_sphingolipids_brainIHC        * 420                            (0%)\r\n",
      "Christensenella_Cornell                   * 400                            (0%)\r\n",
      "software                                   334                             (0%)\r\n",
      "Ecoli_flagellin_microscopy                 315                             (0%)\r\n",
      "TLR5_DMS                                   262                             (0%)\r\n",
      "PGD_gut_microbiota                         229                             (0%)\r\n",
      "BGI_metagenomes                            222                             (0%)\r\n",
      "Polar_bear_gut_communities                 205                             (0%)\r\n",
      "sptlc2_KO_mice_microbiome                  201                             (0%)\r\n",
      "sp_ckolmeder                               188                             (0%)\r\n",
      "sp_mkreutzer                               147                             (0%)\r\n",
      "Georg_animal_feces                         136                             (0%)\r\n",
      "Oral_Stool_Pilot_Processing                134                             (0%)\r\n",
      "NIH_HIV_Miami                              127                             (0%)\r\n",
      "microbiome_of_TLR5_KO_mice                 122                             (0%)\r\n",
      "travelers_diarrhea                         112                             (0%)\r\n",
      "MALDI_brain_imaging_sphingo                107                             (0%)\r\n",
      "Psychrobacter_comparative_genomics         100                             (0%)\r\n",
      "maize_2010_2015_16S_analyses               94                              (0%)\r\n",
      "sp_jsutter                                 93                              (0%)\r\n",
      "Diversity_outbred_mouse_16S                84                              (0%)\r\n",
      "sp_nyoungblut                              77                              (0%)\r\n",
      "sp_jdelacuesta                             77                              (0%)\r\n",
      "PseudoGenomes                              60                              (0%)\r\n",
      "Colonized_Mouse_Experiments_What_Persists  55                              (0%)\r\n",
      "SIGR_MC_seqs_2016                          51                              (0%)\r\n",
      "Fecal_Stability_Desiccant_Study            45                              (0%)\r\n",
      "sp_cfrick                                  43                              (0%)\r\n",
      "sp_henav                                   39                              (0%)\r\n",
      "HUBIF_16S                                  35                              (0%)\r\n",
      "methanogen_formate                         30                              (0%)\r\n",
      "lta_bioreactors_microbiome                 30                              (0%)\r\n",
      "sp_wwalters                                25                              (0%)\r\n",
      "Ecology_Synthetic_Communities              19                              (0%)\r\n",
      "Methanogen_SCFA                            18                              (0%)\r\n",
      "sp_gluque                                  13                              (0%)\r\n",
      "TGR5_VSG_Cummings                          11                              (0%)\r\n",
      "sp_vschmidt                                11                              (0%)\r\n",
      "sp_aruaud                                  8                               (0%)\r\n",
      "sp_aborbon                                 8                               (0%)\r\n",
      "TLR5_Functional_Metagenomics               6                               (0%)\r\n",
      "sp_zhenseler                               5                               (0%)\r\n",
      "sp_jmoreno                                 5                               (0%)\r\n",
      "sp_jwaters                                 3                               (0%)\r\n",
      "sp_dwelter                                 3                               (0%)\r\n",
      "sp_cfriedemann                             3                               (0%)\r\n",
      "temp_data                                  1                               (0%)\r\n",
      "\r\n",
      "project inode usage (unit: 1000 files)\r\n",
      "~~~~~~~~~~~~~~~~~~~~~~~~~~~~~~~~~~~~~~\r\n",
      "software                                  *********************** 3927    (19%)\r\n",
      "databases_no-backup                       ************** 2409             (12%)\r\n",
      "methanogen_host_evo                       ******** 1447                    (7%)\r\n",
      "vadinCA11                                 ****** 1044                      (5%)\r\n",
      "amylase_oral_stool_microbiome             ***** 965                        (4%)\r\n",
      "Psychrobacter_comparative_genomics        ***** 957                        (4%)\r\n",
      "PseudoGenomes                             *** 638                          (3%)\r\n",
      "TwinsUK_viromes_Shao_Pei                  *** 610                          (3%)\r\n",
      "HUBIF_16S                                 *** 601                          (3%)\r\n",
      "Anxiety_Twins_Metagenomes                 *** 572                          (2%)\r\n",
      "Bifido_Lactose_tolerance                  *** 539                          (2%)\r\n",
      "Christensenella_Project                   *** 517                          (2%)\r\n",
      "databases                                 ** 410                           (2%)\r\n",
      "columbian_gut_metagenome                  ** 404                           (2%)\r\n",
      "PseudoMetagenomes                         * 330                            (1%)\r\n",
      "travelers_diarrhea                        * 318                            (1%)\r\n",
      "Ecology_Synthetic_Communities             * 272                            (1%)\r\n",
      "SIGR_MC_seqs_2016                         * 216                            (1%)\r\n",
      "TwinsUK_Dectin_ITS                        * 214                            (1%)\r\n",
      "TwinsUK_Bifido                            * 209                            (1%)\r\n",
      "Christensenella_CM12                      * 189                            (0%)\r\n",
      "Georg_animal_feces                        * 183                            (0%)\r\n",
      "maize_2010_2015_16S_analyses              * 180                            (0%)\r\n",
      "sp_ckolmeder                              * 177                            (0%)\r\n",
      "TLR5_Functional_Metagenomics               169                             (0%)\r\n",
      "sp_aruaud                                  168                             (0%)\r\n",
      "sp_nyoungblut                              162                             (0%)\r\n",
      "NIH_HIV_Miami                              156                             (0%)\r\n",
      "PGD_gut_microbiota                         145                             (0%)\r\n",
      "sp_jdelacuesta                             138                             (0%)\r\n",
      "sp_aborbon                                 129                             (0%)\r\n",
      "sp_jmoreno                                 127                             (0%)\r\n",
      "sp_wwalters                                124                             (0%)\r\n",
      "Fecal_Stability_Desiccant_Study            123                             (0%)\r\n",
      "sp_zhenseler                               121                             (0%)\r\n",
      "sp_henav                                   119                             (0%)\r\n",
      "sp_jsutter                                 113                             (0%)\r\n",
      "sp_mkreutzer                               104                             (0%)\r\n",
      "TLR5_DMS                                   102                             (0%)\r\n",
      "sp_cfriedemann                             99                              (0%)\r\n",
      "sp_jwaters                                 94                              (0%)\r\n",
      "sp_dwelter                                 84                              (0%)\r\n",
      "microbiome_of_TLR5_KO_mice                 54                              (0%)\r\n",
      "Polar_bear_gut_communities                 49                              (0%)\r\n",
      "TwinsUK                                    35                              (0%)\r\n",
      "sp_vschmidt                                33                              (0%)\r\n",
      "TEDDY_gut_microbiome_16S_FACS              27                              (0%)\r\n",
      "Methanogen_SCFA                            27                              (0%)\r\n",
      "pseudomonas_maize_genome                   21                              (0%)\r\n",
      "Christensenella_Cornell                    14                              (0%)\r\n",
      "sptlc2_KO_mice_microbiome                  7                               (0%)\r\n",
      "FattyAcids_SmallIntestine                  6                               (0%)\r\n",
      "Diversity_outbred_mouse_16S                4                               (0%)\r\n",
      "sp_gluque                                  2                               (0%)\r\n",
      "methanogen_formate                         2                               (0%)\r\n",
      "Oral_Stool_Pilot_Processing                1                               (0%)\r\n",
      "Colonized_Mouse_Experiments_What_Persists  1                               (0%)\r\n",
      "BGI_metagenomes                            1                               (0%)\r\n",
      "Bacteroides_sphingolipids_brainIHC         1                               (0%)\r\n"
     ]
    }
   ],
   "source": [
    "cat /ebio/abt3_projects/disk-usage"
   ]
  },
  {
   "cell_type": "markdown",
   "metadata": {
    "slideshow": {
     "slide_type": "slide"
    }
   },
   "source": [
    "# Threads/CPUs & memory\n",
    "\n",
    "[terminal: htop](http://127.0.0.1:9710/terminals/1)"
   ]
  }
 ],
 "metadata": {
  "celltoolbar": "Slideshow",
  "kernelspec": {
   "display_name": "Python 3",
   "language": "python",
   "name": "python3"
  },
  "language_info": {
   "codemirror_mode": {
    "name": "ipython",
    "version": 3
   },
   "file_extension": ".py",
   "mimetype": "text/x-python",
   "name": "python",
   "nbconvert_exporter": "python",
   "pygments_lexer": "ipython3",
   "version": "3.7.0"
  }
 },
 "nbformat": 4,
 "nbformat_minor": 2
}
