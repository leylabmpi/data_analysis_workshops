{
 "cells": [
  {
   "cell_type": "markdown",
   "metadata": {
    "slideshow": {
     "slide_type": "slide"
    }
   },
   "source": [
    "# qiime2\n",
    "\n",
    "* [qiime2 command line (q2cli)](https://docs.qiime2.org/2018.8/interfaces/q2cli/)\n",
    "* [LLA pipeline](https://gitlab.tuebingen.mpg.de/leylabmpi/pipelines/lla)\n",
    "* Working in R? Use `phyloseq`"
   ]
  },
  {
   "cell_type": "markdown",
   "metadata": {
    "slideshow": {
     "slide_type": "slide"
    }
   },
   "source": [
    "# Simple start\n",
    "\n",
    "```\n",
    "ssh USERNAME@rick\n",
    "\n",
    "export PATH=/ebio/abt3_projects/software/miniconda3_gt4.4/bin:$PATH\n",
    "    \n",
    "source activate qiime2-2018.6\n",
    "\n",
    "qiime --help\n",
    "```"
   ]
  },
  {
   "cell_type": "markdown",
   "metadata": {
    "slideshow": {
     "slide_type": "slide"
    }
   },
   "source": [
    "# Running large jobs\n",
    "\n",
    "Use the compute cluster. See [SGE job submission](https://confluence.eb.local:8443/display/LDU/SGE+job+submission)"
   ]
  }
 ],
 "metadata": {
  "celltoolbar": "Slideshow",
  "kernelspec": {
   "display_name": "Python [default]",
   "language": "python",
   "name": "python3"
  },
  "language_info": {
   "codemirror_mode": {
    "name": "ipython",
    "version": 3
   },
   "file_extension": ".py",
   "mimetype": "text/x-python",
   "name": "python",
   "nbconvert_exporter": "python",
   "pygments_lexer": "ipython3",
   "version": "3.7.0"
  }
 },
 "nbformat": 4,
 "nbformat_minor": 2
}
