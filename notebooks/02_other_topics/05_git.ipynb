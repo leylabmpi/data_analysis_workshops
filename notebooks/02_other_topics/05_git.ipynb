{
 "cells": [
  {
   "cell_type": "markdown",
   "metadata": {
    "slideshow": {
     "slide_type": "slide"
    }
   },
   "source": [
    "# git\n",
    "\n",
    "* version control\n",
    "* collaborating on projects"
   ]
  },
  {
   "cell_type": "markdown",
   "metadata": {
    "slideshow": {
     "slide_type": "slide"
    }
   },
   "source": [
    "# Version control\n",
    "\n",
    "A history of changes\n",
    "\n",
    "<img src=\"https://betterexplained.com/wp-content/uploads/version_control/basic_diffs.png\" width=600>"
   ]
  },
  {
   "cell_type": "markdown",
   "metadata": {
    "slideshow": {
     "slide_type": "slide"
    }
   },
   "source": [
    "## Branching\n",
    "\n",
    "Separating development and later merging\n",
    "\n",
    "<img src=\"https://betterexplained.com/wp-content/uploads/version_control/first_branch.png\" width=600>"
   ]
  },
  {
   "cell_type": "markdown",
   "metadata": {
    "slideshow": {
     "slide_type": "slide"
    }
   },
   "source": [
    "### Merging branches\n",
    "\n",
    "<img src=\"https://betterexplained.com/wp-content/uploads/version_control/merging.png\" width=600>"
   ]
  },
  {
   "cell_type": "markdown",
   "metadata": {
    "slideshow": {
     "slide_type": "slide"
    }
   },
   "source": [
    "# Collaborating with GitHub/GitLab\n",
    "\n",
    "## GitLab\n",
    "\n",
    "[leylabmpi GitLab account](https://gitlab.tuebingen.mpg.de/leylabmpi)\n",
    "\n",
    "## GitHub\n",
    "\n",
    "[leylabmpi GitHub account](https://github.com/orgs/leylabmpi/dashboard)"
   ]
  },
  {
   "cell_type": "markdown",
   "metadata": {},
   "source": [
    "# GitHub gists\n",
    "\n",
    "Useful for saving \"throw-away\" scripts\n",
    "\n",
    "[GitHub gists](https://gist.github.com/)"
   ]
  }
 ],
 "metadata": {
  "celltoolbar": "Slideshow",
  "kernelspec": {
   "display_name": "Python 3",
   "language": "python",
   "name": "python3"
  },
  "language_info": {
   "codemirror_mode": {
    "name": "ipython",
    "version": 3
   },
   "file_extension": ".py",
   "mimetype": "text/x-python",
   "name": "python",
   "nbconvert_exporter": "python",
   "pygments_lexer": "ipython3",
   "version": "3.7.0"
  }
 },
 "nbformat": 4,
 "nbformat_minor": 2
}
