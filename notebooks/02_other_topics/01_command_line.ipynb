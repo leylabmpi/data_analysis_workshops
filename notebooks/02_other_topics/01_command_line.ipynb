{
 "cells": [
  {
   "cell_type": "markdown",
   "metadata": {
    "slideshow": {
     "slide_type": "slide"
    }
   },
   "source": [
    "# Linux command line\n",
    "\n",
    "* logging on with `ssh`\n",
    "  * `~/.ssh/config`\n",
    "* basic commands\n",
    "  * quick keys\n",
    "    * `ctrl + a` => start of line\n",
    "    * `ctrl + e` => end of line\n",
    "    * `ctrl + k` => delete to end of line\n",
    "    * `ctrl + u` => delete to start of line\n",
    "* .bash_profile\n",
    "  * setting PATH and other variables\n",
    "  * creating aliases & functions\n",
    "* `htop` + `du`\n",
    "  * What you don't know can hurt others!\n",
    "* `screen`\n",
    "  * For long running jobs\n",
    "* iterm2\n",
    "  * An alternative to the OSX terminal\n",
    "* OSX finder + samba share \n",
    "  * Viewing server files with the OSX Finder\n",
    "* [Confluence docs](https://confluence.eb.local:8443/display/LDU/UNIX)\n"
   ]
  }
 ],
 "metadata": {
  "celltoolbar": "Slideshow",
  "kernelspec": {
   "display_name": "Python [default]",
   "language": "python",
   "name": "python3"
  },
  "language_info": {
   "codemirror_mode": {
    "name": "ipython",
    "version": 3
   },
   "file_extension": ".py",
   "mimetype": "text/x-python",
   "name": "python",
   "nbconvert_exporter": "python",
   "pygments_lexer": "ipython3",
   "version": "3.7.0"
  }
 },
 "nbformat": 4,
 "nbformat_minor": 2
}
