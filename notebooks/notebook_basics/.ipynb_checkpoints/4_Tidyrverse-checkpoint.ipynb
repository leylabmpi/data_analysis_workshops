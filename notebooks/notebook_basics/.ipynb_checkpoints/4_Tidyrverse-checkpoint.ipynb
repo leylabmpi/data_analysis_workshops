{
 "cells": [
  {
   "cell_type": "markdown",
   "metadata": {
    "slideshow": {
     "slide_type": "slide"
    }
   },
   "source": [
    "# Tidyverse\n",
    "\n",
    "[Hadley Wickham](http://hadley.nz/) created some amazing R packages for loading, editing, and visualizing data.\n",
    "This collection of R packages in collectively called the [Tidyverse](https://www.tidyverse.org/).\n",
    "\n",
    "* \"Tidy\" is refering to keeping data tidy\n",
    "* This notebook is an adaptation from [this tutorial](http://tclavelle.github.io/dplyr-tidyr-tutorial/)"
   ]
  },
  {
   "cell_type": "markdown",
   "metadata": {
    "slideshow": {
     "slide_type": "slide"
    }
   },
   "source": [
    "# Loading libraries"
   ]
  },
  {
   "cell_type": "code",
   "execution_count": null,
   "metadata": {
    "ExecuteTime": {
     "end_time": "2017-09-14T18:41:07.088212Z",
     "start_time": "2017-09-14T18:41:09.036Z"
    }
   },
   "outputs": [],
   "source": [
    "library(dplyr)\n",
    "library(tidyr)\n",
    "library(ggplot2)"
   ]
  },
  {
   "cell_type": "markdown",
   "metadata": {
    "collapsed": true,
    "slideshow": {
     "slide_type": "slide"
    }
   },
   "source": [
    "# Read data"
   ]
  },
  {
   "cell_type": "code",
   "execution_count": null,
   "metadata": {
    "ExecuteTime": {
     "end_time": "2017-09-14T18:40:29.709993Z",
     "start_time": "2017-09-14T18:40:31.939Z"
    }
   },
   "outputs": [],
   "source": [
    "cars = read.delim('../../src/mtcars.txt', sep='\\t')\n",
    "cars"
   ]
  },
  {
   "cell_type": "markdown",
   "metadata": {
    "slideshow": {
     "slide_type": "slide"
    }
   },
   "source": [
    "# pipeing\n",
    "\n",
    "`%>%` is a \"pipe\" in R "
   ]
  },
  {
   "cell_type": "code",
   "execution_count": null,
   "metadata": {
    "ExecuteTime": {
     "end_time": "2017-09-14T06:56:21.138711Z",
     "start_time": "2017-09-14T06:56:21.039Z"
    }
   },
   "outputs": [],
   "source": [
    "head(mtcars, n=3)"
   ]
  },
  {
   "cell_type": "code",
   "execution_count": null,
   "metadata": {
    "ExecuteTime": {
     "end_time": "2017-09-14T18:41:13.962082Z",
     "start_time": "2017-09-14T18:41:16.613Z"
    }
   },
   "outputs": [],
   "source": [
    "mtcars %>% head(., n=3)"
   ]
  },
  {
   "cell_type": "markdown",
   "metadata": {
    "slideshow": {
     "slide_type": "slide"
    }
   },
   "source": [
    "# Tidy data\n",
    "\n",
    "Formatting data using specific \"verbs\" such as..."
   ]
  },
  {
   "cell_type": "markdown",
   "metadata": {
    "slideshow": {
     "slide_type": "slide"
    }
   },
   "source": [
    "## dplyr\n",
    "\n",
    "  * `filter()` subset data based on logical criteria\n",
    "  * `select()` select certain columns\n",
    "  * `mutate()` create a new variable/column\n",
    "  * `group_by()` group data by common variables for performing calculations\n",
    "  * `summarize()` summarize data into a single row of values\n",
    "  * `arrange()` order rows by value of a column\n",
    "  * `rename()` rename columns"
   ]
  },
  {
   "cell_type": "markdown",
   "metadata": {
    "slideshow": {
     "slide_type": "slide"
    }
   },
   "source": [
    "## tidyr\n",
    "\n",
    "  * `gather()` and `spread()` convert data between wide and long format\n",
    "  * `separate()` and `unite()` separate a single column into multiple columns and vice versa\n",
    "  * `complete()` turns implicit missing values in explicit missing values by completing missing data combinations"
   ]
  },
  {
   "cell_type": "markdown",
   "metadata": {
    "slideshow": {
     "slide_type": "slide"
    }
   },
   "source": [
    "## filter() & select()"
   ]
  },
  {
   "cell_type": "code",
   "execution_count": null,
   "metadata": {
    "ExecuteTime": {
     "end_time": "2017-09-14T18:42:29.132978Z",
     "start_time": "2017-09-14T18:42:31.922Z"
    }
   },
   "outputs": [],
   "source": [
    "cars %>% \n",
    "    filter(mpg > 21, hp < 100) "
   ]
  },
  {
   "cell_type": "markdown",
   "metadata": {
    "slideshow": {
     "slide_type": "slide"
    }
   },
   "source": [
    "## group_by() & summarize()"
   ]
  },
  {
   "cell_type": "code",
   "execution_count": null,
   "metadata": {
    "ExecuteTime": {
     "end_time": "2017-09-14T18:43:05.019428Z",
     "start_time": "2017-09-14T18:43:07.819Z"
    }
   },
   "outputs": [],
   "source": [
    "cars %>% \n",
    "    group_by(gear) %>%\n",
    "    summarize(mean_mpg = mean(mpg)) "
   ]
  },
  {
   "cell_type": "markdown",
   "metadata": {
    "slideshow": {
     "slide_type": "slide"
    }
   },
   "source": [
    "# ggplot2"
   ]
  },
  {
   "cell_type": "markdown",
   "metadata": {
    "slideshow": {
     "slide_type": "slide"
    }
   },
   "source": [
    "## Simple plotting"
   ]
  },
  {
   "cell_type": "code",
   "execution_count": null,
   "metadata": {
    "ExecuteTime": {
     "end_time": "2017-09-14T18:44:09.780117Z",
     "start_time": "2017-09-14T18:44:12.232Z"
    }
   },
   "outputs": [],
   "source": [
    "options(repr.plot.height=3, repr.plot.width=4)\n",
    "ggplot(cars, aes(mpg, hp)) +\n",
    "    geom_point() "
   ]
  },
  {
   "cell_type": "markdown",
   "metadata": {
    "slideshow": {
     "slide_type": "slide"
    }
   },
   "source": [
    "## Combining tidy data & ggplot"
   ]
  },
  {
   "cell_type": "code",
   "execution_count": null,
   "metadata": {
    "ExecuteTime": {
     "end_time": "2017-09-14T06:53:06.945356Z",
     "start_time": "2017-09-14T06:53:05.577Z"
    }
   },
   "outputs": [],
   "source": [
    "cars_summary = cars %>% \n",
    "    group_by(gear) %>%\n",
    "    summarize(mean_mpg = mean(mpg)) \n",
    "\n",
    "options(repr.plot.height=3, repr.plot.width=4)\n",
    "ggplot(cars_summary, aes(gear, mean_mpg)) +\n",
    "    geom_bar(stat='identity')"
   ]
  },
  {
   "cell_type": "markdown",
   "metadata": {
    "slideshow": {
     "slide_type": "slide"
    }
   },
   "source": [
    "# Resources\n",
    "\n",
    "* [tidyr overview](https://blog.rstudio.com/2016/02/02/tidyr-0-4-0/)\n",
    "* [data wrangling cheat sheet](https://www.rstudio.com/wp-content/uploads/2015/02/data-wrangling-cheatsheet.pdf)\n",
    "* [ggplot2 cheat sheet](https://www.rstudio.com/wp-content/uploads/2015/03/ggplot2-cheatsheet.pdf)"
   ]
  }
 ],
 "metadata": {
  "celltoolbar": "Slideshow",
  "kernelspec": {
   "display_name": "R [conda env:py3]",
   "language": "R",
   "name": "conda-env-py3-r"
  },
  "language_info": {
   "codemirror_mode": "r",
   "file_extension": ".r",
   "mimetype": "text/x-r-source",
   "name": "R",
   "pygments_lexer": "r",
   "version": "3.4.1"
  },
  "toc": {
   "nav_menu": {},
   "number_sections": true,
   "sideBar": true,
   "skip_h1_title": false,
   "toc_cell": false,
   "toc_position": {},
   "toc_section_display": "block",
   "toc_window_display": false
  }
 },
 "nbformat": 4,
 "nbformat_minor": 2
}
