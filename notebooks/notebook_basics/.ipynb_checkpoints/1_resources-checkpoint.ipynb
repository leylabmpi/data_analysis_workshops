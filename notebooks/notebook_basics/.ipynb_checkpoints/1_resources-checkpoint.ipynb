{
 "cells": [
  {
   "cell_type": "markdown",
   "metadata": {
    "slideshow": {
     "slide_type": "slide"
    }
   },
   "source": [
    "# Jupyter notebook resources\n",
    "\n",
    "* [Ley Digital Universe](http://confluence.eb.local/display/LDU/Ley+Digital+Universe)\n",
    "\n",
    "## Examples\n",
    "\n",
    "* [A gallery of interesting Jupyter notebooks](https://github.com/jupyter/jupyter/wiki/A-gallery-of-interesting-Jupyter-Notebooks#introductory-tutorials)\n",
    "\n",
    "## Tutorials\n",
    "\n",
    "* [Greg Caporaso: An Introduction to Applied Bioinformatics](http://readiab.org/)\n",
    "* [Datacamp tutorial](https://www.datacamp.com/community/tutorials/tutorial-jupyter-notebook#gs.opae83c)\n",
    "* [Plotly tutorial](https://plot.ly/python/ipython-notebook-tutorial/)\n",
    "* [Plotly charts in R kernels](https://plot.ly/r/using-r-in-jupyter-notebooks/)\n",
    "* [QIIME tutorial](https://github.com/gregorylburgess/Qiime-Notebook)\n",
    "\n",
    "# R resources\n",
    "\n",
    "* [tidyr overview](https://blog.rstudio.com/2016/02/02/tidyr-0-4-0/)\n",
    "* [data wrangling cheat sheet](https://www.rstudio.com/wp-content/uploads/2015/02/data-wrangling-cheatsheet.pdf)\n",
    "* [ggplot2 cheat sheet](https://www.rstudio.com/wp-content/uploads/2015/03/ggplot2-cheatsheet.pdf)\n",
    "* [Rstudio cheat sheets](https://www.rstudio.com/resources/cheatsheets/)"
   ]
  },
  {
   "cell_type": "code",
   "execution_count": null,
   "metadata": {
    "collapsed": true
   },
   "outputs": [],
   "source": []
  }
 ],
 "metadata": {
  "celltoolbar": "Slideshow",
  "kernelspec": {
   "display_name": "Python [conda env:py3]",
   "language": "python",
   "name": "conda-env-py3-py"
  },
  "language_info": {
   "codemirror_mode": {
    "name": "ipython",
    "version": 3
   },
   "file_extension": ".py",
   "mimetype": "text/x-python",
   "name": "python",
   "nbconvert_exporter": "python",
   "pygments_lexer": "ipython3",
   "version": "3.6.2"
  },
  "toc": {
   "nav_menu": {},
   "number_sections": true,
   "sideBar": true,
   "skip_h1_title": false,
   "toc_cell": false,
   "toc_position": {},
   "toc_section_display": "block",
   "toc_window_display": false
  }
 },
 "nbformat": 4,
 "nbformat_minor": 2
}
