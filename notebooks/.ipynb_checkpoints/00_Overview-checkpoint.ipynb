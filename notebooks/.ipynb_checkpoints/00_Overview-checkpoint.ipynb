{
 "cells": [
  {
   "cell_type": "markdown",
   "metadata": {
    "slideshow": {
     "slide_type": "slide"
    }
   },
   "source": [
    "# Data analysis tool overview\n",
    "\n",
    "> All information can be found at [the Ley Digial Universe](http://confluence.eb.local/display/LDU/Infrastructure)\n",
    "\n",
    "> Make sure to read [Andre Noll's user-guide](http://ilm.eb.local/user-guide/)!\n",
    "\n",
    "* compute resources\n",
    "* projects\n",
    "* conda environments\n",
    "* jupyter notebooks\n",
    "* data analysis with R\n",
    "* git"
   ]
  },
  {
   "cell_type": "markdown",
   "metadata": {
    "slideshow": {
     "slide_type": "slide"
    }
   },
   "source": [
    "# Computational resources"
   ]
  },
  {
   "cell_type": "markdown",
   "metadata": {
    "slideshow": {
     "slide_type": "slide"
    }
   },
   "source": [
    "## Your computer\n",
    "\n",
    "### Pros\n",
    "\n",
    "* easy to use and set up\n",
    "\n",
    "### Concs\n",
    "\n",
    "* limited computational resources\n",
    "* hard for others to access your files  "
   ]
  },
  {
   "cell_type": "markdown",
   "metadata": {
    "slideshow": {
     "slide_type": "slide"
    }
   },
   "source": [
    "## The lab \"server\"\n",
    "\n",
    "Is actually comprised of multiple servers and virtual machines (VMs)\n",
    "  \n",
    "### File server\n",
    "\n",
    "The file server just stores the files\n",
    "\n",
    "Name: `lux`\n",
    "\n",
    "Location: `/ebio/abt3_projects/`"
   ]
  },
  {
   "cell_type": "markdown",
   "metadata": {
    "slideshow": {
     "slide_type": "slide"
    }
   },
   "source": [
    "### Submit host server: \"ivy\" \n",
    "   \n",
    "* CPUs: 80\n",
    "* Memory: 1TB\n",
    "* Virtual machines (VMs) on ivy\n",
    "  * \"rick\" = submit VM\n",
    "  * \"morty\" = VM for Rstudio-server\n",
    "  * \"shiny-wetlab\" = VM for Shiny apps "
   ]
  },
  {
   "cell_type": "markdown",
   "metadata": {
    "slideshow": {
     "slide_type": "slide"
    }
   },
   "source": [
    "### Compute cluster\n",
    "\n",
    "* Many servers connected together\n",
    "  * You submit jobs to the compute cluster from a \"submit host\"\n",
    "  * Our submit host is the \"rick\" VM\n",
    "* Sun Grid Engine (SGE)\n",
    "  * Schedules resource usage for jobs\n",
    "  * Jobs sit in a queue until the needed resources are available \n",
    "\n",
    "<img src=\"http://gridscheduler.sourceforge.net/howto/knoppix/grid-knoppix.jpg\" width=\"400\">"
   ]
  },
  {
   "cell_type": "markdown",
   "metadata": {
    "slideshow": {
     "slide_type": "slide"
    }
   },
   "source": [
    "### Compute cluster\n",
    "\n",
    "* Technical specs\n",
    "  * \\>20 nodes\n",
    "  * ~2200 CPUs\n",
    "  * Up to 2TB can be used for a single job (eg., metagenome assembly)\n",
    "  * For more information, see [Ganglia](http://ilm.eb.local/ganglia/)"
   ]
  },
  {
   "cell_type": "markdown",
   "metadata": {
    "slideshow": {
     "slide_type": "slide"
    }
   },
   "source": [
    "# Projects\n",
    "\n",
    "\n",
    "**From Andre Noll's user-guide:**\n",
    "\n",
    "For most departments and groups, the available file storage is subdivided into storage projects. Each storage project has its dedicated folder, the size of which can not exceed a pre-defined limit.\n",
    "New storage projects will only be created if the project has been acknowledged and documented. Documenting the storage requirements helps to\n",
    "\n",
    "* coordinate the disk usage among the members of the department,\n",
    "* keep the tape backup jobs in sync with the data on disk,\n",
    "* estimate the medium-term demand of disk space, \n",
    "* aid the **unlucky fellow** who is responsible to decide what to do with your data after you have left."
   ]
  },
  {
   "cell_type": "markdown",
   "metadata": {
    "slideshow": {
     "slide_type": "slide"
    }
   },
   "source": [
    "## Long term archive\n",
    "\n",
    "**From Andre Noll's user-guide:**\n",
    "\n",
    "According to the Max Planck regulations, all data used in publications must be kept for **10 years**, in case somebody wants to verify the results or redo the analysis performed in the paper"
   ]
  },
  {
   "cell_type": "markdown",
   "metadata": {
    "slideshow": {
     "slide_type": "slide"
    }
   },
   "source": [
    "## Setting up a project\n",
    "\n",
    "See [Project-specific environments](http://confluence.eb.local/display/LDU/Project-specific+environments) on Confluence"
   ]
  },
  {
   "cell_type": "markdown",
   "metadata": {
    "slideshow": {
     "slide_type": "slide"
    }
   },
   "source": [
    "## Existing projects"
   ]
  },
  {
   "cell_type": "code",
   "execution_count": 3,
   "metadata": {
    "scrolled": false
   },
   "outputs": [
    {
     "name": "stdout",
     "output_type": "stream",
     "text": [
      "\u001b[0m\u001b[01;34mamylase_oral_stool_microbiome\u001b[0m/              \u001b[01;34mmethanogen_host_evo\u001b[0m/\r\n",
      "\u001b[01;34mAnxiety_Twins_Metagenomes\u001b[0m/                  \u001b[01;34mMethanogen_SCFA\u001b[0m/\r\n",
      "\u001b[01;34mBacteroides_sphingolipids_brainIHC\u001b[0m/         \u001b[01;34mmicrobiome_of_TLR5_KO_mice\u001b[0m/\r\n",
      "\u001b[01;34mBGI_metagenomes\u001b[0m/                            \u001b[01;34mNIH_HIV_Miami\u001b[0m/\r\n",
      "\u001b[34;42mBifido_Lactose_tolerance\u001b[0m/                   \u001b[01;34mOral_Stool_Pilot_Processing\u001b[0m/\r\n",
      "\u001b[01;34mChristensenella_CM12\u001b[0m/                       \u001b[01;34mPGD_gut_microbiota\u001b[0m/\r\n",
      "\u001b[01;34mChristensenella_CM19\u001b[0m/                       \u001b[01;34mPolar_bear_gut_communities\u001b[0m/\r\n",
      "\u001b[01;34mChristensenella_Cornell\u001b[0m/                    \u001b[01;34mPseudoGenomes\u001b[0m/\r\n",
      "\u001b[01;34mChristensenella_Project\u001b[0m/                    \u001b[01;34mPseudoMetagenomes\u001b[0m/\r\n",
      "\u001b[01;34mChronic_Fatigue_Syndrome_Microbiome\u001b[0m/        \u001b[01;34mpseudomonas_maize_genome\u001b[0m/\r\n",
      "\u001b[01;34mCincinnati_bad_water\u001b[0m/                       \u001b[01;34mPsychrobacter_comparative_genomics\u001b[0m/\r\n",
      "\u001b[01;34mColonized_Mouse_Experiments_What_Persists\u001b[0m/  \u001b[01;34mRNASeq_Christensenella\u001b[0m/\r\n",
      "\u001b[01;34mcolumbian_gut_metagenome\u001b[0m/                   server-load\r\n",
      "\u001b[01;34mCornell_temporary\u001b[0m/                          \u001b[01;34mSIGR_MC_seqs_2016\u001b[0m/\r\n",
      "\u001b[01;34mdatabases\u001b[0m/                                  \u001b[01;34msmall_projects\u001b[0m/\r\n",
      "\u001b[01;34mdatabases_no-backup\u001b[0m/                        \u001b[01;34msoftware\u001b[0m/\r\n",
      "disk-usage                                  \u001b[01;34msptlc2_KO_mice_microbiome\u001b[0m/\r\n",
      "\u001b[01;34mDiversity_outbred_mouse_16S\u001b[0m/                \u001b[01;34mTEDDY_gut_microbiome_16S_FACS\u001b[0m/\r\n",
      "\u001b[01;34mDocumentation_Biosafety\u001b[0m/                    \u001b[37;44mtemp_data\u001b[0m/\r\n",
      "\u001b[01;34mEcoli_flagellin_microscopy\u001b[0m/                 \u001b[01;34mTGR5_VSG_Cummings\u001b[0m/\r\n",
      "\u001b[01;34mEcology_Synthetic_Communities\u001b[0m/              \u001b[01;34mTLR5_DMS\u001b[0m/\r\n",
      "\u001b[01;34mFattyAcids_SmallIntestine\u001b[0m/                  \u001b[01;34mTLR5_Functional_Metagenomics\u001b[0m/\r\n",
      "\u001b[01;34mFecal_Stability_Desiccant_Study\u001b[0m/            \u001b[01;34mtravelers_diarrhea\u001b[0m/\r\n",
      "\u001b[01;34mGeorg_animal_feces\u001b[0m/                         \u001b[01;34mTriclosan_oral_gut_microbiome\u001b[0m/\r\n",
      "\u001b[01;34mHUBIF_16S\u001b[0m/                                  \u001b[01;34mTUK_TLR5_het\u001b[0m/\r\n",
      "\u001b[01;34mjkoenig_PNAS_2011_ITS\u001b[0m/                      \u001b[01;34mTwinsUK\u001b[0m/\r\n",
      "\u001b[01;34mKoren_Finland_pregnancy_microbiome\u001b[0m/         \u001b[01;34mTwinsUK_Bifido\u001b[0m/\r\n",
      "\u001b[01;34mlta_bioreactors_microbiome\u001b[0m/                 \u001b[34;42mTwinsUK_Dectin_ITS\u001b[0m/\r\n",
      "\u001b[01;34mmaize_2010_2015_16S_analyses\u001b[0m/               \u001b[01;34mTwinsUK_viromes_Shao_Pei\u001b[0m/\r\n",
      "\u001b[01;34mMALDI_brain_imaging_sphingo\u001b[0m/                \u001b[01;34mvadinCA11\u001b[0m/\r\n",
      "\u001b[01;34mmethanogen_formate\u001b[0m/\r\n"
     ]
    }
   ],
   "source": [
    "ls /ebio/abt3_projects/"
   ]
  },
  {
   "cell_type": "markdown",
   "metadata": {
    "slideshow": {
     "slide_type": "slide"
    }
   },
   "source": [
    "### Project disk usage"
   ]
  },
  {
   "cell_type": "code",
   "execution_count": 4,
   "metadata": {},
   "outputs": [
    {
     "name": "stdout",
     "output_type": "stream",
     "text": [
      "disk usage (unit: Gigabytes)\r\n",
      "~~~~~~~~~~~~~~~~~~~~~~~~~~~~\r\n",
      "\r\n",
      "inode usage (unit: 1000 files)\r\n",
      "~~~~~~~~~~~~~~~~~~~~~~~~~~~~~~\r\n",
      "\r\n",
      "project disk usage (unit: Gigabytes)\r\n",
      "~~~~~~~~~~~~~~~~~~~~~~~~~~~~~~~~~~~~\r\n",
      "databases_no-backup                       *********************** 8123    (18%)\r\n",
      "amylase_oral_stool_microbiome             ********** 3734                  (8%)\r\n",
      "databases                                 ********** 3536                  (8%)\r\n",
      "TwinsUK_viromes_Shao_Pei                  ********* 3303                   (7%)\r\n",
      "Christensenella_CM12                      ******** 3069                    (7%)\r\n",
      "TwinsUK_Bifido                            ******** 2833                    (6%)\r\n",
      "TwinsUK                                   ******* 2754                     (6%)\r\n",
      "Christensenella_Project                   ***** 1838                       (4%)\r\n",
      "methanogen_host_evo                       **** 1622                        (3%)\r\n",
      "Bifido_Lactose_tolerance                  **** 1471                        (3%)\r\n",
      "TEDDY_gut_microbiome_16S_FACS             *** 1268                         (2%)\r\n",
      "vadinCA11                                 ** 1049                          (2%)\r\n",
      "pseudomonas_maize_genome                  ** 799                           (1%)\r\n",
      "PseudoMetagenomes                         * 680                            (1%)\r\n",
      "FattyAcids_SmallIntestine                 * 604                            (1%)\r\n",
      "Anxiety_Twins_Metagenomes                 * 545                            (1%)\r\n",
      "columbian_gut_metagenome                  * 516                            (1%)\r\n",
      "TwinsUK_Dectin_ITS                        * 458                            (1%)\r\n",
      "Bacteroides_sphingolipids_brainIHC        * 420                            (0%)\r\n",
      "Christensenella_Cornell                   * 400                            (0%)\r\n",
      "software                                   333                             (0%)\r\n",
      "Ecoli_flagellin_microscopy                 315                             (0%)\r\n",
      "TLR5_DMS                                   262                             (0%)\r\n",
      "PGD_gut_microbiota                         229                             (0%)\r\n",
      "BGI_metagenomes                            222                             (0%)\r\n",
      "Polar_bear_gut_communities                 205                             (0%)\r\n",
      "sptlc2_KO_mice_microbiome                  201                             (0%)\r\n",
      "sp_ckolmeder                               188                             (0%)\r\n",
      "sp_mkreutzer                               147                             (0%)\r\n",
      "Georg_animal_feces                         136                             (0%)\r\n",
      "Oral_Stool_Pilot_Processing                134                             (0%)\r\n",
      "NIH_HIV_Miami                              127                             (0%)\r\n",
      "microbiome_of_TLR5_KO_mice                 122                             (0%)\r\n",
      "travelers_diarrhea                         112                             (0%)\r\n",
      "MALDI_brain_imaging_sphingo                107                             (0%)\r\n",
      "Psychrobacter_comparative_genomics         100                             (0%)\r\n",
      "maize_2010_2015_16S_analyses               94                              (0%)\r\n",
      "sp_jsutter                                 93                              (0%)\r\n",
      "Diversity_outbred_mouse_16S                84                              (0%)\r\n",
      "sp_nyoungblut                              77                              (0%)\r\n",
      "sp_jdelacuesta                             77                              (0%)\r\n",
      "PseudoGenomes                              60                              (0%)\r\n",
      "Colonized_Mouse_Experiments_What_Persists  55                              (0%)\r\n",
      "SIGR_MC_seqs_2016                          51                              (0%)\r\n",
      "Fecal_Stability_Desiccant_Study            45                              (0%)\r\n",
      "sp_cfrick                                  43                              (0%)\r\n",
      "sp_henav                                   39                              (0%)\r\n",
      "HUBIF_16S                                  35                              (0%)\r\n",
      "methanogen_formate                         30                              (0%)\r\n",
      "lta_bioreactors_microbiome                 30                              (0%)\r\n",
      "sp_wwalters                                25                              (0%)\r\n",
      "Ecology_Synthetic_Communities              19                              (0%)\r\n",
      "Methanogen_SCFA                            18                              (0%)\r\n",
      "sp_gluque                                  13                              (0%)\r\n",
      "TGR5_VSG_Cummings                          11                              (0%)\r\n",
      "sp_vschmidt                                11                              (0%)\r\n",
      "sp_aruaud                                  8                               (0%)\r\n",
      "sp_aborbon                                 8                               (0%)\r\n",
      "TLR5_Functional_Metagenomics               6                               (0%)\r\n",
      "sp_zhenseler                               5                               (0%)\r\n",
      "sp_jmoreno                                 5                               (0%)\r\n",
      "sp_jwaters                                 3                               (0%)\r\n",
      "sp_dwelter                                 3                               (0%)\r\n",
      "sp_cfriedemann                             3                               (0%)\r\n",
      "temp_data                                  1                               (0%)\r\n",
      "\r\n",
      "project inode usage (unit: 1000 files)\r\n",
      "~~~~~~~~~~~~~~~~~~~~~~~~~~~~~~~~~~~~~~\r\n",
      "software                                  *********************** 3915    (19%)\r\n",
      "databases_no-backup                       ************** 2408             (12%)\r\n",
      "methanogen_host_evo                       ******** 1447                    (7%)\r\n",
      "vadinCA11                                 ****** 1043                      (5%)\r\n",
      "amylase_oral_stool_microbiome             ***** 965                        (4%)\r\n",
      "Psychrobacter_comparative_genomics        ***** 957                        (4%)\r\n",
      "PseudoGenomes                             *** 638                          (3%)\r\n",
      "TwinsUK_viromes_Shao_Pei                  *** 610                          (3%)\r\n",
      "HUBIF_16S                                 *** 601                          (3%)\r\n",
      "Anxiety_Twins_Metagenomes                 *** 572                          (2%)\r\n",
      "Bifido_Lactose_tolerance                  *** 539                          (2%)\r\n",
      "Christensenella_Project                   *** 517                          (2%)\r\n",
      "databases                                 ** 410                           (2%)\r\n",
      "columbian_gut_metagenome                  ** 404                           (2%)\r\n",
      "PseudoMetagenomes                         * 330                            (1%)\r\n",
      "travelers_diarrhea                        * 318                            (1%)\r\n",
      "Ecology_Synthetic_Communities             * 272                            (1%)\r\n",
      "SIGR_MC_seqs_2016                         * 216                            (1%)\r\n",
      "TwinsUK_Dectin_ITS                        * 214                            (1%)\r\n",
      "TwinsUK_Bifido                            * 209                            (1%)\r\n",
      "Christensenella_CM12                      * 189                            (0%)\r\n",
      "Georg_animal_feces                        * 183                            (0%)\r\n",
      "maize_2010_2015_16S_analyses              * 180                            (0%)\r\n",
      "sp_ckolmeder                              * 177                            (0%)\r\n",
      "TLR5_Functional_Metagenomics               169                             (0%)\r\n",
      "sp_aruaud                                  168                             (0%)\r\n",
      "sp_nyoungblut                              162                             (0%)\r\n",
      "NIH_HIV_Miami                              156                             (0%)\r\n",
      "PGD_gut_microbiota                         145                             (0%)\r\n",
      "sp_jdelacuesta                             138                             (0%)\r\n",
      "sp_aborbon                                 129                             (0%)\r\n",
      "sp_jmoreno                                 127                             (0%)\r\n",
      "sp_wwalters                                124                             (0%)\r\n",
      "Fecal_Stability_Desiccant_Study            123                             (0%)\r\n",
      "sp_zhenseler                               121                             (0%)\r\n",
      "sp_henav                                   119                             (0%)\r\n",
      "sp_jsutter                                 113                             (0%)\r\n",
      "sp_mkreutzer                               104                             (0%)\r\n",
      "TLR5_DMS                                   102                             (0%)\r\n",
      "sp_cfriedemann                             99                              (0%)\r\n",
      "sp_jwaters                                 94                              (0%)\r\n",
      "sp_dwelter                                 84                              (0%)\r\n",
      "microbiome_of_TLR5_KO_mice                 54                              (0%)\r\n",
      "Polar_bear_gut_communities                 49                              (0%)\r\n",
      "TwinsUK                                    35                              (0%)\r\n",
      "sp_vschmidt                                33                              (0%)\r\n",
      "TEDDY_gut_microbiome_16S_FACS              27                              (0%)\r\n",
      "Methanogen_SCFA                            27                              (0%)\r\n",
      "pseudomonas_maize_genome                   21                              (0%)\r\n",
      "Christensenella_Cornell                    14                              (0%)\r\n",
      "sptlc2_KO_mice_microbiome                  7                               (0%)\r\n",
      "FattyAcids_SmallIntestine                  6                               (0%)\r\n",
      "Diversity_outbred_mouse_16S                4                               (0%)\r\n",
      "sp_gluque                                  2                               (0%)\r\n",
      "methanogen_formate                         2                               (0%)\r\n",
      "Oral_Stool_Pilot_Processing                1                               (0%)\r\n",
      "Colonized_Mouse_Experiments_What_Persists  1                               (0%)\r\n",
      "BGI_metagenomes                            1                               (0%)\r\n",
      "Bacteroides_sphingolipids_brainIHC         1                               (0%)\r\n"
     ]
    }
   ],
   "source": [
    "cat /ebio/abt3_projects/disk-usage"
   ]
  },
  {
   "cell_type": "markdown",
   "metadata": {
    "slideshow": {
     "slide_type": "slide"
    }
   },
   "source": [
    "## Project descriptions"
   ]
  },
  {
   "cell_type": "markdown",
   "metadata": {},
   "source": [
    "Project descriptions are stored in [Andre's user-info git repo](http://ilm.eb.local/gitweb/?p=user-info;a=tree)"
   ]
  },
  {
   "cell_type": "markdown",
   "metadata": {
    "slideshow": {
     "slide_type": "slide"
    }
   },
   "source": [
    "# conda environments\n",
    "\n",
    "\n",
    "<img src=\"http://www.gurobi.com/images/logo-anaconda.png\" width=\"600\">"
   ]
  },
  {
   "cell_type": "markdown",
   "metadata": {
    "slideshow": {
     "slide_type": "slide"
    }
   },
   "source": [
    "## What are conda environments?\n",
    "\n",
    "Environments contain alternative installations of software (different software and/or software versions) that the user can easily switch between.\n",
    "\n",
    "\n",
    "**Examples**\n",
    "\n",
    "Example 1\n",
    "\n",
    "> QIIME is Python2, but Software XXX is only compatible with Python3. How do I use both?\n",
    "\n",
    "Example 2\n",
    "\n",
    "> The analysis for Project A used QIIME 1.9, but I want to use QIIME 2.0 for my new project. What if I need to redo the Project A analysis (eg., in response to manuscript peer review)? Do I have to re-install QIIME 1.9? Will QIIME 2.0 produce different results?\n",
    "\n",
    "Example 3\n",
    "\n",
    "> I want to reproduce the results of a former lab member. The lab member provides code to redo the analysis, but it requires specific software versions. How do I install those specific versions easily? Moreover, I don't want to use those software versions for analyses on other projects."
   ]
  },
  {
   "cell_type": "markdown",
   "metadata": {
    "slideshow": {
     "slide_type": "slide"
    }
   },
   "source": [
    "## How do I use conda environments?\n",
    "\n",
    "Examples:\n",
    "\n",
    "* Activate a python2 environment\n",
    "  * `source activate py2`\n",
    "* Activate a python3 environment\n",
    "  * `source activate py3`  \n",
    "  \n",
    "#### Using with Jupyter notebooks\n",
    "\n",
    "Each notebook file can use a different conda environment"
   ]
  },
  {
   "cell_type": "markdown",
   "metadata": {
    "slideshow": {
     "slide_type": "slide"
    }
   },
   "source": [
    "## How do I create environments?\n",
    "\n",
    "### Creation\n",
    "\n",
    "* Install conda \n",
    "* Add conda to your PATH\n",
    "* Create a python 2 enviroment that includes `checkm`\n",
    "  * `conda create -n py2_checkm python=2 bioconda::checkm-genome`\n",
    "* Create a python 3 enviroment that includes `panX` \n",
    "  * `conda create -n py3_panx python=3 bioconda::panx`"
   ]
  },
  {
   "cell_type": "markdown",
   "metadata": {
    "slideshow": {
     "slide_type": "slide"
    }
   },
   "source": [
    "## More information\n",
    "\n",
    "See [conda environment setup](http://confluence.eb.local/display/LDU/conda+environment+setup) on Confluence"
   ]
  },
  {
   "cell_type": "markdown",
   "metadata": {
    "slideshow": {
     "slide_type": "slide"
    }
   },
   "source": [
    "# Next: Jupyter notebooks\n",
    "\n",
    "[notebook basics](./notebook_basics/01_resources.ipynb)"
   ]
  }
 ],
 "metadata": {
  "celltoolbar": "Slideshow",
  "kernelspec": {
   "display_name": "Python 3",
   "language": "python",
   "name": "python3"
  },
  "language_info": {
   "codemirror_mode": {
    "name": "ipython",
    "version": 3
   },
   "file_extension": ".py",
   "mimetype": "text/x-python",
   "name": "python",
   "nbconvert_exporter": "python",
   "pygments_lexer": "ipython3",
   "version": "3.7.0"
  },
  "toc": {
   "base_numbering": 1,
   "nav_menu": {},
   "number_sections": true,
   "sideBar": true,
   "skip_h1_title": false,
   "title_cell": "Table of Contents",
   "title_sidebar": "Contents",
   "toc_cell": false,
   "toc_position": {},
   "toc_section_display": "block",
   "toc_window_display": false
  }
 },
 "nbformat": 4,
 "nbformat_minor": 2
}
