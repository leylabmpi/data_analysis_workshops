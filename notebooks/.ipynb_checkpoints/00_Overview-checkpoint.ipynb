{
 "cells": [
  {
   "cell_type": "markdown",
   "metadata": {
    "slideshow": {
     "slide_type": "slide"
    }
   },
   "source": [
    "# Data analysis tool overview\n",
    "\n",
    "> All information can be found at [the Ley Digial Universe](http://confluence.eb.local/display/LDU/Infrastructure)\n",
    "\n",
    "> Make sure to read [Andre Noll's user-guide](http://ilm.eb.local/user-guide/)!\n",
    "\n",
    "* compute resources\n",
    "* projects\n",
    "* conda environments\n",
    "* jupyter notebooks\n",
    "* data analysis with R\n",
    "* git"
   ]
  },
  {
   "cell_type": "markdown",
   "metadata": {
    "slideshow": {
     "slide_type": "slide"
    }
   },
   "source": [
    "# Computational resources"
   ]
  },
  {
   "cell_type": "markdown",
   "metadata": {
    "slideshow": {
     "slide_type": "slide"
    }
   },
   "source": [
    "## Your computer\n",
    "\n",
    "### Pros\n",
    "\n",
    "* easy to use and set up\n",
    "\n",
    "### Concs\n",
    "\n",
    "* limited computational resources\n",
    "* hard for others to access your files  "
   ]
  },
  {
   "cell_type": "markdown",
   "metadata": {
    "slideshow": {
     "slide_type": "slide"
    }
   },
   "source": [
    "## The lab \"server\"\n",
    "\n",
    "Is actually comprised of multiple servers and virtual machines (VMs)\n",
    "  \n",
    "### File server\n",
    "\n",
    "The file server just stores the files\n",
    "\n",
    "Name: `lux`\n",
    "\n",
    "Location: `/ebio/abt3_projects/`"
   ]
  },
  {
   "cell_type": "markdown",
   "metadata": {
    "slideshow": {
     "slide_type": "slide"
    }
   },
   "source": [
    "### Submit host server: \"ivy\" \n",
    "   \n",
    "* CPUs: 80\n",
    "* Memory: 1TB\n",
    "* Virtual machines (VMs) on ivy\n",
    "  * \"rick\" = submit VM\n",
    "  * \"morty\" = VM for Rstudio-server\n",
    "  * \"shiny-wetlab\" = VM for Shiny apps "
   ]
  },
  {
   "cell_type": "markdown",
   "metadata": {
    "slideshow": {
     "slide_type": "subslide"
    }
   },
   "source": [
    "### Logging on via ssh\n",
    "\n",
    "`ssh nyoungblut@rick.eb.local`\n",
    "\n",
    "> NOTE: \".eb.local\" is only needed if using a VPN"
   ]
  },
  {
   "cell_type": "markdown",
   "metadata": {
    "slideshow": {
     "slide_type": "slide"
    }
   },
   "source": [
    "### Compute cluster\n",
    "\n",
    "* Many servers connected together\n",
    "  * You submit jobs to the compute cluster from a \"submit host\"\n",
    "  * Our submit host is the \"rick\" VM\n",
    "* Sun Grid Engine (SGE)\n",
    "  * Schedules resource usage for jobs\n",
    "  * Jobs sit in a queue until the needed resources are available \n",
    "\n",
    "<img src=\"http://gridscheduler.sourceforge.net/howto/knoppix/grid-knoppix.jpg\" width=\"400\">"
   ]
  },
  {
   "cell_type": "markdown",
   "metadata": {
    "slideshow": {
     "slide_type": "slide"
    }
   },
   "source": [
    "### Compute cluster\n",
    "\n",
    "* Technical specs\n",
    "  * \\>20 nodes\n",
    "  * ~2200 CPUs\n",
    "  * Up to 2TB can be used for a single job (eg., metagenome assembly)\n",
    "  * For more information, see [Ganglia](http://ilm.eb.local/ganglia/)"
   ]
  },
  {
   "cell_type": "markdown",
   "metadata": {
    "slideshow": {
     "slide_type": "slide"
    }
   },
   "source": [
    "# Projects\n",
    "\n",
    "\n",
    "**From Andre Noll's user-guide:**\n",
    "\n",
    "For most departments and groups, the available file storage is subdivided into storage projects. Each storage project has its dedicated folder, the size of which can not exceed a pre-defined limit.\n",
    "New storage projects will only be created if the project has been acknowledged and documented. Documenting the storage requirements helps to\n",
    "\n",
    "* coordinate the disk usage among the members of the department,\n",
    "* keep the tape backup jobs in sync with the data on disk,\n",
    "* estimate the medium-term demand of disk space, \n",
    "* aid the **unlucky fellow** who is responsible to decide what to do with your data after you have left."
   ]
  },
  {
   "cell_type": "markdown",
   "metadata": {
    "slideshow": {
     "slide_type": "slide"
    }
   },
   "source": [
    "## Long term archive\n",
    "\n",
    "**From Andre Noll's user-guide:**\n",
    "\n",
    "According to the Max Planck regulations, all data used in publications must be kept for **10 years**, in case somebody wants to verify the results or redo the analysis performed in the paper"
   ]
  },
  {
   "cell_type": "markdown",
   "metadata": {
    "slideshow": {
     "slide_type": "slide"
    }
   },
   "source": [
    "## Setting up a project\n",
    "\n",
    "See [Project-specific environments](http://confluence.eb.local/display/LDU/Project-specific+environments) on Confluence"
   ]
  },
  {
   "cell_type": "markdown",
   "metadata": {
    "slideshow": {
     "slide_type": "slide"
    }
   },
   "source": [
    "## Existing projects"
   ]
  },
  {
   "cell_type": "code",
   "execution_count": null,
   "metadata": {
    "scrolled": false
   },
   "outputs": [],
   "source": [
    "ls /ebio/abt3_projects/"
   ]
  },
  {
   "cell_type": "markdown",
   "metadata": {
    "slideshow": {
     "slide_type": "slide"
    }
   },
   "source": [
    "### Project disk usage"
   ]
  },
  {
   "cell_type": "code",
   "execution_count": null,
   "metadata": {
    "scrolled": false
   },
   "outputs": [],
   "source": [
    "cat /ebio/abt3_projects/disk-usage"
   ]
  },
  {
   "cell_type": "markdown",
   "metadata": {
    "slideshow": {
     "slide_type": "slide"
    }
   },
   "source": [
    "## Project descriptions"
   ]
  },
  {
   "cell_type": "markdown",
   "metadata": {},
   "source": [
    "Project descriptions are stored in [Andre's user-info git repo](http://ilm.eb.local/gitweb/?p=user-info;a=tree)\n",
    "\n",
    "**Example:**\n",
    "\n",
    "```\n",
    "who: vschmidt\n",
    "pi: rley\n",
    "size: 900G\n",
    "start: 2018-05\n",
    "end: 2020-01\n",
    "server: lux.eb.local\n",
    "mountpoint: /ebio/abt3_projects\n",
    "acked-by: wwalters\n",
    "backup: yes\n",
    "\n",
    "This is for 16S analyses of the HUBIF study: stool samples from Gabon, Vietnam,\n",
    "and Germany. Assuming an average size of 2G per sample (1G per fastq.gz, 1G per\n",
    "downstream analysis file), and assuming 450 samples = 900G total request.\n",
    "Eventually this sample size will possibly rise, but for now 450 samples are\n",
    "ready for analysis.\n",
    "\n",
    "These data will include sequencing data, as well as intermediate/final data\n",
    "processed data using QIIME and other microbial community analysis software.\n",
    "```"
   ]
  },
  {
   "cell_type": "markdown",
   "metadata": {
    "slideshow": {
     "slide_type": "slide"
    }
   },
   "source": [
    "# conda environments\n",
    "\n",
    "\n",
    "<img src=\"http://www.gurobi.com/images/logo-anaconda.png\" width=\"600\">"
   ]
  },
  {
   "cell_type": "markdown",
   "metadata": {
    "slideshow": {
     "slide_type": "slide"
    }
   },
   "source": [
    "## What are conda environments?\n",
    "\n",
    "Environments contain alternative installations of software (different software and/or software versions) that the user can easily switch between.\n",
    "\n",
    "\n",
    "**Examples**\n",
    "\n",
    "Example 1\n",
    "\n",
    "> QIIME is Python2, but Software XXX is only compatible with Python3. How do I use both?\n",
    "\n",
    "Example 2\n",
    "\n",
    "> The analysis for Project A used QIIME 1.9, but I want to use QIIME 2.0 for my new project. What if I need to redo the Project A analysis (eg., in response to manuscript peer review)? Do I have to re-install QIIME 1.9? Will QIIME 2.0 produce different results?\n",
    "\n",
    "Example 3\n",
    "\n",
    "> I want to reproduce the results of a former lab member. The lab member provides code to redo the analysis, but it requires specific software versions. How do I install those specific versions easily? Moreover, I don't want to use those software versions for analyses on other projects."
   ]
  },
  {
   "cell_type": "markdown",
   "metadata": {
    "slideshow": {
     "slide_type": "slide"
    }
   },
   "source": [
    "## How do I use conda environments?\n",
    "\n",
    "Examples:\n",
    "\n",
    "* Activate a python2 environment\n",
    "  * `source activate py2`\n",
    "* Activate a python3 environment\n",
    "  * `source activate py3`  \n",
    "  \n",
    "#### Using with Jupyter notebooks\n",
    "\n",
    "Each notebook file can use a different conda environment"
   ]
  },
  {
   "cell_type": "markdown",
   "metadata": {
    "slideshow": {
     "slide_type": "slide"
    }
   },
   "source": [
    "## How do I create environments?\n",
    "\n",
    "### Creation\n",
    "\n",
    "> You don't have to install conda. We have a centralized install that all can use. \n",
    "\n",
    "* [Install miniconda](https://conda.io/docs/user-guide/install/linux.html)\n",
    "* Add conda to your PATH\n",
    "* Create a python 2 enviroment that includes `checkm`\n",
    "  * `conda create -n py2_checkm python=2 bioconda::checkm-genome`\n",
    "* Create a python 3 enviroment that includes `panX` \n",
    "  * `conda create -n py3_panx python=3 bioconda::panx`"
   ]
  },
  {
   "cell_type": "markdown",
   "metadata": {
    "slideshow": {
     "slide_type": "slide"
    }
   },
   "source": [
    "## More information\n",
    "\n",
    "See [conda environment setup](http://confluence.eb.local/display/LDU/conda+environment+setup) on Confluence"
   ]
  },
  {
   "cell_type": "markdown",
   "metadata": {
    "slideshow": {
     "slide_type": "slide"
    }
   },
   "source": [
    "# Next: Jupyter notebooks\n",
    "\n",
    "[notebook basics](./01_notebook_basics/01_resources.ipynb)"
   ]
  }
 ],
 "metadata": {
  "celltoolbar": "Slideshow",
  "kernelspec": {
   "display_name": "Python [default]",
   "language": "python",
   "name": "python3"
  },
  "language_info": {
   "codemirror_mode": {
    "name": "ipython",
    "version": 3
   },
   "file_extension": ".py",
   "mimetype": "text/x-python",
   "name": "python",
   "nbconvert_exporter": "python",
   "pygments_lexer": "ipython3",
   "version": "3.7.0"
  },
  "toc": {
   "base_numbering": 1,
   "nav_menu": {},
   "number_sections": true,
   "sideBar": true,
   "skip_h1_title": false,
   "title_cell": "Table of Contents",
   "title_sidebar": "Contents",
   "toc_cell": false,
   "toc_position": {},
   "toc_section_display": "block",
   "toc_window_display": false
  }
 },
 "nbformat": 4,
 "nbformat_minor": 2
}
