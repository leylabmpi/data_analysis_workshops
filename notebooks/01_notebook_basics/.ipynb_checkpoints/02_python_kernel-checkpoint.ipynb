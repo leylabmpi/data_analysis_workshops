{
 "cells": [
  {
   "cell_type": "markdown",
   "metadata": {
    "slideshow": {
     "slide_type": "slide"
    }
   },
   "source": [
    "# Basics of jupyter notebook\n",
    "\n",
    "This notebook just shows the basics on using a Jupyter notebook"
   ]
  },
  {
   "cell_type": "markdown",
   "metadata": {
    "slideshow": {
     "slide_type": "slide"
    }
   },
   "source": [
    "# Markdown cells"
   ]
  },
  {
   "cell_type": "markdown",
   "metadata": {
    "slideshow": {
     "slide_type": "slide"
    }
   },
   "source": [
    "## Headers\n",
    "\n",
    "# H1\n",
    "## H2\n",
    "### H3\n",
    "#### H4\n",
    "##### H5"
   ]
  },
  {
   "cell_type": "markdown",
   "metadata": {
    "slideshow": {
     "slide_type": "slide"
    }
   },
   "source": [
    "## Lists\n",
    "\n",
    "Unordered list\n",
    "\n",
    "* Dog\n",
    "* Cat\n",
    "* Fish\n",
    "\n",
    "Ordered list\n",
    "\n",
    "1. first item\n",
    "1. second item\n",
    "1. third item"
   ]
  },
  {
   "cell_type": "markdown",
   "metadata": {
    "slideshow": {
     "slide_type": "slide"
    }
   },
   "source": [
    "## Blockquotes\n",
    "\n",
    "> Blockquotes are very handy in email to emulate reply text.\n",
    "> This line is part of the same quote.\n",
    "\n",
    "Quote break.\n",
    "\n",
    "> This is a very long line that will still be quoted properly when it wraps. Oh boy let's keep writing to make sure this is long enough to actually wrap for everyone. Oh, you can *put* **Markdown** into a blockquote. "
   ]
  },
  {
   "cell_type": "markdown",
   "metadata": {
    "slideshow": {
     "slide_type": "slide"
    }
   },
   "source": [
    "## Links\n",
    "\n",
    "[Ley Lab Website](http://www.leylab.com/)"
   ]
  },
  {
   "cell_type": "markdown",
   "metadata": {
    "slideshow": {
     "slide_type": "slide"
    }
   },
   "source": [
    "## Code\n",
    "\n",
    "One line:\n",
    "\n",
    "`[x * 10 for x in range(10)]`\n",
    "\n",
    "Multi-line:\n",
    "\n",
    "``` python\n",
    "y = []\n",
    "for x in range(10):\n",
    "    y = y.append(x * 10)\n",
    "```\n"
   ]
  },
  {
   "cell_type": "markdown",
   "metadata": {
    "slideshow": {
     "slide_type": "slide"
    }
   },
   "source": [
    "## LaTeX equations\n",
    "\n",
    "$$e^x=\\sum_{i=0}^\\infty \\frac{1}{i!}x^i$$\n",
    "\n",
    "[SIP modeling](https://github.com/nick-youngblut/deltaGC/blob/master/ipynb/CsCl_time_to_Eq.ipynb)"
   ]
  },
  {
   "cell_type": "markdown",
   "metadata": {
    "slideshow": {
     "slide_type": "slide"
    }
   },
   "source": [
    "## Tables\n",
    "\n",
    "| Tables        | Are           | Cool  |\n",
    "| ------------- |:-------------:| -----:|\n",
    "| col 3 is      | right-aligned | \\$160 |\n",
    "| col 2 is      | centered      |   \\$12 |\n",
    "| zebra stripes | are neat      |    \\$1 |"
   ]
  },
  {
   "cell_type": "markdown",
   "metadata": {
    "slideshow": {
     "slide_type": "slide"
    }
   },
   "source": [
    "## Images\n",
    "\n",
    "Inline-style: \n",
    "![alt text](https://github.com/adam-p/markdown-here/raw/master/src/common/images/icon48.png \"Logo Title Text 1\")\n",
    "\n",
    "Reference-style: \n",
    "![alt text][logo]\n",
    "\n",
    "[logo]: https://github.com/adam-p/markdown-here/raw/master/src/common/images/icon48.png \"Logo Title Text 2\""
   ]
  },
  {
   "cell_type": "markdown",
   "metadata": {
    "slideshow": {
     "slide_type": "slide"
    }
   },
   "source": [
    "## Video\n",
    "\n",
    "[![IMAGE ALT TEXT HERE](http://img.youtube.com/vi/YOUTUBE_VIDEO_ID_HERE/0.jpg)](https://www.youtube.com/watch?v=pCSAdeg-M1E)"
   ]
  },
  {
   "cell_type": "markdown",
   "metadata": {
    "slideshow": {
     "slide_type": "slide"
    }
   },
   "source": [
    "## Other\n",
    "\n",
    "***\n",
    "\n",
    "### Horizontal line\n",
    "\n",
    "***"
   ]
  },
  {
   "cell_type": "markdown",
   "metadata": {
    "slideshow": {
     "slide_type": "slide"
    }
   },
   "source": [
    "# Code cells\n",
    "\n",
    "This is a python kernel, so code in cells will be in python"
   ]
  },
  {
   "cell_type": "code",
   "execution_count": null,
   "metadata": {
    "ExecuteTime": {
     "end_time": "2017-09-13T19:57:34.344476Z",
     "start_time": "2017-09-13T19:57:34.337047Z"
    }
   },
   "outputs": [],
   "source": [
    "print('test')"
   ]
  },
  {
   "cell_type": "code",
   "execution_count": null,
   "metadata": {
    "ExecuteTime": {
     "end_time": "2017-09-13T19:57:36.092548Z",
     "start_time": "2017-09-13T19:57:36.084728Z"
    }
   },
   "outputs": [],
   "source": [
    "# won't work because this is a Python 3 kernel\n",
    "print 'test'"
   ]
  },
  {
   "cell_type": "code",
   "execution_count": null,
   "metadata": {
    "ExecuteTime": {
     "end_time": "2017-09-13T19:57:37.172488Z",
     "start_time": "2017-09-13T19:57:37.164392Z"
    }
   },
   "outputs": [],
   "source": [
    "[x * 10 for x in range(10)]"
   ]
  },
  {
   "cell_type": "code",
   "execution_count": null,
   "metadata": {
    "ExecuteTime": {
     "end_time": "2017-09-13T19:57:38.140536Z",
     "start_time": "2017-09-13T19:57:38.129517Z"
    }
   },
   "outputs": [],
   "source": [
    "import os\n",
    "?os.path.join"
   ]
  },
  {
   "cell_type": "markdown",
   "metadata": {
    "slideshow": {
     "slide_type": "slide"
    }
   },
   "source": [
    "# Bash commands\n",
    "\n",
    "> many bash commands are available in python kernels"
   ]
  },
  {
   "cell_type": "code",
   "execution_count": null,
   "metadata": {
    "ExecuteTime": {
     "end_time": "2017-09-14T18:33:40.080804Z",
     "start_time": "2017-09-14T18:33:39.947986Z"
    }
   },
   "outputs": [],
   "source": [
    "ls"
   ]
  },
  {
   "cell_type": "code",
   "execution_count": null,
   "metadata": {
    "ExecuteTime": {
     "end_time": "2017-09-14T18:33:42.144573Z",
     "start_time": "2017-09-14T18:33:42.123287Z"
    }
   },
   "outputs": [],
   "source": [
    "pwd"
   ]
  },
  {
   "cell_type": "code",
   "execution_count": null,
   "metadata": {
    "ExecuteTime": {
     "end_time": "2017-09-14T18:33:43.528494Z",
     "start_time": "2017-09-14T18:33:43.514809Z"
    }
   },
   "outputs": [],
   "source": [
    "%cd ../\n",
    "%pwd\n",
    "%cd -\n",
    "%pwd"
   ]
  },
  {
   "cell_type": "markdown",
   "metadata": {
    "slideshow": {
     "slide_type": "slide"
    }
   },
   "source": [
    "# Magics\n",
    "\n",
    "* These are special commands to increase functionality of Jupyter\n",
    "* See [Built-in magics](http://ipython.readthedocs.io/en/stable/interactive/magics.html) for a full list"
   ]
  },
  {
   "cell_type": "code",
   "execution_count": null,
   "metadata": {
    "slideshow": {
     "slide_type": "slide"
    }
   },
   "outputs": [],
   "source": [
    "# all build-in magics\n",
    "%lsmagic"
   ]
  },
  {
   "cell_type": "code",
   "execution_count": null,
   "metadata": {
    "ExecuteTime": {
     "end_time": "2017-09-14T18:34:45.632524Z",
     "start_time": "2017-09-14T18:34:45.620740Z"
    }
   },
   "outputs": [],
   "source": [
    "# get help\n",
    "?%timeit"
   ]
  },
  {
   "cell_type": "markdown",
   "metadata": {
    "slideshow": {
     "slide_type": "slide"
    }
   },
   "source": [
    "### Line magics"
   ]
  },
  {
   "cell_type": "code",
   "execution_count": null,
   "metadata": {},
   "outputs": [],
   "source": [
    "# change directory\n",
    "%cd .."
   ]
  },
  {
   "cell_type": "code",
   "execution_count": null,
   "metadata": {
    "ExecuteTime": {
     "end_time": "2017-09-14T18:36:49.680500Z",
     "start_time": "2017-09-14T18:36:49.673660Z"
    }
   },
   "outputs": [],
   "source": [
    "%time a = [x for x in range(10**4)]"
   ]
  },
  {
   "cell_type": "code",
   "execution_count": null,
   "metadata": {
    "ExecuteTime": {
     "end_time": "2017-09-14T18:35:54.284494Z",
     "start_time": "2017-09-14T18:35:54.277518Z"
    }
   },
   "outputs": [],
   "source": [
    "%timeit -n 100 [x * 10 for x in range(10)]"
   ]
  },
  {
   "cell_type": "markdown",
   "metadata": {
    "slideshow": {
     "slide_type": "slide"
    }
   },
   "source": [
    "### Cell magics"
   ]
  },
  {
   "cell_type": "code",
   "execution_count": null,
   "metadata": {
    "ExecuteTime": {
     "end_time": "2017-09-13T19:59:27.668610Z",
     "start_time": "2017-09-13T19:59:27.650459Z"
    }
   },
   "outputs": [],
   "source": [
    "%%bash\n",
    "echo This is bash!\n",
    "find . -name \"*ipynb\" | head -n 5"
   ]
  },
  {
   "cell_type": "markdown",
   "metadata": {
    "slideshow": {
     "slide_type": "slide"
    }
   },
   "source": [
    "#### rpy2"
   ]
  },
  {
   "cell_type": "code",
   "execution_count": null,
   "metadata": {
    "ExecuteTime": {
     "end_time": "2017-09-13T20:01:26.092707Z",
     "start_time": "2017-09-13T20:01:23.658035Z"
    }
   },
   "outputs": [],
   "source": [
    "%load_ext rpy2.ipython"
   ]
  },
  {
   "cell_type": "code",
   "execution_count": null,
   "metadata": {
    "ExecuteTime": {
     "end_time": "2017-09-13T20:01:28.144467Z",
     "start_time": "2017-09-13T20:01:26.094977Z"
    }
   },
   "outputs": [],
   "source": [
    "%%R -h 300 -w 500\n",
    "print('test')\n",
    "hist(rnorm(1000))"
   ]
  },
  {
   "cell_type": "markdown",
   "metadata": {
    "slideshow": {
     "slide_type": "slide"
    }
   },
   "source": [
    "# Moving on...\n",
    "\n",
    "[R kernel](./03_R_kernel.ipynb)"
   ]
  }
 ],
 "metadata": {
  "celltoolbar": "Slideshow",
  "kernelspec": {
   "display_name": "Python [default]",
   "language": "python",
   "name": "python3"
  },
  "language_info": {
   "codemirror_mode": {
    "name": "ipython",
    "version": 3
   },
   "file_extension": ".py",
   "mimetype": "text/x-python",
   "name": "python",
   "nbconvert_exporter": "python",
   "pygments_lexer": "ipython3",
   "version": "3.7.0"
  },
  "toc": {
   "nav_menu": {},
   "number_sections": true,
   "sideBar": true,
   "skip_h1_title": false,
   "toc_cell": false,
   "toc_position": {},
   "toc_section_display": "block",
   "toc_window_display": false
  }
 },
 "nbformat": 4,
 "nbformat_minor": 2
}
